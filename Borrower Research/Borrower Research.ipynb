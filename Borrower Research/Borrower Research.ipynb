{
 "cells": [
  {
   "cell_type": "markdown",
   "id": "386f2ae7",
   "metadata": {
    "deletable": false,
    "editable": false,
    "id": "386f2ae7"
   },
   "source": [
    "# Исследование надежности заемщиков\n"
   ]
  },
  {
   "cell_type": "markdown",
   "id": "da0dda00",
   "metadata": {},
   "source": [
    "**Описание проекта**\n",
    "\n",
    "Заказчик — кредитный отдел банка. Нужно разобраться, влияет ли семейное положение и количество детей клиента на факт погашения кредита в срок. Входные данные от банка — статистика о платёжеспособности клиентов.\n",
    "\n",
    "Результаты исследования будут учтены при построении модели кредитного скоринга — специальной системы, которая оценивает способность потенциального заёмщика вернуть кредит банку.\n",
    "\n",
    "**Описание данных:**\n",
    "*\t`children` — количество детей в семье,\n",
    "*\t`days_employed` — общий трудовой стаж в днях,\n",
    "*\t`dob_years` — возраст клиента в годах,\n",
    "*\t`education` — уровень образования клиента,\n",
    "*\t`education_id` — идентификатор уровня образования,\n",
    "*\t`family_status` — семейное положение,\n",
    "*\t`family_status_id` — идентификатор семейного положения,\n",
    "*\t`gender` — пол клиента,\n",
    "*\t`income_type` — тип занятости,\n",
    "*\t`debt` — имел ли задолженность по возврату кредитов,\n",
    "*\t`total_income` — ежемесячный доход,\n",
    "*\t`purpose` — цель получения кредита.\n"
   ]
  },
  {
   "cell_type": "markdown",
   "id": "ffe86f65",
   "metadata": {
    "deletable": false,
    "editable": false,
    "id": "ffe86f65"
   },
   "source": [
    "Во второй части проекта вы выполните шаги 3 и 4. Их вручную проверит ревьюер.\n",
    "Чтобы вам не пришлось писать код заново для шагов 1 и 2, мы добавили авторские решения в ячейки с кодом. \n",
    "\n"
   ]
  },
  {
   "cell_type": "markdown",
   "id": "26613308",
   "metadata": {
    "deletable": false,
    "editable": false,
    "id": "26613308"
   },
   "source": [
    "## Откройте таблицу и изучите общую информацию о данных"
   ]
  },
  {
   "cell_type": "markdown",
   "id": "3c9f838e",
   "metadata": {
    "deletable": false,
    "editable": false,
    "id": "3c9f838e"
   },
   "source": [
    "**Задание 1. Импортируйте библиотеку pandas. Считайте данные из csv-файла в датафрейм и сохраните в переменную `data`. Путь к файлу:**\n",
    "\n",
    "`/datasets/data.csv`"
   ]
  },
  {
   "cell_type": "code",
   "execution_count": 1,
   "id": "77a68a90",
   "metadata": {
    "deletable": false,
    "id": "77a68a90"
   },
   "outputs": [],
   "source": [
    "# импортируем нужные библиотеки\n",
    "import pandas as pd\n",
    "import seaborn\n",
    "\n",
    "try:\n",
    "    data = pd.read_csv('/datasets/data.csv')\n",
    "except:\n",
    "    data = pd.read_csv('https://code.s3.yandex.net/datasets/data.csv')"
   ]
  },
  {
   "cell_type": "markdown",
   "id": "45365635",
   "metadata": {
    "deletable": false,
    "editable": false,
    "id": "45365635"
   },
   "source": [
    "**Задание 2. Выведите первые 20 строчек датафрейма `data` на экран.**"
   ]
  },
  {
   "cell_type": "code",
   "execution_count": 2,
   "id": "b0451a9a",
   "metadata": {
    "deletable": false,
    "id": "b0451a9a",
    "outputId": "1a8f3ef2-d323-4ec2-ddf7-89670b5944c4",
    "scrolled": true
   },
   "outputs": [
    {
     "data": {
      "text/html": [
       "<div>\n",
       "<style scoped>\n",
       "    .dataframe tbody tr th:only-of-type {\n",
       "        vertical-align: middle;\n",
       "    }\n",
       "\n",
       "    .dataframe tbody tr th {\n",
       "        vertical-align: top;\n",
       "    }\n",
       "\n",
       "    .dataframe thead th {\n",
       "        text-align: right;\n",
       "    }\n",
       "</style>\n",
       "<table border=\"1\" class=\"dataframe\">\n",
       "  <thead>\n",
       "    <tr style=\"text-align: right;\">\n",
       "      <th></th>\n",
       "      <th>children</th>\n",
       "      <th>days_employed</th>\n",
       "      <th>dob_years</th>\n",
       "      <th>education</th>\n",
       "      <th>education_id</th>\n",
       "      <th>family_status</th>\n",
       "      <th>family_status_id</th>\n",
       "      <th>gender</th>\n",
       "      <th>income_type</th>\n",
       "      <th>debt</th>\n",
       "      <th>total_income</th>\n",
       "      <th>purpose</th>\n",
       "    </tr>\n",
       "  </thead>\n",
       "  <tbody>\n",
       "    <tr>\n",
       "      <th>0</th>\n",
       "      <td>1</td>\n",
       "      <td>-8437.673028</td>\n",
       "      <td>42</td>\n",
       "      <td>высшее</td>\n",
       "      <td>0</td>\n",
       "      <td>женат / замужем</td>\n",
       "      <td>0</td>\n",
       "      <td>F</td>\n",
       "      <td>сотрудник</td>\n",
       "      <td>0</td>\n",
       "      <td>253875.639453</td>\n",
       "      <td>покупка жилья</td>\n",
       "    </tr>\n",
       "    <tr>\n",
       "      <th>1</th>\n",
       "      <td>1</td>\n",
       "      <td>-4024.803754</td>\n",
       "      <td>36</td>\n",
       "      <td>среднее</td>\n",
       "      <td>1</td>\n",
       "      <td>женат / замужем</td>\n",
       "      <td>0</td>\n",
       "      <td>F</td>\n",
       "      <td>сотрудник</td>\n",
       "      <td>0</td>\n",
       "      <td>112080.014102</td>\n",
       "      <td>приобретение автомобиля</td>\n",
       "    </tr>\n",
       "    <tr>\n",
       "      <th>2</th>\n",
       "      <td>0</td>\n",
       "      <td>-5623.422610</td>\n",
       "      <td>33</td>\n",
       "      <td>Среднее</td>\n",
       "      <td>1</td>\n",
       "      <td>женат / замужем</td>\n",
       "      <td>0</td>\n",
       "      <td>M</td>\n",
       "      <td>сотрудник</td>\n",
       "      <td>0</td>\n",
       "      <td>145885.952297</td>\n",
       "      <td>покупка жилья</td>\n",
       "    </tr>\n",
       "    <tr>\n",
       "      <th>3</th>\n",
       "      <td>3</td>\n",
       "      <td>-4124.747207</td>\n",
       "      <td>32</td>\n",
       "      <td>среднее</td>\n",
       "      <td>1</td>\n",
       "      <td>женат / замужем</td>\n",
       "      <td>0</td>\n",
       "      <td>M</td>\n",
       "      <td>сотрудник</td>\n",
       "      <td>0</td>\n",
       "      <td>267628.550329</td>\n",
       "      <td>дополнительное образование</td>\n",
       "    </tr>\n",
       "    <tr>\n",
       "      <th>4</th>\n",
       "      <td>0</td>\n",
       "      <td>340266.072047</td>\n",
       "      <td>53</td>\n",
       "      <td>среднее</td>\n",
       "      <td>1</td>\n",
       "      <td>гражданский брак</td>\n",
       "      <td>1</td>\n",
       "      <td>F</td>\n",
       "      <td>пенсионер</td>\n",
       "      <td>0</td>\n",
       "      <td>158616.077870</td>\n",
       "      <td>сыграть свадьбу</td>\n",
       "    </tr>\n",
       "    <tr>\n",
       "      <th>5</th>\n",
       "      <td>0</td>\n",
       "      <td>-926.185831</td>\n",
       "      <td>27</td>\n",
       "      <td>высшее</td>\n",
       "      <td>0</td>\n",
       "      <td>гражданский брак</td>\n",
       "      <td>1</td>\n",
       "      <td>M</td>\n",
       "      <td>компаньон</td>\n",
       "      <td>0</td>\n",
       "      <td>255763.565419</td>\n",
       "      <td>покупка жилья</td>\n",
       "    </tr>\n",
       "    <tr>\n",
       "      <th>6</th>\n",
       "      <td>0</td>\n",
       "      <td>-2879.202052</td>\n",
       "      <td>43</td>\n",
       "      <td>высшее</td>\n",
       "      <td>0</td>\n",
       "      <td>женат / замужем</td>\n",
       "      <td>0</td>\n",
       "      <td>F</td>\n",
       "      <td>компаньон</td>\n",
       "      <td>0</td>\n",
       "      <td>240525.971920</td>\n",
       "      <td>операции с жильем</td>\n",
       "    </tr>\n",
       "    <tr>\n",
       "      <th>7</th>\n",
       "      <td>0</td>\n",
       "      <td>-152.779569</td>\n",
       "      <td>50</td>\n",
       "      <td>СРЕДНЕЕ</td>\n",
       "      <td>1</td>\n",
       "      <td>женат / замужем</td>\n",
       "      <td>0</td>\n",
       "      <td>M</td>\n",
       "      <td>сотрудник</td>\n",
       "      <td>0</td>\n",
       "      <td>135823.934197</td>\n",
       "      <td>образование</td>\n",
       "    </tr>\n",
       "    <tr>\n",
       "      <th>8</th>\n",
       "      <td>2</td>\n",
       "      <td>-6929.865299</td>\n",
       "      <td>35</td>\n",
       "      <td>ВЫСШЕЕ</td>\n",
       "      <td>0</td>\n",
       "      <td>гражданский брак</td>\n",
       "      <td>1</td>\n",
       "      <td>F</td>\n",
       "      <td>сотрудник</td>\n",
       "      <td>0</td>\n",
       "      <td>95856.832424</td>\n",
       "      <td>на проведение свадьбы</td>\n",
       "    </tr>\n",
       "    <tr>\n",
       "      <th>9</th>\n",
       "      <td>0</td>\n",
       "      <td>-2188.756445</td>\n",
       "      <td>41</td>\n",
       "      <td>среднее</td>\n",
       "      <td>1</td>\n",
       "      <td>женат / замужем</td>\n",
       "      <td>0</td>\n",
       "      <td>M</td>\n",
       "      <td>сотрудник</td>\n",
       "      <td>0</td>\n",
       "      <td>144425.938277</td>\n",
       "      <td>покупка жилья для семьи</td>\n",
       "    </tr>\n",
       "    <tr>\n",
       "      <th>10</th>\n",
       "      <td>2</td>\n",
       "      <td>-4171.483647</td>\n",
       "      <td>36</td>\n",
       "      <td>высшее</td>\n",
       "      <td>0</td>\n",
       "      <td>женат / замужем</td>\n",
       "      <td>0</td>\n",
       "      <td>M</td>\n",
       "      <td>компаньон</td>\n",
       "      <td>0</td>\n",
       "      <td>113943.491460</td>\n",
       "      <td>покупка недвижимости</td>\n",
       "    </tr>\n",
       "    <tr>\n",
       "      <th>11</th>\n",
       "      <td>0</td>\n",
       "      <td>-792.701887</td>\n",
       "      <td>40</td>\n",
       "      <td>среднее</td>\n",
       "      <td>1</td>\n",
       "      <td>женат / замужем</td>\n",
       "      <td>0</td>\n",
       "      <td>F</td>\n",
       "      <td>сотрудник</td>\n",
       "      <td>0</td>\n",
       "      <td>77069.234271</td>\n",
       "      <td>покупка коммерческой недвижимости</td>\n",
       "    </tr>\n",
       "    <tr>\n",
       "      <th>12</th>\n",
       "      <td>0</td>\n",
       "      <td>NaN</td>\n",
       "      <td>65</td>\n",
       "      <td>среднее</td>\n",
       "      <td>1</td>\n",
       "      <td>гражданский брак</td>\n",
       "      <td>1</td>\n",
       "      <td>M</td>\n",
       "      <td>пенсионер</td>\n",
       "      <td>0</td>\n",
       "      <td>NaN</td>\n",
       "      <td>сыграть свадьбу</td>\n",
       "    </tr>\n",
       "    <tr>\n",
       "      <th>13</th>\n",
       "      <td>0</td>\n",
       "      <td>-1846.641941</td>\n",
       "      <td>54</td>\n",
       "      <td>неоконченное высшее</td>\n",
       "      <td>2</td>\n",
       "      <td>женат / замужем</td>\n",
       "      <td>0</td>\n",
       "      <td>F</td>\n",
       "      <td>сотрудник</td>\n",
       "      <td>0</td>\n",
       "      <td>130458.228857</td>\n",
       "      <td>приобретение автомобиля</td>\n",
       "    </tr>\n",
       "    <tr>\n",
       "      <th>14</th>\n",
       "      <td>0</td>\n",
       "      <td>-1844.956182</td>\n",
       "      <td>56</td>\n",
       "      <td>высшее</td>\n",
       "      <td>0</td>\n",
       "      <td>гражданский брак</td>\n",
       "      <td>1</td>\n",
       "      <td>F</td>\n",
       "      <td>компаньон</td>\n",
       "      <td>1</td>\n",
       "      <td>165127.911772</td>\n",
       "      <td>покупка жилой недвижимости</td>\n",
       "    </tr>\n",
       "    <tr>\n",
       "      <th>15</th>\n",
       "      <td>1</td>\n",
       "      <td>-972.364419</td>\n",
       "      <td>26</td>\n",
       "      <td>среднее</td>\n",
       "      <td>1</td>\n",
       "      <td>женат / замужем</td>\n",
       "      <td>0</td>\n",
       "      <td>F</td>\n",
       "      <td>сотрудник</td>\n",
       "      <td>0</td>\n",
       "      <td>116820.904450</td>\n",
       "      <td>строительство собственной недвижимости</td>\n",
       "    </tr>\n",
       "    <tr>\n",
       "      <th>16</th>\n",
       "      <td>0</td>\n",
       "      <td>-1719.934226</td>\n",
       "      <td>35</td>\n",
       "      <td>среднее</td>\n",
       "      <td>1</td>\n",
       "      <td>женат / замужем</td>\n",
       "      <td>0</td>\n",
       "      <td>F</td>\n",
       "      <td>сотрудник</td>\n",
       "      <td>0</td>\n",
       "      <td>289202.704229</td>\n",
       "      <td>недвижимость</td>\n",
       "    </tr>\n",
       "    <tr>\n",
       "      <th>17</th>\n",
       "      <td>0</td>\n",
       "      <td>-2369.999720</td>\n",
       "      <td>33</td>\n",
       "      <td>высшее</td>\n",
       "      <td>0</td>\n",
       "      <td>гражданский брак</td>\n",
       "      <td>1</td>\n",
       "      <td>M</td>\n",
       "      <td>сотрудник</td>\n",
       "      <td>0</td>\n",
       "      <td>90410.586745</td>\n",
       "      <td>строительство недвижимости</td>\n",
       "    </tr>\n",
       "    <tr>\n",
       "      <th>18</th>\n",
       "      <td>0</td>\n",
       "      <td>400281.136913</td>\n",
       "      <td>53</td>\n",
       "      <td>среднее</td>\n",
       "      <td>1</td>\n",
       "      <td>вдовец / вдова</td>\n",
       "      <td>2</td>\n",
       "      <td>F</td>\n",
       "      <td>пенсионер</td>\n",
       "      <td>0</td>\n",
       "      <td>56823.777243</td>\n",
       "      <td>на покупку подержанного автомобиля</td>\n",
       "    </tr>\n",
       "    <tr>\n",
       "      <th>19</th>\n",
       "      <td>0</td>\n",
       "      <td>-10038.818549</td>\n",
       "      <td>48</td>\n",
       "      <td>СРЕДНЕЕ</td>\n",
       "      <td>1</td>\n",
       "      <td>в разводе</td>\n",
       "      <td>3</td>\n",
       "      <td>F</td>\n",
       "      <td>сотрудник</td>\n",
       "      <td>0</td>\n",
       "      <td>242831.107982</td>\n",
       "      <td>на покупку своего автомобиля</td>\n",
       "    </tr>\n",
       "  </tbody>\n",
       "</table>\n",
       "</div>"
      ],
      "text/plain": [
       "    children  days_employed  dob_years            education  education_id  \\\n",
       "0          1   -8437.673028         42               высшее             0   \n",
       "1          1   -4024.803754         36              среднее             1   \n",
       "2          0   -5623.422610         33              Среднее             1   \n",
       "3          3   -4124.747207         32              среднее             1   \n",
       "4          0  340266.072047         53              среднее             1   \n",
       "5          0    -926.185831         27               высшее             0   \n",
       "6          0   -2879.202052         43               высшее             0   \n",
       "7          0    -152.779569         50              СРЕДНЕЕ             1   \n",
       "8          2   -6929.865299         35               ВЫСШЕЕ             0   \n",
       "9          0   -2188.756445         41              среднее             1   \n",
       "10         2   -4171.483647         36               высшее             0   \n",
       "11         0    -792.701887         40              среднее             1   \n",
       "12         0            NaN         65              среднее             1   \n",
       "13         0   -1846.641941         54  неоконченное высшее             2   \n",
       "14         0   -1844.956182         56               высшее             0   \n",
       "15         1    -972.364419         26              среднее             1   \n",
       "16         0   -1719.934226         35              среднее             1   \n",
       "17         0   -2369.999720         33               высшее             0   \n",
       "18         0  400281.136913         53              среднее             1   \n",
       "19         0  -10038.818549         48              СРЕДНЕЕ             1   \n",
       "\n",
       "       family_status  family_status_id gender income_type  debt  \\\n",
       "0    женат / замужем                 0      F   сотрудник     0   \n",
       "1    женат / замужем                 0      F   сотрудник     0   \n",
       "2    женат / замужем                 0      M   сотрудник     0   \n",
       "3    женат / замужем                 0      M   сотрудник     0   \n",
       "4   гражданский брак                 1      F   пенсионер     0   \n",
       "5   гражданский брак                 1      M   компаньон     0   \n",
       "6    женат / замужем                 0      F   компаньон     0   \n",
       "7    женат / замужем                 0      M   сотрудник     0   \n",
       "8   гражданский брак                 1      F   сотрудник     0   \n",
       "9    женат / замужем                 0      M   сотрудник     0   \n",
       "10   женат / замужем                 0      M   компаньон     0   \n",
       "11   женат / замужем                 0      F   сотрудник     0   \n",
       "12  гражданский брак                 1      M   пенсионер     0   \n",
       "13   женат / замужем                 0      F   сотрудник     0   \n",
       "14  гражданский брак                 1      F   компаньон     1   \n",
       "15   женат / замужем                 0      F   сотрудник     0   \n",
       "16   женат / замужем                 0      F   сотрудник     0   \n",
       "17  гражданский брак                 1      M   сотрудник     0   \n",
       "18    вдовец / вдова                 2      F   пенсионер     0   \n",
       "19         в разводе                 3      F   сотрудник     0   \n",
       "\n",
       "     total_income                                 purpose  \n",
       "0   253875.639453                           покупка жилья  \n",
       "1   112080.014102                 приобретение автомобиля  \n",
       "2   145885.952297                           покупка жилья  \n",
       "3   267628.550329              дополнительное образование  \n",
       "4   158616.077870                         сыграть свадьбу  \n",
       "5   255763.565419                           покупка жилья  \n",
       "6   240525.971920                       операции с жильем  \n",
       "7   135823.934197                             образование  \n",
       "8    95856.832424                   на проведение свадьбы  \n",
       "9   144425.938277                 покупка жилья для семьи  \n",
       "10  113943.491460                    покупка недвижимости  \n",
       "11   77069.234271       покупка коммерческой недвижимости  \n",
       "12            NaN                         сыграть свадьбу  \n",
       "13  130458.228857                 приобретение автомобиля  \n",
       "14  165127.911772              покупка жилой недвижимости  \n",
       "15  116820.904450  строительство собственной недвижимости  \n",
       "16  289202.704229                            недвижимость  \n",
       "17   90410.586745              строительство недвижимости  \n",
       "18   56823.777243      на покупку подержанного автомобиля  \n",
       "19  242831.107982            на покупку своего автомобиля  "
      ]
     },
     "execution_count": 2,
     "metadata": {},
     "output_type": "execute_result"
    }
   ],
   "source": [
    "data.head(20)"
   ]
  },
  {
   "cell_type": "markdown",
   "id": "0ed8f27f",
   "metadata": {
    "deletable": false,
    "editable": false,
    "id": "0ed8f27f"
   },
   "source": [
    "**Задание 3. Выведите основную информацию о датафрейме с помощью метода `info()`.**"
   ]
  },
  {
   "cell_type": "code",
   "execution_count": 3,
   "id": "ab3f863b",
   "metadata": {
    "deletable": false,
    "id": "ab3f863b",
    "outputId": "15376089-8dad-46c9-b520-c05248d43158"
   },
   "outputs": [
    {
     "name": "stdout",
     "output_type": "stream",
     "text": [
      "<class 'pandas.core.frame.DataFrame'>\n",
      "RangeIndex: 21525 entries, 0 to 21524\n",
      "Data columns (total 12 columns):\n",
      " #   Column            Non-Null Count  Dtype  \n",
      "---  ------            --------------  -----  \n",
      " 0   children          21525 non-null  int64  \n",
      " 1   days_employed     19351 non-null  float64\n",
      " 2   dob_years         21525 non-null  int64  \n",
      " 3   education         21525 non-null  object \n",
      " 4   education_id      21525 non-null  int64  \n",
      " 5   family_status     21525 non-null  object \n",
      " 6   family_status_id  21525 non-null  int64  \n",
      " 7   gender            21525 non-null  object \n",
      " 8   income_type       21525 non-null  object \n",
      " 9   debt              21525 non-null  int64  \n",
      " 10  total_income      19351 non-null  float64\n",
      " 11  purpose           21525 non-null  object \n",
      "dtypes: float64(2), int64(5), object(5)\n",
      "memory usage: 2.0+ MB\n"
     ]
    }
   ],
   "source": [
    "data.info()"
   ]
  },
  {
   "cell_type": "markdown",
   "id": "6a8105fd",
   "metadata": {},
   "source": [
    "**Промежуточные выводы:**\n",
    "\n",
    "Обнаружены пропуски в столбцах `days_employed` и `total_income`. Пропуски необходимо устранить на этапе предобработки данных."
   ]
  },
  {
   "cell_type": "markdown",
   "id": "60e3e22d",
   "metadata": {
    "deletable": false,
    "editable": false,
    "id": "60e3e22d"
   },
   "source": [
    "## Предобработка данных"
   ]
  },
  {
   "cell_type": "markdown",
   "id": "03dc170c",
   "metadata": {
    "deletable": false,
    "editable": false,
    "id": "03dc170c"
   },
   "source": [
    "### Удаление пропусков"
   ]
  },
  {
   "cell_type": "markdown",
   "id": "a4f54eef",
   "metadata": {
    "deletable": false,
    "editable": false,
    "id": "a4f54eef"
   },
   "source": [
    "**Задание 4. Выведите количество пропущенных значений для каждого столбца. Используйте комбинацию двух методов.**"
   ]
  },
  {
   "cell_type": "code",
   "execution_count": 4,
   "id": "2dc372b2",
   "metadata": {
    "deletable": false,
    "id": "2dc372b2",
    "outputId": "81f4d817-781c-465c-ed15-91ce4446810d"
   },
   "outputs": [
    {
     "data": {
      "text/plain": [
       "children               0\n",
       "days_employed       2174\n",
       "dob_years              0\n",
       "education              0\n",
       "education_id           0\n",
       "family_status          0\n",
       "family_status_id       0\n",
       "gender                 0\n",
       "income_type            0\n",
       "debt                   0\n",
       "total_income        2174\n",
       "purpose                0\n",
       "dtype: int64"
      ]
     },
     "execution_count": 4,
     "metadata": {},
     "output_type": "execute_result"
    }
   ],
   "source": [
    "data.isna().sum()"
   ]
  },
  {
   "cell_type": "markdown",
   "id": "14f011b1",
   "metadata": {
    "deletable": false,
    "editable": false,
    "id": "14f011b1"
   },
   "source": [
    "**Задание 5. В двух столбцах есть пропущенные значения. Один из них — `days_employed`. Пропуски в этом столбце вы обработаете на следующем этапе. Другой столбец с пропущенными значениями — `total_income` — хранит данные о доходах. На сумму дохода сильнее всего влияет тип занятости, поэтому заполнить пропуски в этом столбце нужно медианным значением по каждому типу из столбца `income_type`. Например, у человека с типом занятости `сотрудник` пропуск в столбце `total_income` должен быть заполнен медианным доходом среди всех записей с тем же типом.**"
   ]
  },
  {
   "cell_type": "code",
   "execution_count": 5,
   "id": "bdabfb6e",
   "metadata": {
    "deletable": false,
    "id": "bdabfb6e"
   },
   "outputs": [],
   "source": [
    "for t in data['income_type'].unique():\n",
    "    data.loc[(data['income_type'] == t) & (data['total_income'].isna()), 'total_income'] = \\\n",
    "    data.loc[(data['income_type'] == t), 'total_income'].median()"
   ]
  },
  {
   "cell_type": "markdown",
   "id": "5be34059",
   "metadata": {
    "deletable": false,
    "editable": false,
    "id": "5be34059"
   },
   "source": [
    "### Обработка аномальных значений"
   ]
  },
  {
   "cell_type": "markdown",
   "id": "a87606cb",
   "metadata": {
    "deletable": false,
    "editable": false,
    "id": "a87606cb"
   },
   "source": [
    "**Задание 6. В данных могут встречаться артефакты (аномалии) — значения, которые не отражают действительность и появились по какой-то ошибке. таким артефактом будет отрицательное количество дней трудового стажа в столбце `days_employed`. Для реальных данных это нормально. Обработайте значения в этом столбце: замените все отрицательные значения положительными с помощью метода `abs()`.**"
   ]
  },
  {
   "cell_type": "code",
   "execution_count": 6,
   "id": "020c46cc",
   "metadata": {
    "deletable": false,
    "id": "020c46cc"
   },
   "outputs": [],
   "source": [
    "data['days_employed'] = data['days_employed'].abs()"
   ]
  },
  {
   "cell_type": "markdown",
   "id": "45538a3a",
   "metadata": {
    "deletable": false,
    "editable": false,
    "id": "45538a3a"
   },
   "source": [
    "**Задание 7. Для каждого типа занятости выведите медианное значение трудового стажа `days_employed` в днях.**"
   ]
  },
  {
   "cell_type": "code",
   "execution_count": 7,
   "id": "cd3e6328",
   "metadata": {
    "deletable": false,
    "id": "cd3e6328",
    "outputId": "801ef80e-522b-4668-f34e-565af7432bcf"
   },
   "outputs": [
    {
     "data": {
      "text/plain": [
       "income_type\n",
       "безработный        366413.652744\n",
       "в декрете            3296.759962\n",
       "госслужащий          2689.368353\n",
       "компаньон            1547.382223\n",
       "пенсионер          365213.306266\n",
       "предприниматель       520.848083\n",
       "сотрудник            1574.202821\n",
       "студент               578.751554\n",
       "Name: days_employed, dtype: float64"
      ]
     },
     "execution_count": 7,
     "metadata": {},
     "output_type": "execute_result"
    }
   ],
   "source": [
    "data.groupby('income_type')['days_employed'].agg('median')"
   ]
  },
  {
   "cell_type": "markdown",
   "id": "90c5f058",
   "metadata": {
    "deletable": false,
    "editable": false,
    "id": "90c5f058"
   },
   "source": [
    "У двух типов (безработные и пенсионеры) получатся аномально большие значения. Исправить такие значения сложно, поэтому оставьте их как есть."
   ]
  },
  {
   "cell_type": "markdown",
   "id": "9652e50d",
   "metadata": {
    "deletable": false,
    "editable": false,
    "id": "9652e50d"
   },
   "source": [
    "**Задание 8. Выведите перечень уникальных значений столбца `children`.**"
   ]
  },
  {
   "cell_type": "code",
   "execution_count": 8,
   "id": "dbb37b8e",
   "metadata": {
    "deletable": false,
    "id": "dbb37b8e",
    "outputId": "6975b15c-7f95-4697-d16d-a0c79b657b03"
   },
   "outputs": [
    {
     "data": {
      "text/plain": [
       "array([ 1,  0,  3,  2, -1,  4, 20,  5])"
      ]
     },
     "execution_count": 8,
     "metadata": {},
     "output_type": "execute_result"
    }
   ],
   "source": [
    "data['children'].unique()"
   ]
  },
  {
   "cell_type": "markdown",
   "id": "2b8b0715",
   "metadata": {
    "deletable": false,
    "editable": false,
    "id": "2b8b0715"
   },
   "source": [
    "**Задание 9. В столбце `children` есть два аномальных значения. Удалите строки, в которых встречаются такие аномальные значения из датафрейма `data`.**"
   ]
  },
  {
   "cell_type": "code",
   "execution_count": 9,
   "id": "20009df8",
   "metadata": {
    "deletable": false,
    "id": "20009df8"
   },
   "outputs": [],
   "source": [
    "data = data[(data['children'] != -1) & (data['children'] != 20)]"
   ]
  },
  {
   "cell_type": "markdown",
   "id": "8c6ac9f1",
   "metadata": {
    "deletable": false,
    "editable": false,
    "id": "8c6ac9f1"
   },
   "source": [
    "**Задание 10. Ещё раз выведите перечень уникальных значений столбца `children`, чтобы убедиться, что артефакты удалены.**"
   ]
  },
  {
   "cell_type": "code",
   "execution_count": 10,
   "id": "07337b81",
   "metadata": {
    "deletable": false,
    "id": "07337b81",
    "outputId": "b2097101-d49d-44d9-901b-32a65c9463d1"
   },
   "outputs": [
    {
     "data": {
      "text/plain": [
       "array([1, 0, 3, 2, 4, 5])"
      ]
     },
     "execution_count": 10,
     "metadata": {},
     "output_type": "execute_result"
    }
   ],
   "source": [
    "data['children'].unique()"
   ]
  },
  {
   "cell_type": "markdown",
   "id": "ee3f52d4",
   "metadata": {
    "deletable": false,
    "editable": false,
    "id": "ee3f52d4"
   },
   "source": [
    "### Удаление пропусков (продолжение)"
   ]
  },
  {
   "cell_type": "markdown",
   "id": "a700b0e4",
   "metadata": {
    "deletable": false,
    "editable": false,
    "id": "a700b0e4"
   },
   "source": [
    "**Задание 11. Заполните пропуски в столбце `days_employed` медианными значениями по каждого типа занятости `income_type`.**"
   ]
  },
  {
   "cell_type": "code",
   "execution_count": 11,
   "id": "61946b83",
   "metadata": {
    "deletable": false,
    "id": "61946b83"
   },
   "outputs": [],
   "source": [
    "for t in data['income_type'].unique():\n",
    "    data.loc[(data['income_type'] == t) & (data['days_employed'].isna()), 'days_employed'] = \\\n",
    "    data.loc[(data['income_type'] == t), 'days_employed'].median()"
   ]
  },
  {
   "cell_type": "markdown",
   "id": "550dcd9b",
   "metadata": {
    "deletable": false,
    "editable": false,
    "id": "550dcd9b"
   },
   "source": [
    "**Задание 12. Убедитесь, что все пропуски заполнены. Проверьте себя и ещё раз выведите количество пропущенных значений для каждого столбца с помощью двух методов.**"
   ]
  },
  {
   "cell_type": "code",
   "execution_count": 12,
   "id": "937c7014",
   "metadata": {
    "deletable": false,
    "id": "937c7014",
    "outputId": "8da1e4e1-358e-4e87-98c9-f261bce0a7b2"
   },
   "outputs": [
    {
     "data": {
      "text/plain": [
       "children            0\n",
       "days_employed       0\n",
       "dob_years           0\n",
       "education           0\n",
       "education_id        0\n",
       "family_status       0\n",
       "family_status_id    0\n",
       "gender              0\n",
       "income_type         0\n",
       "debt                0\n",
       "total_income        0\n",
       "purpose             0\n",
       "dtype: int64"
      ]
     },
     "execution_count": 12,
     "metadata": {},
     "output_type": "execute_result"
    }
   ],
   "source": [
    "data.isna().sum()"
   ]
  },
  {
   "cell_type": "markdown",
   "id": "d522e295",
   "metadata": {
    "deletable": false,
    "editable": false,
    "id": "d522e295"
   },
   "source": [
    "### Изменение типов данных"
   ]
  },
  {
   "cell_type": "markdown",
   "id": "c229c581",
   "metadata": {
    "deletable": false,
    "editable": false,
    "id": "c229c581"
   },
   "source": [
    "**Задание 13. Замените вещественный тип данных в столбце `total_income` на целочисленный с помощью метода `astype()`.**"
   ]
  },
  {
   "cell_type": "code",
   "execution_count": 13,
   "id": "31036462",
   "metadata": {
    "deletable": false,
    "id": "31036462"
   },
   "outputs": [],
   "source": [
    "data['total_income'] = data['total_income'].astype(int)"
   ]
  },
  {
   "cell_type": "markdown",
   "id": "b8e3d1d9",
   "metadata": {
    "deletable": false,
    "editable": false,
    "id": "b8e3d1d9"
   },
   "source": [
    "### Обработка дубликатов"
   ]
  },
  {
   "cell_type": "markdown",
   "id": "9be53c49",
   "metadata": {
    "deletable": false,
    "editable": false,
    "id": "9be53c49"
   },
   "source": [
    "**Задание 14. Обработайте неявные дубликаты в столбце `education`. В этом столбце есть одни и те же значения, но записанные по-разному: с использованием заглавных и строчных букв. Приведите их к нижнему регистру.**"
   ]
  },
  {
   "cell_type": "code",
   "execution_count": 14,
   "id": "d89e73e1",
   "metadata": {
    "deletable": false,
    "id": "d89e73e1"
   },
   "outputs": [],
   "source": [
    "data['education'] = data['education'].str.lower()"
   ]
  },
  {
   "cell_type": "markdown",
   "id": "01d4500e",
   "metadata": {
    "deletable": false,
    "editable": false,
    "id": "01d4500e"
   },
   "source": [
    "**Задание 15. Выведите на экран количество строк-дубликатов в данных. Если такие строки присутствуют, удалите их.**"
   ]
  },
  {
   "cell_type": "code",
   "execution_count": 15,
   "id": "e10efb23",
   "metadata": {
    "deletable": false,
    "id": "e10efb23",
    "outputId": "9684deba-1934-42d1-99e1-cda61740f822"
   },
   "outputs": [
    {
     "data": {
      "text/plain": [
       "71"
      ]
     },
     "execution_count": 15,
     "metadata": {},
     "output_type": "execute_result"
    }
   ],
   "source": [
    "data.duplicated().sum()"
   ]
  },
  {
   "cell_type": "code",
   "execution_count": 16,
   "id": "df853f20",
   "metadata": {
    "deletable": false,
    "id": "df853f20"
   },
   "outputs": [],
   "source": [
    "data = data.drop_duplicates()"
   ]
  },
  {
   "cell_type": "markdown",
   "id": "627be38f",
   "metadata": {
    "deletable": false,
    "editable": false,
    "id": "627be38f"
   },
   "source": [
    "### Категоризация данных"
   ]
  },
  {
   "cell_type": "markdown",
   "id": "4684c3e0",
   "metadata": {
    "deletable": false,
    "editable": false,
    "id": "4684c3e0"
   },
   "source": [
    "**Задание 16. На основании диапазонов, указанных ниже, создайте в датафрейме `data` столбец `total_income_category` с категориями:**\n",
    "\n",
    "- 0–30000 — `'E'`;\n",
    "- 30001–50000 — `'D'`;\n",
    "- 50001–200000 — `'C'`;\n",
    "- 200001–1000000 — `'B'`;\n",
    "- 1000001 и выше — `'A'`.\n",
    "\n",
    "\n",
    "**Например, кредитополучателю с доходом 25000 нужно назначить категорию `'E'`, а клиенту, получающему 235000, — `'B'`. Используйте собственную функцию с именем `categorize_income()` и метод `apply()`.**"
   ]
  },
  {
   "cell_type": "code",
   "execution_count": 17,
   "id": "78965238",
   "metadata": {
    "deletable": false,
    "id": "78965238"
   },
   "outputs": [],
   "source": [
    "def categorize_income(income):\n",
    "    try:\n",
    "        if 0 <= income <= 30000:\n",
    "            return 'E'\n",
    "        elif 30001 <= income <= 50000:\n",
    "            return 'D'\n",
    "        elif 50001 <= income <= 200000:\n",
    "            return 'C'\n",
    "        elif 200001 <= income <= 1000000:\n",
    "            return 'B'\n",
    "        elif income >= 1000001:\n",
    "            return 'A'\n",
    "    except:\n",
    "        pass"
   ]
  },
  {
   "cell_type": "code",
   "execution_count": 18,
   "id": "0980ada1",
   "metadata": {
    "deletable": false,
    "id": "0980ada1"
   },
   "outputs": [],
   "source": [
    "data['total_income_category'] = data['total_income'].apply(categorize_income)"
   ]
  },
  {
   "cell_type": "markdown",
   "id": "9917bba0",
   "metadata": {
    "deletable": false,
    "editable": false,
    "id": "9917bba0"
   },
   "source": [
    "**Задание 17. Выведите на экран перечень уникальных целей взятия кредита из столбца `purpose`.**"
   ]
  },
  {
   "cell_type": "code",
   "execution_count": 19,
   "id": "ee07b65e",
   "metadata": {
    "deletable": false,
    "id": "ee07b65e",
    "outputId": "673c12d9-7d7e-4ae0-9812-c622c89dd244"
   },
   "outputs": [
    {
     "data": {
      "text/plain": [
       "array(['покупка жилья', 'приобретение автомобиля',\n",
       "       'дополнительное образование', 'сыграть свадьбу',\n",
       "       'операции с жильем', 'образование', 'на проведение свадьбы',\n",
       "       'покупка жилья для семьи', 'покупка недвижимости',\n",
       "       'покупка коммерческой недвижимости', 'покупка жилой недвижимости',\n",
       "       'строительство собственной недвижимости', 'недвижимость',\n",
       "       'строительство недвижимости', 'на покупку подержанного автомобиля',\n",
       "       'на покупку своего автомобиля',\n",
       "       'операции с коммерческой недвижимостью',\n",
       "       'строительство жилой недвижимости', 'жилье',\n",
       "       'операции со своей недвижимостью', 'автомобили',\n",
       "       'заняться образованием', 'сделка с подержанным автомобилем',\n",
       "       'получение образования', 'автомобиль', 'свадьба',\n",
       "       'получение дополнительного образования', 'покупка своего жилья',\n",
       "       'операции с недвижимостью', 'получение высшего образования',\n",
       "       'свой автомобиль', 'сделка с автомобилем',\n",
       "       'профильное образование', 'высшее образование',\n",
       "       'покупка жилья для сдачи', 'на покупку автомобиля', 'ремонт жилью',\n",
       "       'заняться высшим образованием'], dtype=object)"
      ]
     },
     "execution_count": 19,
     "metadata": {},
     "output_type": "execute_result"
    }
   ],
   "source": [
    "data['purpose'].unique()"
   ]
  },
  {
   "cell_type": "markdown",
   "id": "52b79d56",
   "metadata": {
    "deletable": false,
    "editable": false,
    "id": "52b79d56"
   },
   "source": [
    "**Задание 18. Создайте функцию, которая на основании данных из столбца `purpose` сформирует новый столбец `purpose_category`, в который войдут следующие категории:**\n",
    "\n",
    "- `'операции с автомобилем'`,\n",
    "- `'операции с недвижимостью'`,\n",
    "- `'проведение свадьбы'`,\n",
    "- `'получение образования'`.\n",
    "\n",
    "**Например, если в столбце `purpose` находится подстрока `'на покупку автомобиля'`, то в столбце `purpose_category` должна появиться строка `'операции с автомобилем'`.**\n",
    "\n",
    "**Используйте собственную функцию с именем `categorize_purpose()` и метод `apply()`. Изучите данные в столбце `purpose` и определите, какие подстроки помогут вам правильно определить категорию.**"
   ]
  },
  {
   "cell_type": "code",
   "execution_count": 20,
   "id": "be41da5d",
   "metadata": {
    "deletable": false,
    "id": "be41da5d"
   },
   "outputs": [],
   "source": [
    "def categorize_purpose(row):\n",
    "    try:\n",
    "        if 'автом' in row:\n",
    "            return 'операции с автомобилем'\n",
    "        elif 'жил' in row or 'недвиж' in row:\n",
    "            return 'операции с недвижимостью'\n",
    "        elif 'свад' in row:\n",
    "            return 'проведение свадьбы'\n",
    "        elif 'образов' in row:\n",
    "            return 'получение образования'\n",
    "    except:\n",
    "        return 'нет категории'"
   ]
  },
  {
   "cell_type": "code",
   "execution_count": 21,
   "id": "94c4a19a",
   "metadata": {
    "deletable": false,
    "id": "94c4a19a",
    "scrolled": true
   },
   "outputs": [],
   "source": [
    "data['purpose_category'] = data['purpose'].apply(categorize_purpose)"
   ]
  },
  {
   "cell_type": "markdown",
   "id": "2c7d3995",
   "metadata": {},
   "source": [
    "**Промежуточные выводы:**\n",
    "\n",
    "_**На этапе предобработки данных проведены следующие изменения:**_\n",
    "\n",
    "\n",
    "* устранены пропуски в столбцах `days_employed` и `total_income`,\n",
    "* устранены аномальные значения в столбцах `days_employed` и `children`,\n",
    "* изменен вещественный тип данных в столбце `total_income` на целочисленный,\n",
    "* устранены дубликаты в столбце `education`,\n",
    "* проведена категоризация по столбцам `total_income` и `purpose`."
   ]
  },
  {
   "cell_type": "markdown",
   "id": "3d596c34",
   "metadata": {
    "deletable": false,
    "editable": false,
    "id": "3d596c34"
   },
   "source": [
    "### Шаг 3. Исследуйте данные и ответьте на вопросы"
   ]
  },
  {
   "cell_type": "markdown",
   "id": "648db036",
   "metadata": {
    "deletable": false,
    "editable": false,
    "id": "648db036"
   },
   "source": [
    "#### 3.1 Есть ли зависимость между количеством детей и возвратом кредита в срок?"
   ]
  },
  {
   "cell_type": "markdown",
   "id": "593eb549",
   "metadata": {
    "deletable": false,
    "id": "7fcff25e"
   },
   "source": [
    "Произведем категоризацию заемщиков по количеству детей:\n",
    "* 0 - бездетный,\n",
    "* 1 - одиг ребенок,\n",
    "* 2 - двое детей,\n",
    "* \\> 2 - многодетный."
   ]
  },
  {
   "cell_type": "code",
   "execution_count": 22,
   "id": "f1773ddf",
   "metadata": {},
   "outputs": [],
   "source": [
    "# функция категоризации по количеству детей\n",
    "def categorize_children(row):\n",
    "    try:\n",
    "        if row == 0:\n",
    "            return 'бездетный'\n",
    "        if row == 1:\n",
    "            return 'один ребенок'\n",
    "        if row == 2:\n",
    "            return 'двое детей'\n",
    "        if row > 2:\n",
    "            return 'многодетный'\n",
    "    except:\n",
    "        return 'ошибка в данных'"
   ]
  },
  {
   "cell_type": "code",
   "execution_count": 23,
   "id": "1624c2e9",
   "metadata": {},
   "outputs": [],
   "source": [
    "# добавим в датасет столбец категории по количеству детей\n",
    "data['children_category'] = data['children'].apply(categorize_children)"
   ]
  },
  {
   "cell_type": "code",
   "execution_count": 24,
   "id": "de6e8333",
   "metadata": {},
   "outputs": [
    {
     "data": {
      "text/html": [
       "<div>\n",
       "<style scoped>\n",
       "    .dataframe tbody tr th:only-of-type {\n",
       "        vertical-align: middle;\n",
       "    }\n",
       "\n",
       "    .dataframe tbody tr th {\n",
       "        vertical-align: top;\n",
       "    }\n",
       "\n",
       "    .dataframe thead th {\n",
       "        text-align: right;\n",
       "    }\n",
       "</style>\n",
       "<table border=\"1\" class=\"dataframe\">\n",
       "  <thead>\n",
       "    <tr style=\"text-align: right;\">\n",
       "      <th></th>\n",
       "      <th>children</th>\n",
       "      <th>days_employed</th>\n",
       "      <th>dob_years</th>\n",
       "      <th>education</th>\n",
       "      <th>education_id</th>\n",
       "      <th>family_status</th>\n",
       "      <th>family_status_id</th>\n",
       "      <th>gender</th>\n",
       "      <th>income_type</th>\n",
       "      <th>debt</th>\n",
       "      <th>total_income</th>\n",
       "      <th>purpose</th>\n",
       "      <th>total_income_category</th>\n",
       "      <th>purpose_category</th>\n",
       "      <th>children_category</th>\n",
       "    </tr>\n",
       "  </thead>\n",
       "  <tbody>\n",
       "    <tr>\n",
       "      <th>0</th>\n",
       "      <td>1</td>\n",
       "      <td>8437.673028</td>\n",
       "      <td>42</td>\n",
       "      <td>высшее</td>\n",
       "      <td>0</td>\n",
       "      <td>женат / замужем</td>\n",
       "      <td>0</td>\n",
       "      <td>F</td>\n",
       "      <td>сотрудник</td>\n",
       "      <td>0</td>\n",
       "      <td>253875</td>\n",
       "      <td>покупка жилья</td>\n",
       "      <td>B</td>\n",
       "      <td>операции с недвижимостью</td>\n",
       "      <td>один ребенок</td>\n",
       "    </tr>\n",
       "    <tr>\n",
       "      <th>1</th>\n",
       "      <td>1</td>\n",
       "      <td>4024.803754</td>\n",
       "      <td>36</td>\n",
       "      <td>среднее</td>\n",
       "      <td>1</td>\n",
       "      <td>женат / замужем</td>\n",
       "      <td>0</td>\n",
       "      <td>F</td>\n",
       "      <td>сотрудник</td>\n",
       "      <td>0</td>\n",
       "      <td>112080</td>\n",
       "      <td>приобретение автомобиля</td>\n",
       "      <td>C</td>\n",
       "      <td>операции с автомобилем</td>\n",
       "      <td>один ребенок</td>\n",
       "    </tr>\n",
       "    <tr>\n",
       "      <th>2</th>\n",
       "      <td>0</td>\n",
       "      <td>5623.422610</td>\n",
       "      <td>33</td>\n",
       "      <td>среднее</td>\n",
       "      <td>1</td>\n",
       "      <td>женат / замужем</td>\n",
       "      <td>0</td>\n",
       "      <td>M</td>\n",
       "      <td>сотрудник</td>\n",
       "      <td>0</td>\n",
       "      <td>145885</td>\n",
       "      <td>покупка жилья</td>\n",
       "      <td>C</td>\n",
       "      <td>операции с недвижимостью</td>\n",
       "      <td>бездетный</td>\n",
       "    </tr>\n",
       "    <tr>\n",
       "      <th>3</th>\n",
       "      <td>3</td>\n",
       "      <td>4124.747207</td>\n",
       "      <td>32</td>\n",
       "      <td>среднее</td>\n",
       "      <td>1</td>\n",
       "      <td>женат / замужем</td>\n",
       "      <td>0</td>\n",
       "      <td>M</td>\n",
       "      <td>сотрудник</td>\n",
       "      <td>0</td>\n",
       "      <td>267628</td>\n",
       "      <td>дополнительное образование</td>\n",
       "      <td>B</td>\n",
       "      <td>получение образования</td>\n",
       "      <td>многодетный</td>\n",
       "    </tr>\n",
       "    <tr>\n",
       "      <th>4</th>\n",
       "      <td>0</td>\n",
       "      <td>340266.072047</td>\n",
       "      <td>53</td>\n",
       "      <td>среднее</td>\n",
       "      <td>1</td>\n",
       "      <td>гражданский брак</td>\n",
       "      <td>1</td>\n",
       "      <td>F</td>\n",
       "      <td>пенсионер</td>\n",
       "      <td>0</td>\n",
       "      <td>158616</td>\n",
       "      <td>сыграть свадьбу</td>\n",
       "      <td>C</td>\n",
       "      <td>проведение свадьбы</td>\n",
       "      <td>бездетный</td>\n",
       "    </tr>\n",
       "    <tr>\n",
       "      <th>5</th>\n",
       "      <td>0</td>\n",
       "      <td>926.185831</td>\n",
       "      <td>27</td>\n",
       "      <td>высшее</td>\n",
       "      <td>0</td>\n",
       "      <td>гражданский брак</td>\n",
       "      <td>1</td>\n",
       "      <td>M</td>\n",
       "      <td>компаньон</td>\n",
       "      <td>0</td>\n",
       "      <td>255763</td>\n",
       "      <td>покупка жилья</td>\n",
       "      <td>B</td>\n",
       "      <td>операции с недвижимостью</td>\n",
       "      <td>бездетный</td>\n",
       "    </tr>\n",
       "    <tr>\n",
       "      <th>6</th>\n",
       "      <td>0</td>\n",
       "      <td>2879.202052</td>\n",
       "      <td>43</td>\n",
       "      <td>высшее</td>\n",
       "      <td>0</td>\n",
       "      <td>женат / замужем</td>\n",
       "      <td>0</td>\n",
       "      <td>F</td>\n",
       "      <td>компаньон</td>\n",
       "      <td>0</td>\n",
       "      <td>240525</td>\n",
       "      <td>операции с жильем</td>\n",
       "      <td>B</td>\n",
       "      <td>операции с недвижимостью</td>\n",
       "      <td>бездетный</td>\n",
       "    </tr>\n",
       "    <tr>\n",
       "      <th>7</th>\n",
       "      <td>0</td>\n",
       "      <td>152.779569</td>\n",
       "      <td>50</td>\n",
       "      <td>среднее</td>\n",
       "      <td>1</td>\n",
       "      <td>женат / замужем</td>\n",
       "      <td>0</td>\n",
       "      <td>M</td>\n",
       "      <td>сотрудник</td>\n",
       "      <td>0</td>\n",
       "      <td>135823</td>\n",
       "      <td>образование</td>\n",
       "      <td>C</td>\n",
       "      <td>получение образования</td>\n",
       "      <td>бездетный</td>\n",
       "    </tr>\n",
       "    <tr>\n",
       "      <th>8</th>\n",
       "      <td>2</td>\n",
       "      <td>6929.865299</td>\n",
       "      <td>35</td>\n",
       "      <td>высшее</td>\n",
       "      <td>0</td>\n",
       "      <td>гражданский брак</td>\n",
       "      <td>1</td>\n",
       "      <td>F</td>\n",
       "      <td>сотрудник</td>\n",
       "      <td>0</td>\n",
       "      <td>95856</td>\n",
       "      <td>на проведение свадьбы</td>\n",
       "      <td>C</td>\n",
       "      <td>проведение свадьбы</td>\n",
       "      <td>двое детей</td>\n",
       "    </tr>\n",
       "    <tr>\n",
       "      <th>9</th>\n",
       "      <td>0</td>\n",
       "      <td>2188.756445</td>\n",
       "      <td>41</td>\n",
       "      <td>среднее</td>\n",
       "      <td>1</td>\n",
       "      <td>женат / замужем</td>\n",
       "      <td>0</td>\n",
       "      <td>M</td>\n",
       "      <td>сотрудник</td>\n",
       "      <td>0</td>\n",
       "      <td>144425</td>\n",
       "      <td>покупка жилья для семьи</td>\n",
       "      <td>C</td>\n",
       "      <td>операции с недвижимостью</td>\n",
       "      <td>бездетный</td>\n",
       "    </tr>\n",
       "  </tbody>\n",
       "</table>\n",
       "</div>"
      ],
      "text/plain": [
       "   children  days_employed  dob_years education  education_id  \\\n",
       "0         1    8437.673028         42    высшее             0   \n",
       "1         1    4024.803754         36   среднее             1   \n",
       "2         0    5623.422610         33   среднее             1   \n",
       "3         3    4124.747207         32   среднее             1   \n",
       "4         0  340266.072047         53   среднее             1   \n",
       "5         0     926.185831         27    высшее             0   \n",
       "6         0    2879.202052         43    высшее             0   \n",
       "7         0     152.779569         50   среднее             1   \n",
       "8         2    6929.865299         35    высшее             0   \n",
       "9         0    2188.756445         41   среднее             1   \n",
       "\n",
       "      family_status  family_status_id gender income_type  debt  total_income  \\\n",
       "0   женат / замужем                 0      F   сотрудник     0        253875   \n",
       "1   женат / замужем                 0      F   сотрудник     0        112080   \n",
       "2   женат / замужем                 0      M   сотрудник     0        145885   \n",
       "3   женат / замужем                 0      M   сотрудник     0        267628   \n",
       "4  гражданский брак                 1      F   пенсионер     0        158616   \n",
       "5  гражданский брак                 1      M   компаньон     0        255763   \n",
       "6   женат / замужем                 0      F   компаньон     0        240525   \n",
       "7   женат / замужем                 0      M   сотрудник     0        135823   \n",
       "8  гражданский брак                 1      F   сотрудник     0         95856   \n",
       "9   женат / замужем                 0      M   сотрудник     0        144425   \n",
       "\n",
       "                      purpose total_income_category          purpose_category  \\\n",
       "0               покупка жилья                     B  операции с недвижимостью   \n",
       "1     приобретение автомобиля                     C    операции с автомобилем   \n",
       "2               покупка жилья                     C  операции с недвижимостью   \n",
       "3  дополнительное образование                     B     получение образования   \n",
       "4             сыграть свадьбу                     C        проведение свадьбы   \n",
       "5               покупка жилья                     B  операции с недвижимостью   \n",
       "6           операции с жильем                     B  операции с недвижимостью   \n",
       "7                 образование                     C     получение образования   \n",
       "8       на проведение свадьбы                     C        проведение свадьбы   \n",
       "9     покупка жилья для семьи                     C  операции с недвижимостью   \n",
       "\n",
       "  children_category  \n",
       "0      один ребенок  \n",
       "1      один ребенок  \n",
       "2         бездетный  \n",
       "3       многодетный  \n",
       "4         бездетный  \n",
       "5         бездетный  \n",
       "6         бездетный  \n",
       "7         бездетный  \n",
       "8        двое детей  \n",
       "9         бездетный  "
      ]
     },
     "execution_count": 24,
     "metadata": {},
     "output_type": "execute_result"
    }
   ],
   "source": [
    "# проверяем результат\n",
    "data.head(10)"
   ]
  },
  {
   "cell_type": "markdown",
   "id": "36b95db2",
   "metadata": {},
   "source": [
    "Создадим сводную таблицу для анализа:"
   ]
  },
  {
   "cell_type": "code",
   "execution_count": 25,
   "id": "c0319c6d",
   "metadata": {},
   "outputs": [
    {
     "data": {
      "text/html": [
       "<div>\n",
       "<style scoped>\n",
       "    .dataframe tbody tr th:only-of-type {\n",
       "        vertical-align: middle;\n",
       "    }\n",
       "\n",
       "    .dataframe tbody tr th {\n",
       "        vertical-align: top;\n",
       "    }\n",
       "\n",
       "    .dataframe thead th {\n",
       "        text-align: right;\n",
       "    }\n",
       "</style>\n",
       "<table border=\"1\" class=\"dataframe\">\n",
       "  <thead>\n",
       "    <tr style=\"text-align: right;\">\n",
       "      <th></th>\n",
       "      <th>no_overdue_debt</th>\n",
       "      <th>overdue_debt</th>\n",
       "      <th>share_overdue_debt</th>\n",
       "    </tr>\n",
       "    <tr>\n",
       "      <th>children_category</th>\n",
       "      <th></th>\n",
       "      <th></th>\n",
       "      <th></th>\n",
       "    </tr>\n",
       "  </thead>\n",
       "  <tbody>\n",
       "    <tr>\n",
       "      <th>двое детей</th>\n",
       "      <td>1858</td>\n",
       "      <td>194</td>\n",
       "      <td>9.5%</td>\n",
       "    </tr>\n",
       "    <tr>\n",
       "      <th>один ребенок</th>\n",
       "      <td>4364</td>\n",
       "      <td>444</td>\n",
       "      <td>9.2%</td>\n",
       "    </tr>\n",
       "    <tr>\n",
       "      <th>многодетный</th>\n",
       "      <td>349</td>\n",
       "      <td>31</td>\n",
       "      <td>8.2%</td>\n",
       "    </tr>\n",
       "    <tr>\n",
       "      <th>бездетный</th>\n",
       "      <td>13028</td>\n",
       "      <td>1063</td>\n",
       "      <td>7.5%</td>\n",
       "    </tr>\n",
       "  </tbody>\n",
       "</table>\n",
       "</div>"
      ],
      "text/plain": [
       "                   no_overdue_debt  overdue_debt share_overdue_debt\n",
       "children_category                                                  \n",
       "двое детей                    1858           194               9.5%\n",
       "один ребенок                  4364           444               9.2%\n",
       "многодетный                    349            31               8.2%\n",
       "бездетный                    13028          1063               7.5%"
      ]
     },
     "execution_count": 25,
     "metadata": {},
     "output_type": "execute_result"
    }
   ],
   "source": [
    "# создаем функцию для формирования сводных таблиц\n",
    "def pivot_table_create(data, index_name):\n",
    "    # создаем сводную таблицу\n",
    "    pivot_table = data.pivot_table(index=index_name, columns='debt', values='children', aggfunc='count')\n",
    "    # создаем столбцы not_debt (нет просроченной задолженности) и debt (есть просроченная задолженность)\n",
    "    pivot_table.columns = ['no_overdue_debt', 'overdue_debt']\n",
    "    # считаем долю заемщиков с просрочкой об общего количества заемщиков данной категории\n",
    "    pivot_table['share_overdue_debt'] = pivot_table['overdue_debt'] / (pivot_table['overdue_debt'] + pivot_table['no_overdue_debt'])\n",
    "    # переводим долю заемщиков в проценты\n",
    "    pivot_table['share_overdue_debt'] = pivot_table['share_overdue_debt'].map('{:.1%}'.format)\n",
    "    # сортируем по доле заемщиков с просрочкой по убыванию\n",
    "    return pivot_table.sort_values(by='share_overdue_debt', ascending=False)\n",
    "\n",
    "# создаем сводную таблицу\n",
    "children_debt = pivot_table_create(data, 'children_category')\n",
    "children_debt"
   ]
  },
  {
   "cell_type": "markdown",
   "id": "c16ce318",
   "metadata": {},
   "source": [
    "Для наглядности выведем диаграмму зависимости:"
   ]
  },
  {
   "cell_type": "code",
   "execution_count": 26,
   "id": "e91c8b9d",
   "metadata": {},
   "outputs": [
    {
     "data": {
      "image/png": "[encoded data removed]",
      "text/plain": [
       "<Figure size 432x288 with 1 Axes>"
      ]
     },
     "metadata": {
      "needs_background": "light"
     },
     "output_type": "display_data"
    }
   ],
   "source": [
    "# создаем функцию построения диаграмм\n",
    "def barplot_create(pivot_table, column, vertical=1):\n",
    "    # принимает аргументы - сводная таблица, имя столбца, вид диаграммы\n",
    "    if vertical == 1:\n",
    "        # формируем список значений по горизонтали\n",
    "        x_axis=pivot_table.index.values\n",
    "        # формируем список значений по вертикали\n",
    "        y_axis=[float(x.strip('%')) for x in list(pivot_table[column].values)]\n",
    "    else:\n",
    "        # формируем список значений по горизонтали\n",
    "        x_axis=[float(x.strip('%')) for x in list(pivot_table[column].values)]\n",
    "        # формируем список значений по вертикали\n",
    "        y_axis=pivot_table.index.values\n",
    "    # выводим диаграмму\n",
    "    seaborn.barplot(x=x_axis, y=y_axis)\n",
    "# вызываем функцию\n",
    "barplot_create(children_debt, 'share_overdue_debt', vertical=1)"
   ]
  },
  {
   "cell_type": "markdown",
   "id": "2eb9088e",
   "metadata": {
    "deletable": false,
    "id": "2eb9088e"
   },
   "source": [
    "**Вывод:** \n",
    "\n",
    "_**Наличие просроченной задолженности зависит от количества детей.**_\n",
    "\n",
    "* Самая низкая доля заемщиков с просроченной задолженностью среди бездетных заемщиков - 7.5%.\n",
    "* Самая высокая доля заемщиков с просроченной задолженностью среди заемщиков с двумя детьми - 9.5%.\n",
    "* Немного ниже доля заемщиков с просроченной задолженностью среди заемщиков с одним ребенком - 9.2%.\n",
    "* Среди многодетных заемщиков доля заемщиков с просроченной задолженностью - 8.2%.\n",
    "\n",
    "Таким образом, можно предположить, что расходы заемщика на детей повышают риск возникновения просроченной задолженности. По заемщикам с 0-2 детьми: чем больше детей, тем выше процент заемщиков с просроченной задолженностью.\n",
    "\n",
    "_Данных по многодетным заемщикам недостаточно для корректных выводов по ним (380 заемщиков или 2% от выборки)._"
   ]
  },
  {
   "cell_type": "markdown",
   "id": "74c9b3a7",
   "metadata": {
    "deletable": false,
    "editable": false,
    "id": "74c9b3a7"
   },
   "source": [
    "#### 3.2 Есть ли зависимость между семейным положением и возвратом кредита в срок?"
   ]
  },
  {
   "cell_type": "markdown",
   "id": "ce6d2f33",
   "metadata": {
    "deletable": false,
    "id": "8098ab3b"
   },
   "source": [
    "Для проведения анализа создадим сводную таблицу по семейному положению заемщиков:"
   ]
  },
  {
   "cell_type": "code",
   "execution_count": 27,
   "id": "97e0d9bd",
   "metadata": {},
   "outputs": [
    {
     "data": {
      "text/html": [
       "<div>\n",
       "<style scoped>\n",
       "    .dataframe tbody tr th:only-of-type {\n",
       "        vertical-align: middle;\n",
       "    }\n",
       "\n",
       "    .dataframe tbody tr th {\n",
       "        vertical-align: top;\n",
       "    }\n",
       "\n",
       "    .dataframe thead th {\n",
       "        text-align: right;\n",
       "    }\n",
       "</style>\n",
       "<table border=\"1\" class=\"dataframe\">\n",
       "  <thead>\n",
       "    <tr style=\"text-align: right;\">\n",
       "      <th></th>\n",
       "      <th>no_overdue_debt</th>\n",
       "      <th>overdue_debt</th>\n",
       "      <th>share_overdue_debt</th>\n",
       "    </tr>\n",
       "    <tr>\n",
       "      <th>family_status</th>\n",
       "      <th></th>\n",
       "      <th></th>\n",
       "      <th></th>\n",
       "    </tr>\n",
       "  </thead>\n",
       "  <tbody>\n",
       "    <tr>\n",
       "      <th>Не женат / не замужем</th>\n",
       "      <td>2523</td>\n",
       "      <td>273</td>\n",
       "      <td>9.8%</td>\n",
       "    </tr>\n",
       "    <tr>\n",
       "      <th>гражданский брак</th>\n",
       "      <td>3749</td>\n",
       "      <td>385</td>\n",
       "      <td>9.3%</td>\n",
       "    </tr>\n",
       "    <tr>\n",
       "      <th>женат / замужем</th>\n",
       "      <td>11334</td>\n",
       "      <td>927</td>\n",
       "      <td>7.6%</td>\n",
       "    </tr>\n",
       "    <tr>\n",
       "      <th>в разводе</th>\n",
       "      <td>1105</td>\n",
       "      <td>84</td>\n",
       "      <td>7.1%</td>\n",
       "    </tr>\n",
       "    <tr>\n",
       "      <th>вдовец / вдова</th>\n",
       "      <td>888</td>\n",
       "      <td>63</td>\n",
       "      <td>6.6%</td>\n",
       "    </tr>\n",
       "  </tbody>\n",
       "</table>\n",
       "</div>"
      ],
      "text/plain": [
       "                       no_overdue_debt  overdue_debt share_overdue_debt\n",
       "family_status                                                          \n",
       "Не женат / не замужем             2523           273               9.8%\n",
       "гражданский брак                  3749           385               9.3%\n",
       "женат / замужем                  11334           927               7.6%\n",
       "в разводе                         1105            84               7.1%\n",
       "вдовец / вдова                     888            63               6.6%"
      ]
     },
     "execution_count": 27,
     "metadata": {},
     "output_type": "execute_result"
    }
   ],
   "source": [
    "# создаем сводную таблицу\n",
    "family_status_debt = pivot_table_create(data, 'family_status')\n",
    "family_status_debt"
   ]
  },
  {
   "cell_type": "markdown",
   "id": "4fefacc1",
   "metadata": {},
   "source": [
    "Для наглядности выведем диаграмму зависимости:"
   ]
  },
  {
   "cell_type": "code",
   "execution_count": 28,
   "id": "f5e8c1b1",
   "metadata": {},
   "outputs": [
    {
     "data": {
      "image/png": "[encoded data removed]",
      "text/plain": [
       "<Figure size 432x288 with 1 Axes>"
      ]
     },
     "metadata": {
      "needs_background": "light"
     },
     "output_type": "display_data"
    }
   ],
   "source": [
    "# выводим диаграмму\n",
    "barplot_create(family_status_debt, 'share_overdue_debt', vertical=0)"
   ]
  },
  {
   "cell_type": "markdown",
   "id": "c389ca63",
   "metadata": {
    "deletable": false,
    "id": "c389ca63"
   },
   "source": [
    "**Вывод:** \n",
    "\n",
    "_**Наличие просроченной задолженности зависит от семейного положения.**_\n",
    "\n",
    "* Самые высокие доли заемщиков с просроченной задолженностью среди холостых заемщиков (9.8%) и заемщиков живущих в гражданском браке (9.3%). _Вероятно, что отсутствие финансовых обязательств перед семьей негативно влияет на платежную дисциплину заемщиков данных категорий._\n",
    "* Женатые или разведенные заемщики реже допускают просроченную задоленность (7.6% и 7.1% соответственно). \n",
    "* Самая низкая доля заемщиков с просроченной задолженностью среди овдовевших заемщиков - 6.6%.  _Вероятно, что их материальное положение несколько лучше, чем у других категорий заемщиков в связи с полученным наследством._\n",
    "\n",
    "В целом следует отметить, что заемщики, побывавшие в официальном браке, наиболее надежны. Возможно, есть связь \n",
    "с их возрастом."
   ]
  },
  {
   "cell_type": "markdown",
   "id": "9529de68",
   "metadata": {
    "deletable": false,
    "editable": false,
    "id": "9529de68"
   },
   "source": [
    "#### 3.3 Есть ли зависимость между уровнем дохода и возвратом кредита в срок?"
   ]
  },
  {
   "cell_type": "markdown",
   "id": "5e31142c",
   "metadata": {
    "deletable": false,
    "id": "8787f44a"
   },
   "source": [
    "Ранее в анализе мы провели категоризацию заемщиков по уровню дохода по следующему принципу:\n",
    "\n",
    "- 0–30000 — `'E'`;\n",
    "- 30001–50000 — `'D'`;\n",
    "- 50001–200000 — `'C'`;\n",
    "- 200001–1000000 — `'B'`;\n",
    "- 1000001 и выше — `'A'`.\n",
    "\n",
    "Сформируем сводную таблицу по указанным категориям:"
   ]
  },
  {
   "cell_type": "code",
   "execution_count": 29,
   "id": "4c054202",
   "metadata": {},
   "outputs": [
    {
     "data": {
      "text/html": [
       "<div>\n",
       "<style scoped>\n",
       "    .dataframe tbody tr th:only-of-type {\n",
       "        vertical-align: middle;\n",
       "    }\n",
       "\n",
       "    .dataframe tbody tr th {\n",
       "        vertical-align: top;\n",
       "    }\n",
       "\n",
       "    .dataframe thead th {\n",
       "        text-align: right;\n",
       "    }\n",
       "</style>\n",
       "<table border=\"1\" class=\"dataframe\">\n",
       "  <thead>\n",
       "    <tr style=\"text-align: right;\">\n",
       "      <th></th>\n",
       "      <th>no_overdue_debt</th>\n",
       "      <th>overdue_debt</th>\n",
       "      <th>share_overdue_debt</th>\n",
       "    </tr>\n",
       "    <tr>\n",
       "      <th>total_income_category</th>\n",
       "      <th></th>\n",
       "      <th></th>\n",
       "      <th></th>\n",
       "    </tr>\n",
       "  </thead>\n",
       "  <tbody>\n",
       "    <tr>\n",
       "      <th>E</th>\n",
       "      <td>20</td>\n",
       "      <td>2</td>\n",
       "      <td>9.1%</td>\n",
       "    </tr>\n",
       "    <tr>\n",
       "      <th>C</th>\n",
       "      <td>14568</td>\n",
       "      <td>1353</td>\n",
       "      <td>8.5%</td>\n",
       "    </tr>\n",
       "    <tr>\n",
       "      <th>A</th>\n",
       "      <td>23</td>\n",
       "      <td>2</td>\n",
       "      <td>8.0%</td>\n",
       "    </tr>\n",
       "    <tr>\n",
       "      <th>B</th>\n",
       "      <td>4660</td>\n",
       "      <td>354</td>\n",
       "      <td>7.1%</td>\n",
       "    </tr>\n",
       "    <tr>\n",
       "      <th>D</th>\n",
       "      <td>328</td>\n",
       "      <td>21</td>\n",
       "      <td>6.0%</td>\n",
       "    </tr>\n",
       "  </tbody>\n",
       "</table>\n",
       "</div>"
      ],
      "text/plain": [
       "                       no_overdue_debt  overdue_debt share_overdue_debt\n",
       "total_income_category                                                  \n",
       "E                                   20             2               9.1%\n",
       "C                                14568          1353               8.5%\n",
       "A                                   23             2               8.0%\n",
       "B                                 4660           354               7.1%\n",
       "D                                  328            21               6.0%"
      ]
     },
     "execution_count": 29,
     "metadata": {},
     "output_type": "execute_result"
    }
   ],
   "source": [
    "# создаем сводную таблицу\n",
    "total_income_debt = pivot_table_create(data, 'total_income_category')\n",
    "total_income_debt"
   ]
  },
  {
   "cell_type": "markdown",
   "id": "6f6d1cf4",
   "metadata": {},
   "source": [
    "Для наглядности выведем диаграмму зависимости:"
   ]
  },
  {
   "cell_type": "code",
   "execution_count": 30,
   "id": "8a8fc70a",
   "metadata": {},
   "outputs": [
    {
     "data": {
      "image/png": "[encoded data removed]",
      "text/plain": [
       "<Figure size 432x288 with 1 Axes>"
      ]
     },
     "metadata": {
      "needs_background": "light"
     },
     "output_type": "display_data"
    }
   ],
   "source": [
    "# выводим диаграмму\n",
    "barplot_create(total_income_debt, 'share_overdue_debt', vertical=1)"
   ]
  },
  {
   "cell_type": "markdown",
   "id": "6dd14b57",
   "metadata": {
    "deletable": false,
    "id": "6dd14b57"
   },
   "source": [
    "**Вывод:**\n",
    "\n",
    "_**Наличие просроченной задолженности зависит от уровня дохода.**_\n",
    "\n",
    "* Заемщики со средним доходом (категория 'C') чаще допускают просроченную задолженность - 8.5%.\n",
    "* Заемщики с доходом выше среднего (категория 'B') реже допускают просроченную задолженность - 7.1%.\n",
    "_Вероятно, что категория 'B' имеет более высокую платежеспособность._\n",
    "\n",
    "_По категориям 'A', 'D' и 'E' данных недостаточно для корректных выводов, возможна большая статистическая погрешность._"
   ]
  },
  {
   "cell_type": "markdown",
   "id": "1dcc9b12",
   "metadata": {
    "deletable": false,
    "editable": false,
    "id": "1dcc9b12"
   },
   "source": [
    "#### 3.4 Как разные цели кредита влияют на его возврат в срок?"
   ]
  },
  {
   "cell_type": "markdown",
   "id": "e90e2a4e",
   "metadata": {
    "deletable": false,
    "id": "c602bc8b"
   },
   "source": [
    "Ранее в анализе мы провели категоризацию заемщиков по цели кредитования по следующеим целям:\n",
    "\n",
    "- `'операции с автомобилем'`,\n",
    "- `'операции с недвижимостью'`,\n",
    "- `'проведение свадьбы'`,\n",
    "- `'получение образования'`.\n",
    "\n",
    "Сформируем сводную таблицу по указанным категориям:"
   ]
  },
  {
   "cell_type": "code",
   "execution_count": 31,
   "id": "d0e7ad10",
   "metadata": {},
   "outputs": [
    {
     "data": {
      "text/html": [
       "<div>\n",
       "<style scoped>\n",
       "    .dataframe tbody tr th:only-of-type {\n",
       "        vertical-align: middle;\n",
       "    }\n",
       "\n",
       "    .dataframe tbody tr th {\n",
       "        vertical-align: top;\n",
       "    }\n",
       "\n",
       "    .dataframe thead th {\n",
       "        text-align: right;\n",
       "    }\n",
       "</style>\n",
       "<table border=\"1\" class=\"dataframe\">\n",
       "  <thead>\n",
       "    <tr style=\"text-align: right;\">\n",
       "      <th></th>\n",
       "      <th>no_overdue_debt</th>\n",
       "      <th>overdue_debt</th>\n",
       "      <th>share_overdue_debt</th>\n",
       "    </tr>\n",
       "    <tr>\n",
       "      <th>purpose_category</th>\n",
       "      <th></th>\n",
       "      <th></th>\n",
       "      <th></th>\n",
       "    </tr>\n",
       "  </thead>\n",
       "  <tbody>\n",
       "    <tr>\n",
       "      <th>операции с автомобилем</th>\n",
       "      <td>3879</td>\n",
       "      <td>400</td>\n",
       "      <td>9.3%</td>\n",
       "    </tr>\n",
       "    <tr>\n",
       "      <th>получение образования</th>\n",
       "      <td>3619</td>\n",
       "      <td>369</td>\n",
       "      <td>9.3%</td>\n",
       "    </tr>\n",
       "    <tr>\n",
       "      <th>проведение свадьбы</th>\n",
       "      <td>2130</td>\n",
       "      <td>183</td>\n",
       "      <td>7.9%</td>\n",
       "    </tr>\n",
       "    <tr>\n",
       "      <th>операции с недвижимостью</th>\n",
       "      <td>9971</td>\n",
       "      <td>780</td>\n",
       "      <td>7.3%</td>\n",
       "    </tr>\n",
       "  </tbody>\n",
       "</table>\n",
       "</div>"
      ],
      "text/plain": [
       "                          no_overdue_debt  overdue_debt share_overdue_debt\n",
       "purpose_category                                                          \n",
       "операции с автомобилем               3879           400               9.3%\n",
       "получение образования                3619           369               9.3%\n",
       "проведение свадьбы                   2130           183               7.9%\n",
       "операции с недвижимостью             9971           780               7.3%"
      ]
     },
     "execution_count": 31,
     "metadata": {},
     "output_type": "execute_result"
    }
   ],
   "source": [
    "# создаем сводную таблицу\n",
    "purpose_debt = pivot_table_create(data, 'purpose_category')\n",
    "purpose_debt"
   ]
  },
  {
   "cell_type": "markdown",
   "id": "b3a5d1e8",
   "metadata": {},
   "source": [
    "Для наглядности выведем диаграмму зависимости:"
   ]
  },
  {
   "cell_type": "code",
   "execution_count": 32,
   "id": "4b0b3717",
   "metadata": {},
   "outputs": [
    {
     "data": {
      "image/png": "[encoded data removed]",
      "text/plain": [
       "<Figure size 432x288 with 1 Axes>"
      ]
     },
     "metadata": {
      "needs_background": "light"
     },
     "output_type": "display_data"
    }
   ],
   "source": [
    "# выводим диаграмму\n",
    "barplot_create(purpose_debt, 'share_overdue_debt', vertical=0)"
   ]
  },
  {
   "cell_type": "markdown",
   "id": "cf05ed63",
   "metadata": {
    "deletable": false,
    "id": "cf05ed63"
   },
   "source": [
    "**Вывод:** \n",
    "\n",
    "_**Наличие просроченной задолженности зависит от цели кредитования.**_\n",
    "\n",
    "* Наиболее высокие доли заемщиков с просроченной задолженностью среди заемщиков, которые взяли кредиты на получение образования и операции с автомобилем  - по 9.3%. _Вероятно, что это связано с более высокой кредитной ставкой и короткими сроками уплаты кредита по данным видам кредитования._\n",
    "* Наиболее низкая доля заемщиков с просроченной задолженностью среди заемщиков, которые взяли кредиты на операции с недвижимостью  - 7.3%. _Вероятно, что это связано с меньшей кредитной ставкой и длительными сроками уплаты кредита по данному виду кредитования, а также более высокой ответсвенностью заемщиков из-за риска потери недвижимости в случае неуплаты кредита._\n",
    "* Доля заемщиков с просроченной задолженностью среди заемщиков, которые взяли кредиты на проведение свадьбы, относительно невысокая - 7.9%. _Вероятно, что это связано с получением дополнительного источника погашения кредита за счет свадебных подарков._"
   ]
  },
  {
   "cell_type": "markdown",
   "id": "46c1f10b",
   "metadata": {
    "deletable": false,
    "editable": false,
    "id": "46c1f10b"
   },
   "source": [
    "#### 3.5 Приведите возможные причины появления пропусков в исходных данных."
   ]
  },
  {
   "cell_type": "markdown",
   "id": "3697d2a9",
   "metadata": {
    "deletable": false,
    "id": "3697d2a9"
   },
   "source": [
    "*Ответ:*\n",
    "\n",
    "возможными причинами появления пропусков в исходных данных могут являться:\n",
    "\n",
    "* ошибки при вводе данных пользователями,\n",
    "* клиенты могли не предоставить данные (возможно, что эту информацию не требуют в некоторых случаях), \n",
    "* умышленное искажение или сокрытие информации,\n",
    "* программно-аппаратные сбои,\n",
    "* технологические ошибки (проблемы на этапах загрузки/выгрузки данных, неправильные запросы к данным, некорректное объединение таблиц).\n"
   ]
  },
  {
   "cell_type": "markdown",
   "id": "3137d257",
   "metadata": {
    "deletable": false,
    "editable": false,
    "id": "3137d257"
   },
   "source": [
    "#### 3.6 Объясните, почему заполнить пропуски медианным значением — лучшее решение для количественных переменных."
   ]
  },
  {
   "cell_type": "markdown",
   "id": "cf40012a",
   "metadata": {
    "deletable": false,
    "id": "cf40012a"
   },
   "source": [
    "*Ответ:* \n",
    "\n",
    "медианное значение является наиболее устойчивым показателем к выбросам в данных."
   ]
  },
  {
   "cell_type": "markdown",
   "id": "57bc304e",
   "metadata": {
    "deletable": false,
    "editable": false,
    "id": "57bc304e"
   },
   "source": [
    "### Шаг 4: общий вывод."
   ]
  },
  {
   "cell_type": "markdown",
   "id": "1ab75d1c",
   "metadata": {
    "deletable": false,
    "id": "1ab75d1c"
   },
   "source": [
    "В ходе выполнения проекта была проведена предобработка представленной банком статистики о платёжеспособности клиентов, а также анализ надежности заемщиков о влиянии:\n",
    "* количества детей,\n",
    "* семейного положения, \n",
    "* уровня дохода\n",
    "* цели кредитования \n",
    "\n",
    "на факт погашения кредита в срок.\n",
    "\n",
    "_**На основании проведенного анализа надёжности заёмщиков можно сделать следующие выводы:**_\n",
    "\n",
    "* Самая низкая доля заемщиков с просроченной задолженностью среди бездетных заемщиков - 7.5%.\n",
    "* Самая высокая доля заемщиков с просроченной задолженностью среди заемщиков с двумя детьми - 9.5%.\n",
    "* Самые высокие доли заемщиков с просроченной задолженностью среди холостых заемщиков (9.8%) и заемщиков живущих в гражданском браке (9.3%).\n",
    "* Самая низкая доля заемщиков с просроченной задолженностью среди овдовевших заемщиков - 6.6%.\n",
    "* Заемщики со средним доходом (категория 'C') чаще допускают просроченную задолженность - 8.5%.\n",
    "* Заемщики с доходом выше среднего (категория 'B') реже допускают просроченную задолженность - 7.1%.\n",
    "* Наиболее высокие доли заемщиков с просроченной задолженностью среди заемщиков, которые взяли кредиты на получение образования и операции с автомобилем  - по 9.3%.\n",
    "* Наиболее низкая доля заемщиков с просроченной задолженностью среди заемщиков, которые взяли кредиты на операции с недвижимостью  - 7.3%.\n",
    "\n",
    "_**По итогам анализа целесообразно дать следующие рекомендации заказчику:**_\n",
    "\n",
    "* увеличить объемы кредитования операций с недвижимостью,\n",
    "* при принятии решений о кредитовании отдавать преимущество бездетным заемщикам состоящим/состоявшим в официальным браке и имеющим уровень дохода выше среднего."
   ]
  },
  {
   "cell_type": "markdown",
   "id": "6ca52c04",
   "metadata": {},
   "source": [
    "**По дополнительным вопросам:**"
   ]
  },
  {
   "cell_type": "markdown",
   "id": "eae15542",
   "metadata": {},
   "source": [
    "1. Возможными причинами появления пропусков в исходных данных могут являться:\n",
    "\n",
    "* ошибки при вводе данных пользователями,\n",
    "* клиенты могли не предоставить данные (возможно, что эту информацию не требуют в некоторых случаях), \n",
    "* умышленное искажение или сокрытие информации,\n",
    "* программно-аппаратные сбои,\n",
    "* технологические ошибки (проблемы на этапах загрузки/выгрузки данных, неправильные запросы к данным, некорректное объединение таблиц)."
   ]
  },
  {
   "cell_type": "markdown",
   "id": "e000e209",
   "metadata": {},
   "source": [
    "2. Заполнение пропусков медианным значением является лучшим решением для количественных переменных потому, что медианное значение является наиболее устойчивым показателем к выбросам в данных."
   ]
  }
 ],
 "metadata": {
  "ExecuteTimeLog": [
   {
    "duration": 770,
    "start_time": "2023-07-27T16:32:38.056Z"
   },
   {
    "duration": 72,
    "start_time": "2023-07-27T16:32:42.097Z"
   },
   {
    "duration": 24,
    "start_time": "2023-07-27T16:32:45.846Z"
   },
   {
    "duration": 19,
    "start_time": "2023-07-27T16:33:09.051Z"
   },
   {
    "duration": 72,
    "start_time": "2023-07-27T16:33:48.767Z"
   },
   {
    "duration": 17,
    "start_time": "2023-07-27T16:33:48.841Z"
   },
   {
    "duration": 35,
    "start_time": "2023-07-27T16:33:48.860Z"
   },
   {
    "duration": 21,
    "start_time": "2023-07-27T16:33:48.898Z"
   },
   {
    "duration": 87,
    "start_time": "2023-07-27T16:33:48.921Z"
   },
   {
    "duration": 4,
    "start_time": "2023-07-27T16:33:49.011Z"
   },
   {
    "duration": 22,
    "start_time": "2023-07-27T16:33:49.017Z"
   },
   {
    "duration": 4,
    "start_time": "2023-07-27T16:33:49.041Z"
   },
   {
    "duration": 12,
    "start_time": "2023-07-27T16:33:49.047Z"
   },
   {
    "duration": 4,
    "start_time": "2023-07-27T16:33:49.062Z"
   },
   {
    "duration": 53,
    "start_time": "2023-07-27T16:33:49.067Z"
   },
   {
    "duration": 27,
    "start_time": "2023-07-27T16:33:49.122Z"
   },
   {
    "duration": 16,
    "start_time": "2023-07-27T16:33:49.150Z"
   },
   {
    "duration": 24,
    "start_time": "2023-07-27T16:33:49.167Z"
   },
   {
    "duration": 57,
    "start_time": "2023-07-27T16:33:49.193Z"
   },
   {
    "duration": 39,
    "start_time": "2023-07-27T16:33:49.252Z"
   },
   {
    "duration": 4,
    "start_time": "2023-07-27T16:33:49.293Z"
   },
   {
    "duration": 39,
    "start_time": "2023-07-27T16:33:49.299Z"
   },
   {
    "duration": 11,
    "start_time": "2023-07-27T16:33:49.339Z"
   },
   {
    "duration": 6,
    "start_time": "2023-07-27T16:33:49.352Z"
   },
   {
    "duration": 32,
    "start_time": "2023-07-27T16:33:49.360Z"
   },
   {
    "duration": 3,
    "start_time": "2023-07-28T07:33:03.298Z"
   },
   {
    "duration": 45,
    "start_time": "2023-07-28T07:36:39.815Z"
   },
   {
    "duration": 510,
    "start_time": "2023-07-28T07:36:47.625Z"
   },
   {
    "duration": 22,
    "start_time": "2023-07-28T07:36:48.138Z"
   },
   {
    "duration": 16,
    "start_time": "2023-07-28T07:36:48.162Z"
   },
   {
    "duration": 11,
    "start_time": "2023-07-28T07:36:48.180Z"
   },
   {
    "duration": 34,
    "start_time": "2023-07-28T07:36:48.193Z"
   },
   {
    "duration": 4,
    "start_time": "2023-07-28T07:36:48.228Z"
   },
   {
    "duration": 30,
    "start_time": "2023-07-28T07:36:48.234Z"
   },
   {
    "duration": 8,
    "start_time": "2023-07-28T07:36:48.265Z"
   },
   {
    "duration": 8,
    "start_time": "2023-07-28T07:36:48.274Z"
   },
   {
    "duration": 6,
    "start_time": "2023-07-28T07:36:48.283Z"
   },
   {
    "duration": 49,
    "start_time": "2023-07-28T07:36:48.290Z"
   },
   {
    "duration": 19,
    "start_time": "2023-07-28T07:36:48.341Z"
   },
   {
    "duration": 4,
    "start_time": "2023-07-28T07:36:48.361Z"
   },
   {
    "duration": 16,
    "start_time": "2023-07-28T07:36:48.367Z"
   },
   {
    "duration": 27,
    "start_time": "2023-07-28T07:36:48.385Z"
   },
   {
    "duration": 17,
    "start_time": "2023-07-28T07:36:48.414Z"
   },
   {
    "duration": 24,
    "start_time": "2023-07-28T07:36:48.433Z"
   },
   {
    "duration": 12,
    "start_time": "2023-07-28T07:36:48.459Z"
   },
   {
    "duration": 6,
    "start_time": "2023-07-28T07:36:48.473Z"
   },
   {
    "duration": 4,
    "start_time": "2023-07-28T07:36:48.480Z"
   },
   {
    "duration": 15,
    "start_time": "2023-07-28T07:36:48.485Z"
   },
   {
    "duration": 2,
    "start_time": "2023-07-28T07:36:48.501Z"
   },
   {
    "duration": 8,
    "start_time": "2023-07-28T07:36:51.977Z"
   },
   {
    "duration": 11,
    "start_time": "2023-07-28T07:37:31.715Z"
   },
   {
    "duration": 168,
    "start_time": "2023-07-28T08:43:19.131Z"
   },
   {
    "duration": 5,
    "start_time": "2023-07-28T08:43:28.329Z"
   },
   {
    "duration": 3,
    "start_time": "2023-07-28T08:43:41.009Z"
   },
   {
    "duration": 8,
    "start_time": "2023-07-28T08:45:12.871Z"
   },
   {
    "duration": 15,
    "start_time": "2023-07-28T08:47:23.232Z"
   },
   {
    "duration": 61,
    "start_time": "2023-07-28T08:59:22.426Z"
   },
   {
    "duration": 1726,
    "start_time": "2023-07-28T08:59:50.271Z"
   },
   {
    "duration": 22,
    "start_time": "2023-07-28T09:00:46.009Z"
   },
   {
    "duration": 2863,
    "start_time": "2023-07-28T09:01:28.574Z"
   },
   {
    "duration": 848,
    "start_time": "2023-07-28T09:02:05.253Z"
   },
   {
    "duration": 30,
    "start_time": "2023-07-28T09:03:36.248Z"
   },
   {
    "duration": 138,
    "start_time": "2023-07-28T09:04:00.935Z"
   },
   {
    "duration": 25,
    "start_time": "2023-07-28T09:04:19.834Z"
   },
   {
    "duration": 1863,
    "start_time": "2023-07-28T09:04:50.113Z"
   },
   {
    "duration": 22,
    "start_time": "2023-07-28T09:05:06.578Z"
   },
   {
    "duration": 22,
    "start_time": "2023-07-28T09:06:31.511Z"
   },
   {
    "duration": 36,
    "start_time": "2023-07-28T09:08:14.839Z"
   },
   {
    "duration": 2,
    "start_time": "2023-07-28T09:42:43.657Z"
   },
   {
    "duration": 21,
    "start_time": "2023-07-28T09:46:44.097Z"
   },
   {
    "duration": 41,
    "start_time": "2023-07-28T09:46:57.254Z"
   },
   {
    "duration": 25,
    "start_time": "2023-07-28T09:47:45.257Z"
   },
   {
    "duration": 25,
    "start_time": "2023-07-28T09:48:04.670Z"
   },
   {
    "duration": 25,
    "start_time": "2023-07-28T09:48:16.790Z"
   },
   {
    "duration": 6,
    "start_time": "2023-07-28T10:00:04.720Z"
   },
   {
    "duration": 7,
    "start_time": "2023-07-28T10:00:38.399Z"
   },
   {
    "duration": 4,
    "start_time": "2023-07-28T10:01:01.205Z"
   },
   {
    "duration": 46,
    "start_time": "2023-07-28T10:01:18.826Z"
   },
   {
    "duration": 16,
    "start_time": "2023-07-28T10:07:27.805Z"
   },
   {
    "duration": 31,
    "start_time": "2023-07-28T10:07:56.490Z"
   },
   {
    "duration": 31,
    "start_time": "2023-07-28T10:08:10.150Z"
   },
   {
    "duration": 33,
    "start_time": "2023-07-28T10:09:30.748Z"
   },
   {
    "duration": 29,
    "start_time": "2023-07-28T10:09:42.287Z"
   },
   {
    "duration": 25,
    "start_time": "2023-07-28T10:10:47.307Z"
   },
   {
    "duration": 3,
    "start_time": "2023-07-28T10:32:51.565Z"
   },
   {
    "duration": 23,
    "start_time": "2023-07-28T10:36:59.307Z"
   },
   {
    "duration": 4,
    "start_time": "2023-07-28T11:24:01.247Z"
   },
   {
    "duration": 22,
    "start_time": "2023-07-28T11:28:06.169Z"
   },
   {
    "duration": 28,
    "start_time": "2023-07-28T12:03:39.140Z"
   },
   {
    "duration": 2628,
    "start_time": "2023-07-28T12:05:15.579Z"
   },
   {
    "duration": 9,
    "start_time": "2023-07-28T12:06:15.069Z"
   },
   {
    "duration": 2900,
    "start_time": "2023-07-28T12:06:38.901Z"
   },
   {
    "duration": 5,
    "start_time": "2023-07-28T12:07:23.726Z"
   },
   {
    "duration": 27,
    "start_time": "2023-07-28T12:07:47.724Z"
   },
   {
    "duration": 14,
    "start_time": "2023-07-28T12:08:06.794Z"
   },
   {
    "duration": 20,
    "start_time": "2023-07-28T12:08:30.205Z"
   },
   {
    "duration": 4,
    "start_time": "2023-07-28T12:10:46.442Z"
   },
   {
    "duration": 21,
    "start_time": "2023-07-28T12:10:55.126Z"
   },
   {
    "duration": 16,
    "start_time": "2023-07-28T12:11:46.903Z"
   },
   {
    "duration": 5,
    "start_time": "2023-07-28T12:11:56.317Z"
   },
   {
    "duration": 5,
    "start_time": "2023-07-28T12:12:04.656Z"
   },
   {
    "duration": 7,
    "start_time": "2023-07-28T12:12:16.225Z"
   },
   {
    "duration": 7,
    "start_time": "2023-07-28T12:12:54.418Z"
   },
   {
    "duration": 7,
    "start_time": "2023-07-28T12:13:47.216Z"
   },
   {
    "duration": 20,
    "start_time": "2023-07-28T12:14:03.456Z"
   },
   {
    "duration": 9,
    "start_time": "2023-07-28T12:15:25.083Z"
   },
   {
    "duration": 1888,
    "start_time": "2023-07-28T12:17:04.941Z"
   },
   {
    "duration": 1966,
    "start_time": "2023-07-28T12:20:53.700Z"
   },
   {
    "duration": 2853,
    "start_time": "2023-07-28T12:21:02.778Z"
   },
   {
    "duration": 15,
    "start_time": "2023-07-28T12:23:49.037Z"
   },
   {
    "duration": 8,
    "start_time": "2023-07-28T12:24:03.454Z"
   },
   {
    "duration": 15,
    "start_time": "2023-07-28T12:24:30.968Z"
   },
   {
    "duration": 5,
    "start_time": "2023-07-28T12:25:55.839Z"
   },
   {
    "duration": 5,
    "start_time": "2023-07-28T12:26:00.268Z"
   },
   {
    "duration": 17,
    "start_time": "2023-07-28T12:26:05.555Z"
   },
   {
    "duration": 10,
    "start_time": "2023-07-28T12:26:13.765Z"
   },
   {
    "duration": 12,
    "start_time": "2023-07-28T12:26:43.246Z"
   },
   {
    "duration": 8,
    "start_time": "2023-07-28T12:26:48.574Z"
   },
   {
    "duration": 22,
    "start_time": "2023-07-28T12:27:07.783Z"
   },
   {
    "duration": 7,
    "start_time": "2023-07-28T12:27:18.625Z"
   },
   {
    "duration": 11,
    "start_time": "2023-07-28T12:27:23.908Z"
   },
   {
    "duration": 118,
    "start_time": "2023-07-28T12:27:36.918Z"
   },
   {
    "duration": 7,
    "start_time": "2023-07-28T12:28:32.276Z"
   },
   {
    "duration": 8,
    "start_time": "2023-07-28T12:29:09.417Z"
   },
   {
    "duration": 12,
    "start_time": "2023-07-28T12:29:24.198Z"
   },
   {
    "duration": 8,
    "start_time": "2023-07-28T12:29:27.241Z"
   },
   {
    "duration": 168,
    "start_time": "2023-07-28T12:30:25.552Z"
   },
   {
    "duration": 19,
    "start_time": "2023-07-28T12:30:54.575Z"
   },
   {
    "duration": 6,
    "start_time": "2023-07-28T12:31:11.141Z"
   },
   {
    "duration": 5,
    "start_time": "2023-07-28T12:31:19.882Z"
   },
   {
    "duration": 5,
    "start_time": "2023-07-28T12:31:54.314Z"
   },
   {
    "duration": 7,
    "start_time": "2023-07-28T12:32:02.804Z"
   },
   {
    "duration": 5,
    "start_time": "2023-07-28T12:32:14.974Z"
   },
   {
    "duration": 28,
    "start_time": "2023-07-28T12:32:41.646Z"
   },
   {
    "duration": 16,
    "start_time": "2023-07-28T12:34:57.171Z"
   },
   {
    "duration": 5,
    "start_time": "2023-07-28T12:35:15.383Z"
   },
   {
    "duration": 13,
    "start_time": "2023-07-28T12:35:25.825Z"
   },
   {
    "duration": 168,
    "start_time": "2023-07-28T12:35:46.807Z"
   },
   {
    "duration": 10,
    "start_time": "2023-07-28T12:36:02.699Z"
   },
   {
    "duration": 26,
    "start_time": "2023-07-28T12:36:21.223Z"
   },
   {
    "duration": 12,
    "start_time": "2023-07-28T12:37:19.214Z"
   },
   {
    "duration": 6,
    "start_time": "2023-07-28T12:37:32.197Z"
   },
   {
    "duration": 148,
    "start_time": "2023-07-28T12:38:57.424Z"
   },
   {
    "duration": 171,
    "start_time": "2023-07-28T12:39:03.003Z"
   },
   {
    "duration": 8,
    "start_time": "2023-07-28T12:40:21.201Z"
   },
   {
    "duration": 197,
    "start_time": "2023-07-28T12:40:28.781Z"
   },
   {
    "duration": 201,
    "start_time": "2023-07-28T12:42:10.755Z"
   },
   {
    "duration": 35,
    "start_time": "2023-07-28T12:44:23.241Z"
   },
   {
    "duration": 22,
    "start_time": "2023-07-28T12:44:33.016Z"
   },
   {
    "duration": 21,
    "start_time": "2023-07-28T12:45:39.505Z"
   },
   {
    "duration": 45,
    "start_time": "2023-07-28T12:46:10.246Z"
   },
   {
    "duration": 26,
    "start_time": "2023-07-28T12:46:21.515Z"
   },
   {
    "duration": 117,
    "start_time": "2023-07-28T12:46:54.910Z"
   },
   {
    "duration": 152,
    "start_time": "2023-07-28T12:47:28.504Z"
   },
   {
    "duration": 118,
    "start_time": "2023-07-28T12:48:30.125Z"
   },
   {
    "duration": 146,
    "start_time": "2023-07-28T12:49:02.335Z"
   },
   {
    "duration": 239,
    "start_time": "2023-07-28T12:49:21.346Z"
   },
   {
    "duration": 137,
    "start_time": "2023-07-28T12:49:59.699Z"
   },
   {
    "duration": 191,
    "start_time": "2023-07-28T12:50:27.916Z"
   },
   {
    "duration": 159,
    "start_time": "2023-07-28T12:50:57.112Z"
   },
   {
    "duration": 125,
    "start_time": "2023-07-28T12:51:10.341Z"
   },
   {
    "duration": 134,
    "start_time": "2023-07-28T12:51:30.205Z"
   },
   {
    "duration": 1056,
    "start_time": "2023-07-28T13:25:51.790Z"
   },
   {
    "duration": 19,
    "start_time": "2023-07-28T13:25:52.848Z"
   },
   {
    "duration": 12,
    "start_time": "2023-07-28T13:25:52.869Z"
   },
   {
    "duration": 11,
    "start_time": "2023-07-28T13:25:52.883Z"
   },
   {
    "duration": 43,
    "start_time": "2023-07-28T13:25:52.895Z"
   },
   {
    "duration": 3,
    "start_time": "2023-07-28T13:25:52.941Z"
   },
   {
    "duration": 35,
    "start_time": "2023-07-28T13:25:52.945Z"
   },
   {
    "duration": 5,
    "start_time": "2023-07-28T13:25:52.982Z"
   },
   {
    "duration": 10,
    "start_time": "2023-07-28T13:25:52.989Z"
   },
   {
    "duration": 5,
    "start_time": "2023-07-28T13:25:53.003Z"
   },
   {
    "duration": 54,
    "start_time": "2023-07-28T13:25:53.026Z"
   },
   {
    "duration": 9,
    "start_time": "2023-07-28T13:25:53.081Z"
   },
   {
    "duration": 7,
    "start_time": "2023-07-28T13:25:53.091Z"
   },
   {
    "duration": 34,
    "start_time": "2023-07-28T13:25:53.100Z"
   },
   {
    "duration": 33,
    "start_time": "2023-07-28T13:25:53.136Z"
   },
   {
    "duration": 25,
    "start_time": "2023-07-28T13:25:53.171Z"
   },
   {
    "duration": 5,
    "start_time": "2023-07-28T13:25:53.197Z"
   },
   {
    "duration": 93,
    "start_time": "2023-07-28T13:25:53.203Z"
   },
   {
    "duration": 10,
    "start_time": "2023-07-28T13:25:53.298Z"
   },
   {
    "duration": 7,
    "start_time": "2023-07-28T13:25:53.309Z"
   },
   {
    "duration": 36,
    "start_time": "2023-07-28T13:25:53.317Z"
   },
   {
    "duration": 28,
    "start_time": "2023-07-28T13:25:53.354Z"
   },
   {
    "duration": 22,
    "start_time": "2023-07-28T13:25:53.383Z"
   },
   {
    "duration": 27,
    "start_time": "2023-07-28T13:25:53.406Z"
   },
   {
    "duration": 38,
    "start_time": "2023-07-28T13:25:53.436Z"
   },
   {
    "duration": 1423,
    "start_time": "2023-07-28T13:25:53.476Z"
   },
   {
    "duration": 30,
    "start_time": "2023-07-28T13:25:54.900Z"
   },
   {
    "duration": 111,
    "start_time": "2023-07-28T13:25:54.934Z"
   },
   {
    "duration": 18,
    "start_time": "2023-07-28T13:25:55.047Z"
   },
   {
    "duration": 109,
    "start_time": "2023-07-28T13:25:55.067Z"
   },
   {
    "duration": 18,
    "start_time": "2023-07-28T13:25:55.178Z"
   },
   {
    "duration": 128,
    "start_time": "2023-07-28T13:25:55.197Z"
   },
   {
    "duration": 101,
    "start_time": "2023-07-28T13:41:13.401Z"
   },
   {
    "duration": 4,
    "start_time": "2023-07-28T13:41:24.583Z"
   },
   {
    "duration": 165,
    "start_time": "2023-07-29T06:10:00.899Z"
   },
   {
    "duration": 1859,
    "start_time": "2023-07-29T06:15:04.444Z"
   },
   {
    "duration": 102,
    "start_time": "2023-07-29T06:18:19.047Z"
   },
   {
    "duration": 78,
    "start_time": "2023-07-29T06:18:31.629Z"
   },
   {
    "duration": 20,
    "start_time": "2023-07-29T06:18:31.708Z"
   },
   {
    "duration": 53,
    "start_time": "2023-07-29T06:18:31.730Z"
   },
   {
    "duration": 35,
    "start_time": "2023-07-29T06:18:31.785Z"
   },
   {
    "duration": 36,
    "start_time": "2023-07-29T06:18:31.822Z"
   },
   {
    "duration": 3,
    "start_time": "2023-07-29T06:18:31.860Z"
   },
   {
    "duration": 38,
    "start_time": "2023-07-29T06:18:31.865Z"
   },
   {
    "duration": 38,
    "start_time": "2023-07-29T06:18:31.904Z"
   },
   {
    "duration": 37,
    "start_time": "2023-07-29T06:18:31.944Z"
   },
   {
    "duration": 20,
    "start_time": "2023-07-29T06:18:31.983Z"
   },
   {
    "duration": 60,
    "start_time": "2023-07-29T06:18:32.005Z"
   },
   {
    "duration": 13,
    "start_time": "2023-07-29T06:18:32.067Z"
   },
   {
    "duration": 28,
    "start_time": "2023-07-29T06:18:32.086Z"
   },
   {
    "duration": 26,
    "start_time": "2023-07-29T06:18:32.118Z"
   },
   {
    "duration": 59,
    "start_time": "2023-07-29T06:18:32.146Z"
   },
   {
    "duration": 20,
    "start_time": "2023-07-29T06:18:32.207Z"
   },
   {
    "duration": 9,
    "start_time": "2023-07-29T06:18:32.228Z"
   },
   {
    "duration": 30,
    "start_time": "2023-07-29T06:18:32.238Z"
   },
   {
    "duration": 35,
    "start_time": "2023-07-29T06:18:32.272Z"
   },
   {
    "duration": 9,
    "start_time": "2023-07-29T06:18:32.309Z"
   },
   {
    "duration": 31,
    "start_time": "2023-07-29T06:18:32.320Z"
   },
   {
    "duration": 23,
    "start_time": "2023-07-29T06:36:12.902Z"
   },
   {
    "duration": 74,
    "start_time": "2023-07-29T06:36:46.018Z"
   },
   {
    "duration": 18,
    "start_time": "2023-07-29T06:36:46.095Z"
   },
   {
    "duration": 103,
    "start_time": "2023-07-29T06:36:46.114Z"
   },
   {
    "duration": 13,
    "start_time": "2023-07-29T06:36:46.219Z"
   },
   {
    "duration": 62,
    "start_time": "2023-07-29T06:36:46.243Z"
   },
   {
    "duration": 4,
    "start_time": "2023-07-29T06:36:46.308Z"
   },
   {
    "duration": 52,
    "start_time": "2023-07-29T06:36:46.315Z"
   },
   {
    "duration": 47,
    "start_time": "2023-07-29T06:36:46.370Z"
   },
   {
    "duration": 33,
    "start_time": "2023-07-29T06:36:46.419Z"
   },
   {
    "duration": 33,
    "start_time": "2023-07-29T06:36:46.455Z"
   },
   {
    "duration": 50,
    "start_time": "2023-07-29T06:36:46.490Z"
   },
   {
    "duration": 14,
    "start_time": "2023-07-29T06:36:46.543Z"
   },
   {
    "duration": 13,
    "start_time": "2023-07-29T06:36:46.559Z"
   },
   {
    "duration": 32,
    "start_time": "2023-07-29T06:36:46.576Z"
   },
   {
    "duration": 39,
    "start_time": "2023-07-29T06:36:46.609Z"
   },
   {
    "duration": 17,
    "start_time": "2023-07-29T06:36:46.650Z"
   },
   {
    "duration": 4,
    "start_time": "2023-07-29T06:36:46.669Z"
   },
   {
    "duration": 20,
    "start_time": "2023-07-29T06:36:46.674Z"
   },
   {
    "duration": 18,
    "start_time": "2023-07-29T06:36:46.696Z"
   },
   {
    "duration": 9,
    "start_time": "2023-07-29T06:36:46.716Z"
   },
   {
    "duration": 28,
    "start_time": "2023-07-29T06:36:46.726Z"
   },
   {
    "duration": 16,
    "start_time": "2023-07-29T06:36:46.756Z"
   },
   {
    "duration": 25,
    "start_time": "2023-07-29T06:36:46.774Z"
   },
   {
    "duration": 44,
    "start_time": "2023-07-29T06:36:46.802Z"
   },
   {
    "duration": 24,
    "start_time": "2023-07-29T06:36:51.603Z"
   },
   {
    "duration": 11,
    "start_time": "2023-07-29T06:47:51.477Z"
   },
   {
    "duration": 74,
    "start_time": "2023-07-29T06:48:18.170Z"
   },
   {
    "duration": 17,
    "start_time": "2023-07-29T06:48:18.246Z"
   },
   {
    "duration": 25,
    "start_time": "2023-07-29T06:48:18.265Z"
   },
   {
    "duration": 17,
    "start_time": "2023-07-29T06:48:18.291Z"
   },
   {
    "duration": 42,
    "start_time": "2023-07-29T06:48:18.311Z"
   },
   {
    "duration": 4,
    "start_time": "2023-07-29T06:48:18.355Z"
   },
   {
    "duration": 24,
    "start_time": "2023-07-29T06:48:18.361Z"
   },
   {
    "duration": 13,
    "start_time": "2023-07-29T06:48:18.386Z"
   },
   {
    "duration": 31,
    "start_time": "2023-07-29T06:48:18.401Z"
   },
   {
    "duration": 18,
    "start_time": "2023-07-29T06:48:18.434Z"
   },
   {
    "duration": 35,
    "start_time": "2023-07-29T06:48:18.454Z"
   },
   {
    "duration": 11,
    "start_time": "2023-07-29T06:48:18.491Z"
   },
   {
    "duration": 13,
    "start_time": "2023-07-29T06:48:18.504Z"
   },
   {
    "duration": 17,
    "start_time": "2023-07-29T06:48:18.520Z"
   },
   {
    "duration": 44,
    "start_time": "2023-07-29T06:48:18.539Z"
   },
   {
    "duration": 17,
    "start_time": "2023-07-29T06:48:18.584Z"
   },
   {
    "duration": 7,
    "start_time": "2023-07-29T06:48:18.603Z"
   },
   {
    "duration": 50,
    "start_time": "2023-07-29T06:48:18.611Z"
   },
   {
    "duration": 9,
    "start_time": "2023-07-29T06:48:18.662Z"
   },
   {
    "duration": 16,
    "start_time": "2023-07-29T06:48:18.673Z"
   },
   {
    "duration": 38,
    "start_time": "2023-07-29T06:48:18.691Z"
   },
   {
    "duration": 24,
    "start_time": "2023-07-29T06:48:18.731Z"
   },
   {
    "duration": 49,
    "start_time": "2023-07-29T06:48:18.757Z"
   },
   {
    "duration": 32,
    "start_time": "2023-07-29T06:48:18.808Z"
   },
   {
    "duration": 44,
    "start_time": "2023-07-29T06:48:18.842Z"
   },
   {
    "duration": 13,
    "start_time": "2023-07-29T06:48:21.423Z"
   },
   {
    "duration": 15,
    "start_time": "2023-07-29T06:49:50.338Z"
   },
   {
    "duration": 21,
    "start_time": "2023-07-29T06:50:00.185Z"
   },
   {
    "duration": 18,
    "start_time": "2023-07-29T06:50:15.488Z"
   },
   {
    "duration": 11,
    "start_time": "2023-07-29T06:50:24.754Z"
   },
   {
    "duration": 109,
    "start_time": "2023-07-29T06:50:34.737Z"
   },
   {
    "duration": 18,
    "start_time": "2023-07-29T06:51:51.133Z"
   },
   {
    "duration": 18,
    "start_time": "2023-07-29T06:51:55.480Z"
   },
   {
    "duration": 116,
    "start_time": "2023-07-29T06:52:55.190Z"
   },
   {
    "duration": 18,
    "start_time": "2023-07-29T06:53:49.837Z"
   },
   {
    "duration": 107,
    "start_time": "2023-07-29T06:56:10.033Z"
   },
   {
    "duration": 20,
    "start_time": "2023-07-29T06:57:05.889Z"
   },
   {
    "duration": 147,
    "start_time": "2023-07-29T06:57:53.130Z"
   },
   {
    "duration": 156,
    "start_time": "2023-07-29T06:58:59.093Z"
   },
   {
    "duration": 1176,
    "start_time": "2023-07-29T08:51:49.395Z"
   },
   {
    "duration": 18,
    "start_time": "2023-07-29T08:51:50.573Z"
   },
   {
    "duration": 18,
    "start_time": "2023-07-29T08:51:50.592Z"
   },
   {
    "duration": 9,
    "start_time": "2023-07-29T08:51:50.612Z"
   },
   {
    "duration": 57,
    "start_time": "2023-07-29T08:51:50.622Z"
   },
   {
    "duration": 3,
    "start_time": "2023-07-29T08:51:50.681Z"
   },
   {
    "duration": 15,
    "start_time": "2023-07-29T08:51:50.686Z"
   },
   {
    "duration": 5,
    "start_time": "2023-07-29T08:51:50.702Z"
   },
   {
    "duration": 12,
    "start_time": "2023-07-29T08:51:50.709Z"
   },
   {
    "duration": 6,
    "start_time": "2023-07-29T08:51:50.723Z"
   },
   {
    "duration": 51,
    "start_time": "2023-07-29T08:51:50.731Z"
   },
   {
    "duration": 10,
    "start_time": "2023-07-29T08:51:50.784Z"
   },
   {
    "duration": 6,
    "start_time": "2023-07-29T08:51:50.796Z"
   },
   {
    "duration": 14,
    "start_time": "2023-07-29T08:51:50.804Z"
   },
   {
    "duration": 23,
    "start_time": "2023-07-29T08:51:50.820Z"
   },
   {
    "duration": 19,
    "start_time": "2023-07-29T08:51:50.860Z"
   },
   {
    "duration": 4,
    "start_time": "2023-07-29T08:51:50.881Z"
   },
   {
    "duration": 26,
    "start_time": "2023-07-29T08:51:50.887Z"
   },
   {
    "duration": 6,
    "start_time": "2023-07-29T08:51:50.914Z"
   },
   {
    "duration": 3,
    "start_time": "2023-07-29T08:51:50.922Z"
   },
   {
    "duration": 16,
    "start_time": "2023-07-29T08:51:50.926Z"
   },
   {
    "duration": 3,
    "start_time": "2023-07-29T08:51:50.959Z"
   },
   {
    "duration": 9,
    "start_time": "2023-07-29T08:51:50.964Z"
   },
   {
    "duration": 15,
    "start_time": "2023-07-29T08:51:50.975Z"
   },
   {
    "duration": 31,
    "start_time": "2023-07-29T08:51:50.992Z"
   },
   {
    "duration": 129,
    "start_time": "2023-07-29T08:51:51.025Z"
   },
   {
    "duration": 21,
    "start_time": "2023-07-29T08:51:51.159Z"
   },
   {
    "duration": 134,
    "start_time": "2023-07-29T08:51:51.183Z"
   },
   {
    "duration": 21,
    "start_time": "2023-07-29T08:51:51.319Z"
   },
   {
    "duration": 127,
    "start_time": "2023-07-29T08:51:51.342Z"
   },
   {
    "duration": 21,
    "start_time": "2023-07-29T08:51:51.471Z"
   },
   {
    "duration": 128,
    "start_time": "2023-07-29T08:51:51.493Z"
   }
  ],
  "colab": {
   "provenance": []
  },
  "kernelspec": {
   "display_name": "Python 3 (ipykernel)",
   "language": "python",
   "name": "python3"
  },
  "language_info": {
   "codemirror_mode": {
    "name": "ipython",
    "version": 3
   },
   "file_extension": ".py",
   "mimetype": "text/x-python",
   "name": "python",
   "nbconvert_exporter": "python",
   "pygments_lexer": "ipython3",
   "version": "3.9.11"
  },
  "toc": {
   "base_numbering": 1,
   "nav_menu": {},
   "number_sections": true,
   "sideBar": true,
   "skip_h1_title": true,
   "title_cell": "Table of Contents",
   "title_sidebar": "Contents",
   "toc_cell": false,
   "toc_position": {},
   "toc_section_display": true,
   "toc_window_display": false
  }
 },
 "nbformat": 4,
 "nbformat_minor": 5
}
