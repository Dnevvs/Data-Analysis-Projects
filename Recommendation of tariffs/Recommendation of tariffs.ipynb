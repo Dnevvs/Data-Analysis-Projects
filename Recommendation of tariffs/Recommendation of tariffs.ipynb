{
 "cells": [
  {
   "cell_type": "markdown",
   "metadata": {},
   "source": [
    "# Рекомендация тарифов"
   ]
  },
  {
   "cell_type": "markdown",
   "metadata": {},
   "source": [
    "__Описание проекта__\n",
    "\n",
    "Оператор мобильной связи «Мегалайн» выяснил: многие клиенты пользуются архивными тарифами. Они хотят построить систему, способную проанализировать поведение клиентов и предложить пользователям новый тариф: «Смарт» или «Ультра».\n",
    "\n",
    "В нашем распоряжении данные о поведении клиентов, которые уже перешли на эти тарифы. Нужно построить модель для задачи классификации, которая выберет подходящий тариф.\n",
    "\n",
    "Построим модель с максимально большим значением accuracy. Чтобы проект был успешным, нужно довести долю правильных ответов по крайней мере до 0.75. Затем проверим accuracy на тестовой выборке."
   ]
  },
  {
   "cell_type": "markdown",
   "metadata": {},
   "source": [
    "__Описание данных__\n",
    "\n",
    "Каждый объект в наборе данных — это информация о поведении одного пользователя за месяц.\n",
    "Известно:\n",
    "* `сalls` — количество звонков,\n",
    "* `minutes` — суммарная длительность звонков в минутах,\n",
    "* `messages` — количество sms-сообщений,\n",
    "* `mb_used` — израсходованный интернет-трафик в Мб,\n",
    "* `is_ultra` — каким тарифом пользовался в течение месяца («Ультра» — 1, «Смарт» — 0).\n"
   ]
  },
  {
   "cell_type": "markdown",
   "metadata": {},
   "source": [
    "__План работы:__\n",
    "\n",
    "1. [Откроем файл с данными и изучим его. Путь к файлу: `/datasets/users_behavior.csv`.](#section1)\n",
    "    \n",
    "    1.1. [Изучим общую информацию о полученном датафрейме.](#section1_1)\n",
    "    \n",
    "    1.2. [Выведем общую информацию о датафрейме.](#section1_2)\n",
    "    \n",
    "    1.3. [Заменим типы данных.](#section1_3)\n",
    "    \n",
    "    1.4. [Проверим сумму дубликатов.](#section1_4)\n",
    "    \n",
    "    1.5. [Проверим количество пропусков.](#section1_5)\n",
    "    \n",
    "    1.6. [Посмотрим описание столбцов датафрейма.](#section1_6)\n",
    "    \n",
    "    1.7. [Сделаем промежуточные выводы.](#section1_7)\n",
    "    \n",
    "2. [Разделим исходные данные на обучающую, валидационную и тестовую выборки.](#section2)\n",
    "\n",
    "    2.1. [Обучающая выборка.](#section2_1)\n",
    "    \n",
    "    2.2. [Валидационная и тестовая выборки.](#section2_2)\n",
    "    \n",
    "3. [Исследуем качество разных моделей, меняя гиперпараметры.](#section3) \n",
    "    \n",
    "    3.1. [Дерево решений DecisionTreeClassifier.](#section3_1)\n",
    "    \n",
    "    3.2. [Случайный лес RandomForestClassifier](#section3_2)\n",
    "    \n",
    "    3.3. [Логистическая регрессия Logistic Regression](#section3_3)\n",
    "\n",
    "4. [Напишем выводы исследования.](#section4)\n",
    "5. [Проверим качество модели на тестовой выборке.](#section5)\n",
    "6. [Дополнительное задание: проверим модели на вменяемость.](#section6)\n",
    "7. [Напишем общий вывод.](#section7)\n",
    "8. [Проверим проект по чек-листу.](#section8) "
   ]
  },
  {
   "cell_type": "markdown",
   "metadata": {},
   "source": [
    "<a id='section1'></a>\n",
    "## Откроем и изучим файл."
   ]
  },
  {
   "cell_type": "markdown",
   "metadata": {},
   "source": [
    "Путь к файлу: `/datasets/users_behavior.csv`"
   ]
  },
  {
   "cell_type": "code",
   "execution_count": 1,
   "metadata": {},
   "outputs": [
    {
     "name": "stdout",
     "output_type": "stream",
     "text": [
      "Collecting missingno\n",
      "  Downloading missingno-0.5.2-py3-none-any.whl (8.7 kB)\n",
      "Requirement already satisfied: seaborn in /opt/conda/lib/python3.9/site-packages (from missingno) (0.11.1)\n",
      "Requirement already satisfied: matplotlib in /opt/conda/lib/python3.9/site-packages (from missingno) (3.3.4)\n",
      "Requirement already satisfied: numpy in /opt/conda/lib/python3.9/site-packages (from missingno) (1.21.1)\n",
      "Requirement already satisfied: scipy in /opt/conda/lib/python3.9/site-packages (from missingno) (1.9.1)\n",
      "Requirement already satisfied: cycler>=0.10 in /opt/conda/lib/python3.9/site-packages (from matplotlib->missingno) (0.11.0)\n",
      "Requirement already satisfied: python-dateutil>=2.1 in /opt/conda/lib/python3.9/site-packages (from matplotlib->missingno) (2.8.1)\n",
      "Requirement already satisfied: kiwisolver>=1.0.1 in /opt/conda/lib/python3.9/site-packages (from matplotlib->missingno) (1.4.4)\n",
      "Requirement already satisfied: pyparsing!=2.0.4,!=2.1.2,!=2.1.6,>=2.0.3 in /opt/conda/lib/python3.9/site-packages (from matplotlib->missingno) (2.4.7)\n",
      "Requirement already satisfied: pillow>=6.2.0 in /opt/conda/lib/python3.9/site-packages (from matplotlib->missingno) (8.4.0)\n",
      "Requirement already satisfied: six>=1.5 in /opt/conda/lib/python3.9/site-packages (from python-dateutil>=2.1->matplotlib->missingno) (1.16.0)\n",
      "Requirement already satisfied: pandas>=0.23 in /opt/conda/lib/python3.9/site-packages (from seaborn->missingno) (1.2.4)\n",
      "Requirement already satisfied: pytz>=2017.3 in /opt/conda/lib/python3.9/site-packages (from pandas>=0.23->seaborn->missingno) (2021.1)\n",
      "Installing collected packages: missingno\n",
      "Successfully installed missingno-0.5.2\n"
     ]
    }
   ],
   "source": [
    "# установим пакет missingno\n",
    "\n",
    "! pip install missingno"
   ]
  },
  {
   "cell_type": "code",
   "execution_count": 2,
   "metadata": {
    "scrolled": true
   },
   "outputs": [],
   "source": [
    "# Импортируем нужные библиотеки\n",
    "import warnings\n",
    "\n",
    "import matplotlib.pyplot as plt\n",
    "import numpy as np\n",
    "import pandas as pd\n",
    "import seaborn as sns\n",
    "from IPython.display import display\n",
    "from sklearn import tree\n",
    "from sklearn.dummy import DummyClassifier\n",
    "from sklearn.ensemble import RandomForestClassifier\n",
    "from sklearn.linear_model import LogisticRegression\n",
    "from sklearn.metrics import (accuracy_score, confusion_matrix, f1_score,\n",
    "                             precision_score, recall_score)\n",
    "from sklearn.model_selection import train_test_split\n",
    "from sklearn.tree import DecisionTreeClassifier\n",
    "from tqdm import tqdm\n",
    "\n",
    "import missingno as msno\n",
    "# отключим предупреждения для удобства просмотра результатов\n",
    "warnings.filterwarnings('ignore')"
   ]
  },
  {
   "cell_type": "code",
   "execution_count": 3,
   "metadata": {},
   "outputs": [],
   "source": [
    "# считаем датасет в переменную data\n",
    "try:\n",
    "    data = pd.read_csv('/datasets/users_behavior.csv')\n",
    "except:\n",
    "    data = pd.read_csv('https://code.s3.yandex.net/datasets/users_behavior.csv')"
   ]
  },
  {
   "cell_type": "markdown",
   "metadata": {},
   "source": [
    "<a id='section1_1'></a>\n",
    "### Изучим общую информацию о полученном датафрейме."
   ]
  },
  {
   "cell_type": "markdown",
   "metadata": {},
   "source": [
    "Выведем на экран первые 10 строк датафрейма:"
   ]
  },
  {
   "cell_type": "code",
   "execution_count": 4,
   "metadata": {
    "scrolled": true
   },
   "outputs": [
    {
     "data": {
      "text/html": [
       "<div>\n",
       "<style scoped>\n",
       "    .dataframe tbody tr th:only-of-type {\n",
       "        vertical-align: middle;\n",
       "    }\n",
       "\n",
       "    .dataframe tbody tr th {\n",
       "        vertical-align: top;\n",
       "    }\n",
       "\n",
       "    .dataframe thead th {\n",
       "        text-align: right;\n",
       "    }\n",
       "</style>\n",
       "<table border=\"1\" class=\"dataframe\">\n",
       "  <thead>\n",
       "    <tr style=\"text-align: right;\">\n",
       "      <th></th>\n",
       "      <th>calls</th>\n",
       "      <th>minutes</th>\n",
       "      <th>messages</th>\n",
       "      <th>mb_used</th>\n",
       "      <th>is_ultra</th>\n",
       "    </tr>\n",
       "  </thead>\n",
       "  <tbody>\n",
       "    <tr>\n",
       "      <th>0</th>\n",
       "      <td>40.0</td>\n",
       "      <td>311.90</td>\n",
       "      <td>83.0</td>\n",
       "      <td>19915.42</td>\n",
       "      <td>0</td>\n",
       "    </tr>\n",
       "    <tr>\n",
       "      <th>1</th>\n",
       "      <td>85.0</td>\n",
       "      <td>516.75</td>\n",
       "      <td>56.0</td>\n",
       "      <td>22696.96</td>\n",
       "      <td>0</td>\n",
       "    </tr>\n",
       "    <tr>\n",
       "      <th>2</th>\n",
       "      <td>77.0</td>\n",
       "      <td>467.66</td>\n",
       "      <td>86.0</td>\n",
       "      <td>21060.45</td>\n",
       "      <td>0</td>\n",
       "    </tr>\n",
       "    <tr>\n",
       "      <th>3</th>\n",
       "      <td>106.0</td>\n",
       "      <td>745.53</td>\n",
       "      <td>81.0</td>\n",
       "      <td>8437.39</td>\n",
       "      <td>1</td>\n",
       "    </tr>\n",
       "    <tr>\n",
       "      <th>4</th>\n",
       "      <td>66.0</td>\n",
       "      <td>418.74</td>\n",
       "      <td>1.0</td>\n",
       "      <td>14502.75</td>\n",
       "      <td>0</td>\n",
       "    </tr>\n",
       "    <tr>\n",
       "      <th>5</th>\n",
       "      <td>58.0</td>\n",
       "      <td>344.56</td>\n",
       "      <td>21.0</td>\n",
       "      <td>15823.37</td>\n",
       "      <td>0</td>\n",
       "    </tr>\n",
       "    <tr>\n",
       "      <th>6</th>\n",
       "      <td>57.0</td>\n",
       "      <td>431.64</td>\n",
       "      <td>20.0</td>\n",
       "      <td>3738.90</td>\n",
       "      <td>1</td>\n",
       "    </tr>\n",
       "    <tr>\n",
       "      <th>7</th>\n",
       "      <td>15.0</td>\n",
       "      <td>132.40</td>\n",
       "      <td>6.0</td>\n",
       "      <td>21911.60</td>\n",
       "      <td>0</td>\n",
       "    </tr>\n",
       "    <tr>\n",
       "      <th>8</th>\n",
       "      <td>7.0</td>\n",
       "      <td>43.39</td>\n",
       "      <td>3.0</td>\n",
       "      <td>2538.67</td>\n",
       "      <td>1</td>\n",
       "    </tr>\n",
       "    <tr>\n",
       "      <th>9</th>\n",
       "      <td>90.0</td>\n",
       "      <td>665.41</td>\n",
       "      <td>38.0</td>\n",
       "      <td>17358.61</td>\n",
       "      <td>0</td>\n",
       "    </tr>\n",
       "  </tbody>\n",
       "</table>\n",
       "</div>"
      ],
      "text/plain": [
       "   calls  minutes  messages   mb_used  is_ultra\n",
       "0   40.0   311.90      83.0  19915.42         0\n",
       "1   85.0   516.75      56.0  22696.96         0\n",
       "2   77.0   467.66      86.0  21060.45         0\n",
       "3  106.0   745.53      81.0   8437.39         1\n",
       "4   66.0   418.74       1.0  14502.75         0\n",
       "5   58.0   344.56      21.0  15823.37         0\n",
       "6   57.0   431.64      20.0   3738.90         1\n",
       "7   15.0   132.40       6.0  21911.60         0\n",
       "8    7.0    43.39       3.0   2538.67         1\n",
       "9   90.0   665.41      38.0  17358.61         0"
      ]
     },
     "execution_count": 4,
     "metadata": {},
     "output_type": "execute_result"
    }
   ],
   "source": [
    "data.head(10)"
   ]
  },
  {
   "cell_type": "markdown",
   "metadata": {},
   "source": [
    "<a id='section1_2'></a>\n",
    "### Выведем общую информацию о датафрейме."
   ]
  },
  {
   "cell_type": "code",
   "execution_count": 5,
   "metadata": {
    "scrolled": false
   },
   "outputs": [
    {
     "name": "stdout",
     "output_type": "stream",
     "text": [
      "<class 'pandas.core.frame.DataFrame'>\n",
      "RangeIndex: 3214 entries, 0 to 3213\n",
      "Data columns (total 5 columns):\n",
      " #   Column    Non-Null Count  Dtype  \n",
      "---  ------    --------------  -----  \n",
      " 0   calls     3214 non-null   float64\n",
      " 1   minutes   3214 non-null   float64\n",
      " 2   messages  3214 non-null   float64\n",
      " 3   mb_used   3214 non-null   float64\n",
      " 4   is_ultra  3214 non-null   int64  \n",
      "dtypes: float64(4), int64(1)\n",
      "memory usage: 125.7 KB\n"
     ]
    }
   ],
   "source": [
    "data.info()"
   ]
  },
  {
   "cell_type": "markdown",
   "metadata": {},
   "source": [
    "<a id='section1_3'></a>\n",
    "### Заменим типы данных."
   ]
  },
  {
   "cell_type": "markdown",
   "metadata": {},
   "source": [
    "__В следующих столбцах хранятся целые значения целесообразно заменить тип на `int32`:__\n",
    "* `сalls` — количество звонков,\n",
    "* `messages` — количество sms-сообщений,\n",
    "* `is_ultra` — каким тарифом пользовался в течение месяца («Ультра» — 1, «Смарт» — 0).\n",
    "\n",
    "__Для экономии памяти заменим на float32:__\n",
    "* `minutes` — суммарная длительность звонков в минутах,\n",
    "* `mb_used` — израсходованный интернет-трафик в Мб."
   ]
  },
  {
   "cell_type": "code",
   "execution_count": 6,
   "metadata": {},
   "outputs": [
    {
     "data": {
      "text/plain": [
       "calls       int32\n",
       "messages    int32\n",
       "is_ultra    int32\n",
       "dtype: object"
      ]
     },
     "execution_count": 6,
     "metadata": {},
     "output_type": "execute_result"
    }
   ],
   "source": [
    "# Преобразуем столбцы в int32:\n",
    "# список с именами столбцов для преобразования\n",
    "columns = ['calls',\n",
    "           'messages',\n",
    "           'is_ultra']\n",
    "# изменяем тип данных\n",
    "data[columns] = data[columns].apply(lambda x: x.astype('int32'))\n",
    "# проверяем результат\n",
    "data[columns].dtypes"
   ]
  },
  {
   "cell_type": "code",
   "execution_count": 7,
   "metadata": {
    "scrolled": true
   },
   "outputs": [
    {
     "data": {
      "text/plain": [
       "minutes    float32\n",
       "mb_used    float32\n",
       "dtype: object"
      ]
     },
     "execution_count": 7,
     "metadata": {},
     "output_type": "execute_result"
    }
   ],
   "source": [
    "# Преобразуем столбцы в float32:\n",
    "# список с именами столбцов для преобразования\n",
    "columns = ['minutes',\n",
    "           'mb_used']\n",
    "# изменяем тип данных\n",
    "data[columns] = data[columns].apply(lambda x: x.astype('float32'))\n",
    "# проверяем результат\n",
    "data[columns].dtypes"
   ]
  },
  {
   "cell_type": "markdown",
   "metadata": {},
   "source": [
    "<a id='section1_4'></a>\n",
    "### Проверим сумму дубликатов."
   ]
  },
  {
   "cell_type": "code",
   "execution_count": 8,
   "metadata": {
    "scrolled": false
   },
   "outputs": [
    {
     "data": {
      "text/plain": [
       "0"
      ]
     },
     "execution_count": 8,
     "metadata": {},
     "output_type": "execute_result"
    }
   ],
   "source": [
    "data.duplicated().sum()"
   ]
  },
  {
   "cell_type": "markdown",
   "metadata": {},
   "source": [
    "<a id='section1_5'></a>\n",
    "### Проверим количество пропусков."
   ]
  },
  {
   "cell_type": "code",
   "execution_count": 9,
   "metadata": {
    "scrolled": true
   },
   "outputs": [
    {
     "data": {
      "text/plain": [
       "<AxesSubplot:>"
      ]
     },
     "execution_count": 9,
     "metadata": {},
     "output_type": "execute_result"
    },
    {
     "data": {
      "image/png": "[encoded data removed]",
      "text/plain": [
       "<Figure size 1800x720 with 3 Axes>"
      ]
     },
     "metadata": {
      "needs_background": "light"
     },
     "output_type": "display_data"
    }
   ],
   "source": [
    "msno.bar(data)"
   ]
  },
  {
   "cell_type": "markdown",
   "metadata": {},
   "source": [
    "<a id='section1_6'></a>\n",
    "### Посмотрим описание столбцов датафрейма."
   ]
  },
  {
   "cell_type": "code",
   "execution_count": 10,
   "metadata": {
    "scrolled": true
   },
   "outputs": [
    {
     "data": {
      "text/html": [
       "<div>\n",
       "<style scoped>\n",
       "    .dataframe tbody tr th:only-of-type {\n",
       "        vertical-align: middle;\n",
       "    }\n",
       "\n",
       "    .dataframe tbody tr th {\n",
       "        vertical-align: top;\n",
       "    }\n",
       "\n",
       "    .dataframe thead th {\n",
       "        text-align: right;\n",
       "    }\n",
       "</style>\n",
       "<table border=\"1\" class=\"dataframe\">\n",
       "  <thead>\n",
       "    <tr style=\"text-align: right;\">\n",
       "      <th></th>\n",
       "      <th>count</th>\n",
       "      <th>mean</th>\n",
       "      <th>std</th>\n",
       "      <th>min</th>\n",
       "      <th>25%</th>\n",
       "      <th>50%</th>\n",
       "      <th>75%</th>\n",
       "      <th>max</th>\n",
       "    </tr>\n",
       "  </thead>\n",
       "  <tbody>\n",
       "    <tr>\n",
       "      <th>calls</th>\n",
       "      <td>3214.0</td>\n",
       "      <td>63.038892</td>\n",
       "      <td>33.236368</td>\n",
       "      <td>0.0</td>\n",
       "      <td>40.000000</td>\n",
       "      <td>62.000000</td>\n",
       "      <td>82.000000</td>\n",
       "      <td>244.000000</td>\n",
       "    </tr>\n",
       "    <tr>\n",
       "      <th>minutes</th>\n",
       "      <td>3214.0</td>\n",
       "      <td>438.208771</td>\n",
       "      <td>234.569870</td>\n",
       "      <td>0.0</td>\n",
       "      <td>274.574997</td>\n",
       "      <td>430.600006</td>\n",
       "      <td>571.927521</td>\n",
       "      <td>1632.060059</td>\n",
       "    </tr>\n",
       "    <tr>\n",
       "      <th>messages</th>\n",
       "      <td>3214.0</td>\n",
       "      <td>38.281269</td>\n",
       "      <td>36.148326</td>\n",
       "      <td>0.0</td>\n",
       "      <td>9.000000</td>\n",
       "      <td>30.000000</td>\n",
       "      <td>57.000000</td>\n",
       "      <td>224.000000</td>\n",
       "    </tr>\n",
       "    <tr>\n",
       "      <th>mb_used</th>\n",
       "      <td>3214.0</td>\n",
       "      <td>17207.673828</td>\n",
       "      <td>7570.968262</td>\n",
       "      <td>0.0</td>\n",
       "      <td>12491.902588</td>\n",
       "      <td>16943.234375</td>\n",
       "      <td>21424.699707</td>\n",
       "      <td>49745.730469</td>\n",
       "    </tr>\n",
       "    <tr>\n",
       "      <th>is_ultra</th>\n",
       "      <td>3214.0</td>\n",
       "      <td>0.306472</td>\n",
       "      <td>0.461100</td>\n",
       "      <td>0.0</td>\n",
       "      <td>0.000000</td>\n",
       "      <td>0.000000</td>\n",
       "      <td>1.000000</td>\n",
       "      <td>1.000000</td>\n",
       "    </tr>\n",
       "  </tbody>\n",
       "</table>\n",
       "</div>"
      ],
      "text/plain": [
       "           count          mean          std  min           25%           50%  \\\n",
       "calls     3214.0     63.038892    33.236368  0.0     40.000000     62.000000   \n",
       "minutes   3214.0    438.208771   234.569870  0.0    274.574997    430.600006   \n",
       "messages  3214.0     38.281269    36.148326  0.0      9.000000     30.000000   \n",
       "mb_used   3214.0  17207.673828  7570.968262  0.0  12491.902588  16943.234375   \n",
       "is_ultra  3214.0      0.306472     0.461100  0.0      0.000000      0.000000   \n",
       "\n",
       "                   75%           max  \n",
       "calls        82.000000    244.000000  \n",
       "minutes     571.927521   1632.060059  \n",
       "messages     57.000000    224.000000  \n",
       "mb_used   21424.699707  49745.730469  \n",
       "is_ultra      1.000000      1.000000  "
      ]
     },
     "execution_count": 10,
     "metadata": {},
     "output_type": "execute_result"
    }
   ],
   "source": [
    "data.describe().T"
   ]
  },
  {
   "cell_type": "markdown",
   "metadata": {},
   "source": [
    "<a id='section7'></a>\n",
    "###  Промежуточные выводы.\n",
    "\n",
    "В ходе изученния данных:\n",
    "* сохранили файл в датафрейм `data`,\n",
    "* вывели на экран и изучили:\n",
    "    - первые строки датафрейма, \n",
    "    - метод `info()`,\n",
    "    - метод `describe()`,\n",
    "    - дубли,\n",
    "    - пропуски.\n",
    "* с  целью экономии памяти поменяли типы данных.\n",
    "* явных дубликатов не выявили.\n",
    "* пропусков не выявили.\n",
    "\n",
    "__Дальнейшую предобработку данных делать не требуется.__"
   ]
  },
  {
   "cell_type": "markdown",
   "metadata": {},
   "source": [
    "Проверим датасет на сбалансированность классов в целевом признаке `is_ultra`, вычислим и отобразим долю каждого класса в исходном датасете:"
   ]
  },
  {
   "cell_type": "code",
   "execution_count": 11,
   "metadata": {
    "scrolled": true
   },
   "outputs": [
    {
     "data": {
      "image/png": "[encoded data removed]",
      "text/plain": [
       "<Figure size 360x360 with 1 Axes>"
      ]
     },
     "metadata": {
      "needs_background": "light"
     },
     "output_type": "display_data"
    }
   ],
   "source": [
    "# Сформируем датасет с долями классов в исходном датасете\n",
    "dt = pd.DataFrame(round(data.groupby('is_ultra')['is_ultra'].count() * 100 / data.shape[0], 2))\n",
    "dt.columns = ['share %']\n",
    "# Построим график\n",
    "dt.plot(grid=True, figsize=(5, 5), kind='bar')\n",
    "plt.xlabel('Классы')\n",
    "plt.ylabel('Доля %')\n",
    "plt.title('Соотношение классов в датасете')\n",
    "plt.legend()\n",
    "plt.show()"
   ]
  },
  {
   "cell_type": "markdown",
   "metadata": {},
   "source": [
    "Из графика видно, что почти 70% данных в одном классе, а остальные 30% в другом классе."
   ]
  },
  {
   "cell_type": "markdown",
   "metadata": {},
   "source": [
    "Посмотрим корреляцию признаков:"
   ]
  },
  {
   "cell_type": "code",
   "execution_count": 12,
   "metadata": {
    "scrolled": true
   },
   "outputs": [
    {
     "data": {
      "image/png": "[encoded data removed]",
      "text/plain": [
       "<Figure size 576x576 with 2 Axes>"
      ]
     },
     "metadata": {
      "needs_background": "light"
     },
     "output_type": "display_data"
    }
   ],
   "source": [
    "# создадим функцию для построения диаграммы корреляции признаков\n",
    "def corr_matrix(data, columns):\n",
    "    # сформируем матрицу корреляции\n",
    "    corr_matrix = data[columns].corr()\n",
    "    fig, ax = plt.subplots(1, 1, figsize=(8, 8))\n",
    "    sns.heatmap(\n",
    "        corr_matrix,\n",
    "        vmin=-1.,\n",
    "        vmax=1.,\n",
    "        annot=True,\n",
    "        cmap='coolwarm'\n",
    "    )\n",
    "    plt.show()\n",
    "# выведем корреляцию признаков\n",
    "corr_matrix(data, ['calls', 'minutes', 'messages', 'mb_used', 'is_ultra'])"
   ]
  },
  {
   "cell_type": "markdown",
   "metadata": {},
   "source": [
    "Наблюдается мультиколлинеарность между количеством и продолжительность звонков. Более подробно информацию можно посмореть [тут](https://ru.wikipedia.org/wiki/Мультиколлинеарность#Последствия_мультиколлинеарности). Возможные методы устранения описаны [здесь](https://www.codecamp.ru/blog/multicollinearity-regression/).\n",
    "\n",
    "В нашем проекте мы не будем устранять выявленную мультиколлинеарность, так как она влияет только на те признаки, которые коррелируют друг с другом."
   ]
  },
  {
   "cell_type": "markdown",
   "metadata": {},
   "source": [
    "<a id='section2'></a>\n",
    "## Разделим данные на выборки."
   ]
  },
  {
   "cell_type": "markdown",
   "metadata": {},
   "source": [
    "В нашем проекте категориальный целевой признак это новый тариф: «Смарт» или «Ультра». Столбец `is_ultra`. Решается задача классификации."
   ]
  },
  {
   "cell_type": "markdown",
   "metadata": {},
   "source": [
    "Разделим исходные данные на обучающую, валидационную и тестовую выборки:"
   ]
  },
  {
   "cell_type": "code",
   "execution_count": 13,
   "metadata": {},
   "outputs": [],
   "source": [
    "features = data.drop(['is_ultra'], axis=1)\n",
    "target = data['is_ultra']"
   ]
  },
  {
   "cell_type": "markdown",
   "metadata": {},
   "source": [
    "Спрятанной тестовой выборки нет. Поэтому, данные разобьем на три части: обучающую, валидационную и тестовую. Исходные данные разбивают в соотношении 3:1:1."
   ]
  },
  {
   "cell_type": "markdown",
   "metadata": {},
   "source": [
    "<a id='section2_1'></a>\n",
    "### Обучающая выборка."
   ]
  },
  {
   "cell_type": "code",
   "execution_count": 14,
   "metadata": {},
   "outputs": [],
   "source": [
    "features_train, features_test, target_train, target_test = train_test_split(features, \n",
    "                                                                            target, \n",
    "                                                                            test_size=0.4, \n",
    "                                                                            random_state=12345,\n",
    "                                                                            stratify=target\n",
    "                                                                           ) "
   ]
  },
  {
   "cell_type": "markdown",
   "metadata": {},
   "source": [
    "Размер выборки обучающей выборки:"
   ]
  },
  {
   "cell_type": "code",
   "execution_count": 15,
   "metadata": {},
   "outputs": [
    {
     "data": {
      "text/plain": [
       "(1928, 4)"
      ]
     },
     "metadata": {},
     "output_type": "display_data"
    },
    {
     "data": {
      "text/plain": [
       "(1928,)"
      ]
     },
     "metadata": {},
     "output_type": "display_data"
    }
   ],
   "source": [
    "display(features_train.shape)\n",
    "display(target_train.shape)"
   ]
  },
  {
   "cell_type": "markdown",
   "metadata": {},
   "source": [
    "<a id='section2_2'></a>\n",
    "### Валидационная и тестовая выборки."
   ]
  },
  {
   "cell_type": "code",
   "execution_count": 16,
   "metadata": {},
   "outputs": [],
   "source": [
    "features_valid, features_test, target_valid, target_test = train_test_split(features_test, \n",
    "                                                                            target_test, \n",
    "                                                                            test_size=0.5, \n",
    "                                                                            random_state=12345,\n",
    "                                                                            stratify=target_test\n",
    "                                                                           ) "
   ]
  },
  {
   "cell_type": "markdown",
   "metadata": {},
   "source": [
    "Размер валидационной выборки:"
   ]
  },
  {
   "cell_type": "code",
   "execution_count": 17,
   "metadata": {
    "scrolled": true
   },
   "outputs": [
    {
     "data": {
      "text/plain": [
       "(643, 4)"
      ]
     },
     "metadata": {},
     "output_type": "display_data"
    },
    {
     "data": {
      "text/plain": [
       "(643,)"
      ]
     },
     "metadata": {},
     "output_type": "display_data"
    }
   ],
   "source": [
    "display(features_valid.shape)\n",
    "display(target_valid.shape)"
   ]
  },
  {
   "cell_type": "markdown",
   "metadata": {},
   "source": [
    "Размер тестовой выборки:"
   ]
  },
  {
   "cell_type": "code",
   "execution_count": 18,
   "metadata": {
    "scrolled": true
   },
   "outputs": [
    {
     "data": {
      "text/plain": [
       "(643, 4)"
      ]
     },
     "metadata": {},
     "output_type": "display_data"
    },
    {
     "data": {
      "text/plain": [
       "(643,)"
      ]
     },
     "metadata": {},
     "output_type": "display_data"
    }
   ],
   "source": [
    "display(features_test.shape)\n",
    "display(target_test.shape)"
   ]
  },
  {
   "cell_type": "markdown",
   "metadata": {},
   "source": [
    "Посмотрим пропорции выборок на графике:"
   ]
  },
  {
   "cell_type": "code",
   "execution_count": 19,
   "metadata": {},
   "outputs": [
    {
     "data": {
      "image/png": "[encoded data removed]",
      "text/plain": [
       "<Figure size 360x360 with 1 Axes>"
      ]
     },
     "metadata": {},
     "output_type": "display_data"
    }
   ],
   "source": [
    "plt.figure(figsize=(5, 5))\n",
    "plt.title('Доли выборок от всего датафрейма') \n",
    "shapes = [target_train.shape[0], target_valid.shape[0], target_test.shape[0]]\n",
    "labels = ['Обучающая', 'Валидационная', 'Тестовая']\n",
    "plt.pie(shapes, \n",
    "        labels=labels, \n",
    "        autopct='%1.1f%%', \n",
    "        wedgeprops = { 'linewidth': 3, 'edgecolor': 'white' })\n",
    "plt.show()   "
   ]
  },
  {
   "cell_type": "markdown",
   "metadata": {},
   "source": [
    "<a id='section3'></a>\n",
    "## Исследуем модели."
   ]
  },
  {
   "cell_type": "markdown",
   "metadata": {},
   "source": [
    "<a id='section3_1'></a>\n",
    "### Дерево решений `DecisionTreeClassifier`.\n",
    "\n",
    "Сделаем 10 итераций с разными гиперпараметрами `max_depth`."
   ]
  },
  {
   "cell_type": "code",
   "execution_count": 20,
   "metadata": {},
   "outputs": [
    {
     "name": "stderr",
     "output_type": "stream",
     "text": [
      "100%|██████████| 20/20 [00:00<00:00, 91.63it/s] \n"
     ]
    }
   ],
   "source": [
    "max_depth = 21\n",
    "# заготовим пустые списки для дальнейшего анализа\n",
    "depths =  list(range(1, max_depth))\n",
    "train_accuracies = []\n",
    "valid_accuracies = []\n",
    "# подгоовим начальные переменные \n",
    "model_dtc = None\n",
    "best_depth = 0\n",
    "best_result = 0\n",
    "for depth in tqdm(range(1, max_depth)):\n",
    "    model = DecisionTreeClassifier(random_state=12345, max_depth = depth)\n",
    "    model.fit(features_train, target_train)\n",
    "    predictions_valid = model.predict(features_valid)\n",
    "    result = accuracy_score(target_valid, predictions_valid)\n",
    "    if best_result < result:\n",
    "        model_dtc = model\n",
    "        best_depth = depth\n",
    "        best_result = result\n",
    "    # добавим результаты в списки\n",
    "    valid_accuracies.append(result)\n",
    "    predictions_train = model.predict(features_train)\n",
    "    train_accuracies.append(accuracy_score(target_train, predictions_train))\n",
    "accuracy_dtc = round(best_result, 3)"
   ]
  },
  {
   "cell_type": "code",
   "execution_count": 21,
   "metadata": {
    "scrolled": true
   },
   "outputs": [
    {
     "data": {
      "text/plain": [
       "'Лучшая максимально допустимая глубина дерева max_depth = 8'"
      ]
     },
     "metadata": {},
     "output_type": "display_data"
    },
    {
     "data": {
      "text/plain": [
       "'Лучшее качество accuracy = 0.802'"
      ]
     },
     "metadata": {},
     "output_type": "display_data"
    }
   ],
   "source": [
    "display(f'Лучшая максимально допустимая глубина дерева max_depth = {best_depth}')\n",
    "display(f'Лучшее качество accuracy = {accuracy_dtc}') "
   ]
  },
  {
   "cell_type": "markdown",
   "metadata": {},
   "source": [
    "Построим графики качества модели на тренировочной и валидационной выборках в зависимости от глубины дерева:"
   ]
  },
  {
   "cell_type": "code",
   "execution_count": 22,
   "metadata": {},
   "outputs": [
    {
     "data": {
      "image/png": "[encoded data removed]",
      "text/plain": [
       "<Figure size 1080x432 with 1 Axes>"
      ]
     },
     "metadata": {
      "needs_background": "light"
     },
     "output_type": "display_data"
    }
   ],
   "source": [
    "plt.figure(figsize=(15,6))\n",
    "plt.grid()\n",
    "plt.plot(depths, train_accuracies, label='Тренировочная выборка')\n",
    "plt.plot(depths, valid_accuracies, label='Валидационная выборка')\n",
    "plt.ylabel('Качество модели')\n",
    "plt.xlabel('Глубина дерева')\n",
    "plt.title('Сравнение качества моделей на разных выборках')\n",
    "plt.xticks(depths)\n",
    "plt.legend()\n",
    "plt.show()"
   ]
  },
  {
   "cell_type": "markdown",
   "metadata": {},
   "source": [
    "__Вывод:__"
   ]
  },
  {
   "cell_type": "markdown",
   "metadata": {},
   "source": [
    "Качество лучшей модели алгоритма \"Дерево решений\" из десяти итераций равно `0.802` с максимально допустимой глубиной дерева равной `8`. \n",
    "\n",
    "Затраты ресурсов `125.13 итераций/сек`."
   ]
  },
  {
   "cell_type": "markdown",
   "metadata": {},
   "source": [
    "Построим дерево решений:"
   ]
  },
  {
   "cell_type": "code",
   "execution_count": 40,
   "metadata": {},
   "outputs": [
    {
     "data": {
      "image/png": "[encoded data removed]",
      "text/plain": [
       "<Figure size 2520x1440 with 1 Axes>"
      ]
     },
     "metadata": {
      "needs_background": "light"
     },
     "output_type": "display_data"
    }
   ],
   "source": [
    "fig = plt.figure(figsize=(35,20))\n",
    "_ = tree.plot_tree(model_dtc, \n",
    "               feature_names=features.columns.values,  # Чтобы отображались названия признаков по которым делаются сплит\n",
    "               class_names=['Smart','Ultra'],\n",
    "               filled=True,\n",
    "               fontsize = 15,\n",
    "               rounded=True,\n",
    "               max_depth = 3    \n",
    "                  )\n",
    "plt.title('Дерево решений', fontsize = 20)\n",
    "plt.show()"
   ]
  },
  {
   "cell_type": "markdown",
   "metadata": {},
   "source": [
    "<a id='section3_2'></a>\n",
    "### Случайный лес `RandomForestClassifier`.\n",
    "\n",
    "Сделаем по 10 итераций с разными гиперпараметрами `n_estimators` и `max_depth`."
   ]
  },
  {
   "cell_type": "code",
   "execution_count": 24,
   "metadata": {},
   "outputs": [
    {
     "name": "stderr",
     "output_type": "stream",
     "text": [
      "100%|██████████| 10/10 [00:00<00:00, 126.12it/s]\n",
      "100%|██████████| 10/10 [00:00<00:00, 95.26it/s]\n",
      "100%|██████████| 10/10 [00:00<00:00, 71.98it/s]\n",
      "100%|██████████| 10/10 [00:00<00:00, 70.19it/s]\n",
      "100%|██████████| 10/10 [00:00<00:00, 56.45it/s]\n",
      "100%|██████████| 10/10 [00:00<00:00, 49.55it/s]\n",
      "100%|██████████| 10/10 [00:00<00:00, 45.67it/s]\n",
      "100%|██████████| 10/10 [00:00<00:00, 39.36it/s]\n",
      "100%|██████████| 10/10 [00:00<00:00, 36.73it/s]\n",
      "100%|██████████| 10/10 [00:00<00:00, 32.88it/s]\n"
     ]
    }
   ],
   "source": [
    "model_rfc = None\n",
    "best_est = 0\n",
    "best_depth = 0\n",
    "best_result = 0\n",
    "for est in range(1, 11):\n",
    "    for depth in tqdm(range(1, 11)):\n",
    "        model = RandomForestClassifier(random_state=12345, n_estimators=est, max_depth = depth)\n",
    "        model.fit(features_train, target_train)\n",
    "        predictions_valid = model.predict(features_valid)\n",
    "        result = accuracy_score(target_valid, predictions_valid)\n",
    "        if best_result < result:\n",
    "            model_rfc = model\n",
    "            best_est = est\n",
    "            best_depth = depth\n",
    "            best_result = result\n",
    "accuracy_rfc = round(best_result, 3)"
   ]
  },
  {
   "cell_type": "code",
   "execution_count": 25,
   "metadata": {
    "scrolled": true
   },
   "outputs": [
    {
     "data": {
      "text/plain": [
       "'Лучшее \"количество оценщиков\" n_estimators = 6'"
      ]
     },
     "metadata": {},
     "output_type": "display_data"
    },
    {
     "data": {
      "text/plain": [
       "'Лучшая максимально допустимая глубина дерева max_depth = 6'"
      ]
     },
     "metadata": {},
     "output_type": "display_data"
    },
    {
     "data": {
      "text/plain": [
       "'Лучшее качество accuracy = 0.807'"
      ]
     },
     "metadata": {},
     "output_type": "display_data"
    }
   ],
   "source": [
    "display(f'Лучшее \"количество оценщиков\" n_estimators = {best_est}')\n",
    "display(f'Лучшая максимально допустимая глубина дерева max_depth = {best_depth}')\n",
    "display(f'Лучшее качество accuracy = {accuracy_rfc}') "
   ]
  },
  {
   "cell_type": "markdown",
   "metadata": {},
   "source": [
    "__Вывод:__"
   ]
  },
  {
   "cell_type": "markdown",
   "metadata": {},
   "source": [
    "Качество лучшей модели алгоритма \"Случайный лес\" из десяти итераций равно `0.807` с максимально допустимой глубиной дерева равной `6` и \"количеством оценщиков\" равным `6`. \n",
    "\n",
    "Затраты ресурсов при 1 \"оценщике\" `107.73 итераций/сек`, при 10 \"оценщиках\" `33.95 итераций/сек`."
   ]
  },
  {
   "cell_type": "markdown",
   "metadata": {},
   "source": [
    "<a id='section3_3'></a>\n",
    "### Логистическая регрессия `LogisticRegression`."
   ]
  },
  {
   "cell_type": "code",
   "execution_count": 26,
   "metadata": {},
   "outputs": [
    {
     "data": {
      "text/plain": [
       "'Лучшее качество accuracy = 0.739'"
      ]
     },
     "metadata": {},
     "output_type": "display_data"
    }
   ],
   "source": [
    "model_lr = LogisticRegression(random_state=12345)\n",
    "model_lr.fit(features_train, target_train)\n",
    "predictions_valid = model_lr.predict(features_valid)\n",
    "accuracy_lr = round(accuracy_score(target_valid, predictions_valid), 3)\n",
    "\n",
    "display(f'Лучшее качество accuracy = {accuracy_lr}') "
   ]
  },
  {
   "cell_type": "markdown",
   "metadata": {},
   "source": [
    "__Вывод:__"
   ]
  },
  {
   "cell_type": "markdown",
   "metadata": {},
   "source": [
    "Качество модели алгоритма \"Логистическая регрессия\" равно `0.739`."
   ]
  },
  {
   "cell_type": "markdown",
   "metadata": {},
   "source": [
    "<a id='section4'></a>\n",
    "## Выводы исследования модели."
   ]
  },
  {
   "cell_type": "markdown",
   "metadata": {},
   "source": [
    "Для сравнения качества моделей построим график:"
   ]
  },
  {
   "cell_type": "code",
   "execution_count": 27,
   "metadata": {},
   "outputs": [
    {
     "data": {
      "image/png": "[encoded data removed]",
      "text/plain": [
       "<Figure size 720x360 with 1 Axes>"
      ]
     },
     "metadata": {
      "needs_background": "light"
     },
     "output_type": "display_data"
    }
   ],
   "source": [
    "# создадим датафрейм с результатми моделей\n",
    "dt = pd.DataFrame({'model': ['Дерево решений', 'Случайный лес', 'Логистическая регрессия'],\n",
    "                   'accuracy': [accuracy_dtc, accuracy_rfc, accuracy_lr]})\n",
    "# построим график\n",
    "dt.plot(grid=True, figsize=(10,5), kind='barh')\n",
    "plt.yticks(dt.index, dt['model'])\n",
    "plt.ylabel('Модель')\n",
    "plt.xlabel('Качество')\n",
    "plt.xlim(0.5, 1)\n",
    "plt.title('Сравнение качества моделей классификации')\n",
    "# добавим линию \"отсечки\" с целевым качеством модели 0.75\n",
    "plt.axvline(x = 0.75, color = 'black', label = 'target accuracy', linestyle='dashed')\n",
    "plt.legend()\n",
    "plt.show()"
   ]
  },
  {
   "cell_type": "markdown",
   "metadata": {},
   "source": [
    "* Качество лучшей модели алгоритма \"Дерево решений\" из десяти итераций равно `0.802` с максимально допустимой глубиной дерева равной `8`. Затраты ресурсов `125.13 итераций/сек`.\n",
    "* Качество лучшей модели алгоритма \"Случайный лес\" из десяти итераций равно `0.807` с максимально допустимой глубиной дерева равной `6` и \"количеством оценщиков\" равным `6`. Затраты ресурсов при 1 \"оценщике\" `107.73 итераций/сек`, при 10 \"оценщиках\" `33.95 итераций/сек`.\n",
    "* Качество модели алгоритма \"Логистическая регрессия\" равно `0.739`.\n",
    "\n",
    "__Таким образом, лучшая по качеству модель - модель алгоритма \"Случайный лес\" - `accuracy = 0.807`.__"
   ]
  },
  {
   "cell_type": "markdown",
   "metadata": {},
   "source": [
    "<a id='section5'></a>\n",
    "## Проверим модель на тестовой выборке."
   ]
  },
  {
   "cell_type": "markdown",
   "metadata": {},
   "source": [
    "Так как, лучшая по качеству модель \"Случайный лес\", проведем ее проверку на тестовой выборке:"
   ]
  },
  {
   "cell_type": "code",
   "execution_count": 28,
   "metadata": {},
   "outputs": [
    {
     "data": {
      "text/plain": [
       "'Качество на тестовой выборке accuracy = 0.81'"
      ]
     },
     "metadata": {},
     "output_type": "display_data"
    }
   ],
   "source": [
    "model_rfc.fit(features_train, target_train)\n",
    "predictions = model_rfc.predict(features_test)\n",
    "accuracy_rfc_test = round(accuracy_score(predictions, target_test), 3)\n",
    "\n",
    "display(f'Качество на тестовой выборке accuracy = {accuracy_rfc_test}') "
   ]
  },
  {
   "cell_type": "markdown",
   "metadata": {},
   "source": [
    "__Вывод:__"
   ]
  },
  {
   "cell_type": "markdown",
   "metadata": {},
   "source": [
    "__Качество модели \"Случайный лес\" на тестовой выборке равно `0.81`.__"
   ]
  },
  {
   "cell_type": "markdown",
   "metadata": {},
   "source": [
    "Попробуем улучшить результат модели на объединенной тренировочной + валидационной выборке:"
   ]
  },
  {
   "cell_type": "code",
   "execution_count": 29,
   "metadata": {
    "scrolled": false
   },
   "outputs": [
    {
     "data": {
      "text/plain": [
       "(2571, 4)"
      ]
     },
     "metadata": {},
     "output_type": "display_data"
    },
    {
     "data": {
      "text/plain": [
       "(2571,)"
      ]
     },
     "metadata": {},
     "output_type": "display_data"
    }
   ],
   "source": [
    "# объединим выборки\n",
    "features_new = pd.concat([features_valid, features_train])\n",
    "target_new = pd.concat([target_valid, target_train])\n",
    "# проверим результат\n",
    "display(features_new.shape)\n",
    "display(target_new.shape)"
   ]
  },
  {
   "cell_type": "markdown",
   "metadata": {},
   "source": [
    "Построим, обучим и проверим качество новой модели:"
   ]
  },
  {
   "cell_type": "code",
   "execution_count": 30,
   "metadata": {
    "scrolled": true
   },
   "outputs": [
    {
     "data": {
      "text/plain": [
       "'Качество улучшенной модели accuracy = 0.82'"
      ]
     },
     "metadata": {},
     "output_type": "display_data"
    }
   ],
   "source": [
    "model_new = RandomForestClassifier(random_state=12345, n_estimators=6, max_depth = 6)\n",
    "model_new.fit(features_new, target_new)\n",
    "predictions_new = model_new.predict(features_new)\n",
    "accuracy_new = round(accuracy_score(target_new, predictions_new), 2)\n",
    "# посмотрим результат\n",
    "display(f'Качество улучшенной модели accuracy = {accuracy_new}')"
   ]
  },
  {
   "cell_type": "markdown",
   "metadata": {},
   "source": [
    "Качество улучшенной модели повысилось до `0.82`.\n",
    "\n",
    "Проверим на тестовых данных:"
   ]
  },
  {
   "cell_type": "code",
   "execution_count": 31,
   "metadata": {},
   "outputs": [
    {
     "data": {
      "text/plain": [
       "'Качество на тестовой выборке accuracy = 0.81'"
      ]
     },
     "metadata": {},
     "output_type": "display_data"
    }
   ],
   "source": [
    "model_new.fit(features_train, target_train)\n",
    "predictions = model_new.predict(features_test)\n",
    "accuracy_new_test = round(accuracy_score(predictions, target_test), 3)\n",
    "\n",
    "display(f'Качество на тестовой выборке accuracy = {accuracy_new_test}') "
   ]
  },
  {
   "cell_type": "markdown",
   "metadata": {},
   "source": [
    "__Вывод:__"
   ]
  },
  {
   "cell_type": "markdown",
   "metadata": {},
   "source": [
    "__Качество улучшенной модели \"Случайный лес\" на тестовой выборке не изменилось и равно `0.81`.__"
   ]
  },
  {
   "cell_type": "markdown",
   "metadata": {},
   "source": [
    "Посмотрим следующие метрики модели:"
   ]
  },
  {
   "cell_type": "code",
   "execution_count": 32,
   "metadata": {
    "scrolled": true
   },
   "outputs": [
    {
     "data": {
      "text/plain": [
       "'Точность Precision = 0.791'"
      ]
     },
     "metadata": {},
     "output_type": "display_data"
    },
    {
     "data": {
      "text/plain": [
       "'Полнота Recall = 0.518'"
      ]
     },
     "metadata": {},
     "output_type": "display_data"
    },
    {
     "data": {
      "text/plain": [
       "'Общая оценка F1 Score = 0.626'"
      ]
     },
     "metadata": {},
     "output_type": "display_data"
    },
    {
     "data": {
      "text/plain": [
       "'Матрица ошибок Confusion_matrix = '"
      ]
     },
     "metadata": {},
     "output_type": "display_data"
    },
    {
     "data": {
      "text/plain": [
       "array([[419,  27],\n",
       "       [ 95, 102]])"
      ]
     },
     "metadata": {},
     "output_type": "display_data"
    }
   ],
   "source": [
    "precision = round(precision_score(target_test, predictions), 3)\n",
    "recall = round(recall_score(target_test, predictions), 3)\n",
    "f1_score = round(f1_score(target_test, predictions), 3)\n",
    "confusion_m = confusion_matrix(target_test, predictions)\n",
    "\n",
    "display(f'Точность Precision = {precision}')\n",
    "display(f'Полнота Recall = {recall}')\n",
    "display(f'Общая оценка F1 Score = {f1_score}')\n",
    "display('Матрица ошибок Confusion_matrix = ')\n",
    "display(confusion_m)"
   ]
  },
  {
   "cell_type": "markdown",
   "metadata": {},
   "source": [
    "<a id='section6'></a>\n",
    "## Проверим модели на адекватность."
   ]
  },
  {
   "cell_type": "markdown",
   "metadata": {},
   "source": [
    "Для проверки адекватности нашей модели проведем сравнение ее качества с качеством модели `DummyClassifier`.  `DummyClassifier` это простой классификатор, который можно использовать в качестве эталонной модели."
   ]
  },
  {
   "cell_type": "code",
   "execution_count": 33,
   "metadata": {
    "scrolled": true
   },
   "outputs": [
    {
     "data": {
      "text/plain": [
       "'Качество модели \"DummyClassifier\" accuracy = 0.694'"
      ]
     },
     "metadata": {},
     "output_type": "display_data"
    }
   ],
   "source": [
    "model_dc = DummyClassifier(random_state=12345)\n",
    "model_dc.fit(features_train, target_train)\n",
    "accuracy_dc = round(model_dc.score(features_valid, target_valid), 3)\n",
    "\n",
    "display(f'Качество модели \"DummyClassifier\" accuracy = {accuracy_dc}') "
   ]
  },
  {
   "cell_type": "code",
   "execution_count": 34,
   "metadata": {},
   "outputs": [
    {
     "data": {
      "text/plain": [
       "'Качество на тестовой выборке accuracy = 0.81'"
      ]
     },
     "metadata": {},
     "output_type": "display_data"
    }
   ],
   "source": [
    "display(f'Качество на тестовой выборке accuracy = {accuracy_rfc_test}') "
   ]
  },
  {
   "cell_type": "markdown",
   "metadata": {},
   "source": [
    "__Вывод:__"
   ]
  },
  {
   "cell_type": "markdown",
   "metadata": {},
   "source": [
    "__Качество модели \"Случайный лес\" на тестовой выборке `0.81` выше чем у модели \"DummyClassifier\" - `0.694`. Следовательно модель \"Случайный лес\" адекватна.__"
   ]
  },
  {
   "cell_type": "markdown",
   "metadata": {},
   "source": [
    "<a id='section7'></a>\n",
    "## Общий вывод.\n",
    "\n",
    "\n",
    "* Изучили данные и выявили, что в данных пропусков, дублей и аномалий нет.\n",
    "* Рассмотрели сбалансированность классов, корреляцию и мультколлинеарность признаков.\n",
    "* Данные разбили на обучающую, валидационную и тестовую выборки в пропорции 3:1:1.\n",
    "* В ходе исследования качества различных моделей определили что, лучшая по качеству модель - модель алгоритма \"Случайный лес\" `accuracy = 0.807` с максимально допустимой глубиной дерева равной `6` и \"количеством оценщиков\" равным `6`.\n",
    "* Качество модели \"Случайный лес\" на тестовой выборке равно `accuracy = 0.81`.\n",
    "* Качество улучшенной модели \"Случайный лес\" на тестовой выборке не изменилось и равно `0.81`.\n",
    "* Качество модели \"Случайный лес\" на тестовой выборке `0.81` выше чем у модели \"DummyClassifier\" - `0.694`. Следовательно модель \"Случайный лес\" адекватна.\n",
    "\n",
    "__Таким образом,  для построения системы, способной проанализировать поведение клиентов и предложить пользователям новый тариф «Смарт» или «Ультра», целесообразно использовать модель алгоритма \"Случайный лес\" с максимально допустимой глубиной дерева равной `6` и \"количеством оценщиков\" равным `6`.__"
   ]
  },
  {
   "cell_type": "markdown",
   "metadata": {},
   "source": [
    "<a id='section8'></a>\n",
    "## Чек-лист готовности проекта."
   ]
  },
  {
   "cell_type": "markdown",
   "metadata": {},
   "source": [
    "Поставьте 'x' в выполненных пунктах. Далее нажмите Shift+Enter."
   ]
  },
  {
   "cell_type": "markdown",
   "metadata": {},
   "source": [
    "- [x] Jupyter Notebook открыт\n",
    "- [x] Весь код исполняется без ошибок\n",
    "- [x] Ячейки с кодом расположены в порядке исполнения\n",
    "- [x] Выполнено задание 1: данные загружены и изучены\n",
    "- [x] Выполнено задание 2: данные разбиты на три выборки\n",
    "- [x] Выполнено задание 3: проведено исследование моделей\n",
    "    - [x] Рассмотрено больше одной модели\n",
    "    - [x] Рассмотрено хотя бы 3 значения гипепараметров для какой-нибудь модели\n",
    "    - [x] Написаны выводы по результатам исследования\n",
    "- [x] Выполнено задание 3: Проведено тестирование\n",
    "- [x] Удалось достичь accuracy не меньше 0.75\n"
   ]
  }
 ],
 "metadata": {
  "ExecuteTimeLog": [
   {
    "duration": 650,
    "start_time": "2023-09-22T10:21:58.740Z"
   },
   {
    "duration": 3127,
    "start_time": "2023-09-22T10:22:43.491Z"
   },
   {
    "duration": 1239,
    "start_time": "2023-09-22T10:26:44.346Z"
   },
   {
    "duration": 5,
    "start_time": "2023-09-22T10:26:50.593Z"
   },
   {
    "duration": 126,
    "start_time": "2023-09-22T10:26:55.713Z"
   },
   {
    "duration": 16,
    "start_time": "2023-09-22T10:27:01.079Z"
   },
   {
    "duration": 11,
    "start_time": "2023-09-22T10:27:12.418Z"
   },
   {
    "duration": 6,
    "start_time": "2023-09-22T10:27:51.800Z"
   },
   {
    "duration": 873,
    "start_time": "2023-09-22T10:28:11.320Z"
   },
   {
    "duration": 25,
    "start_time": "2023-09-22T10:28:19.538Z"
   },
   {
    "duration": 23,
    "start_time": "2023-09-22T10:42:22.443Z"
   },
   {
    "duration": 11,
    "start_time": "2023-09-22T10:42:25.119Z"
   },
   {
    "duration": 7,
    "start_time": "2023-09-22T10:42:39.648Z"
   },
   {
    "duration": 860,
    "start_time": "2023-09-22T10:42:43.537Z"
   },
   {
    "duration": 35,
    "start_time": "2023-09-22T10:42:48.422Z"
   },
   {
    "duration": 2219,
    "start_time": "2023-09-22T10:47:53.697Z"
   },
   {
    "duration": 1468,
    "start_time": "2023-09-22T10:47:55.919Z"
   },
   {
    "duration": 49,
    "start_time": "2023-09-22T10:47:57.389Z"
   },
   {
    "duration": 15,
    "start_time": "2023-09-22T10:47:57.440Z"
   },
   {
    "duration": 27,
    "start_time": "2023-09-22T10:47:57.457Z"
   },
   {
    "duration": 29,
    "start_time": "2023-09-22T10:47:57.485Z"
   },
   {
    "duration": 19,
    "start_time": "2023-09-22T10:47:57.516Z"
   },
   {
    "duration": 24,
    "start_time": "2023-09-22T10:47:57.537Z"
   },
   {
    "duration": 724,
    "start_time": "2023-09-22T10:47:57.563Z"
   },
   {
    "duration": 24,
    "start_time": "2023-09-22T10:47:58.288Z"
   },
   {
    "duration": 2540,
    "start_time": "2023-09-22T10:56:19.045Z"
   },
   {
    "duration": 1508,
    "start_time": "2023-09-22T10:56:21.588Z"
   },
   {
    "duration": 31,
    "start_time": "2023-09-22T10:56:23.098Z"
   },
   {
    "duration": 38,
    "start_time": "2023-09-22T10:56:23.131Z"
   },
   {
    "duration": 36,
    "start_time": "2023-09-22T10:56:23.172Z"
   },
   {
    "duration": 39,
    "start_time": "2023-09-22T10:56:23.209Z"
   },
   {
    "duration": 14,
    "start_time": "2023-09-22T10:56:23.250Z"
   },
   {
    "duration": 28,
    "start_time": "2023-09-22T10:56:23.266Z"
   },
   {
    "duration": 915,
    "start_time": "2023-09-22T10:56:23.296Z"
   },
   {
    "duration": 40,
    "start_time": "2023-09-22T10:56:24.213Z"
   },
   {
    "duration": 4,
    "start_time": "2023-09-22T11:11:54.610Z"
   },
   {
    "duration": 6,
    "start_time": "2023-09-22T11:13:55.518Z"
   },
   {
    "duration": 5,
    "start_time": "2023-09-22T11:14:02.685Z"
   },
   {
    "duration": 5,
    "start_time": "2023-09-22T11:14:55.671Z"
   },
   {
    "duration": 5,
    "start_time": "2023-09-22T11:15:21.473Z"
   },
   {
    "duration": 5,
    "start_time": "2023-09-22T11:15:43.418Z"
   },
   {
    "duration": 2250,
    "start_time": "2023-09-22T11:18:33.822Z"
   },
   {
    "duration": 1373,
    "start_time": "2023-09-22T11:18:36.075Z"
   },
   {
    "duration": 31,
    "start_time": "2023-09-22T11:18:37.451Z"
   },
   {
    "duration": 14,
    "start_time": "2023-09-22T11:18:37.484Z"
   },
   {
    "duration": 11,
    "start_time": "2023-09-22T11:18:37.499Z"
   },
   {
    "duration": 12,
    "start_time": "2023-09-22T11:18:37.512Z"
   },
   {
    "duration": 23,
    "start_time": "2023-09-22T11:18:37.526Z"
   },
   {
    "duration": 9,
    "start_time": "2023-09-22T11:18:37.550Z"
   },
   {
    "duration": 766,
    "start_time": "2023-09-22T11:18:37.561Z"
   },
   {
    "duration": 26,
    "start_time": "2023-09-22T11:18:38.328Z"
   },
   {
    "duration": 4,
    "start_time": "2023-09-22T11:18:38.356Z"
   },
   {
    "duration": 26,
    "start_time": "2023-09-22T11:18:38.361Z"
   },
   {
    "duration": 12,
    "start_time": "2023-09-22T11:18:38.390Z"
   },
   {
    "duration": 14,
    "start_time": "2023-09-22T11:18:38.404Z"
   },
   {
    "duration": 18,
    "start_time": "2023-09-22T11:18:38.419Z"
   },
   {
    "duration": 14,
    "start_time": "2023-09-22T11:18:38.439Z"
   },
   {
    "duration": 72,
    "start_time": "2023-09-22T11:43:26.476Z"
   },
   {
    "duration": 4,
    "start_time": "2023-09-22T11:44:41.293Z"
   },
   {
    "duration": 30,
    "start_time": "2023-09-22T12:18:37.790Z"
   },
   {
    "duration": 4,
    "start_time": "2023-09-22T12:18:40.581Z"
   },
   {
    "duration": 241,
    "start_time": "2023-09-22T12:26:06.763Z"
   },
   {
    "duration": 117,
    "start_time": "2023-09-22T12:26:34.187Z"
   },
   {
    "duration": 162,
    "start_time": "2023-09-22T12:26:44.851Z"
   },
   {
    "duration": 31,
    "start_time": "2023-09-22T12:28:15.045Z"
   },
   {
    "duration": 69,
    "start_time": "2023-09-22T12:28:24.492Z"
   },
   {
    "duration": 4,
    "start_time": "2023-09-22T12:28:34.116Z"
   },
   {
    "duration": 4,
    "start_time": "2023-09-22T12:28:36.749Z"
   },
   {
    "duration": 32,
    "start_time": "2023-09-22T12:28:42.444Z"
   },
   {
    "duration": 4,
    "start_time": "2023-09-22T12:28:44.285Z"
   },
   {
    "duration": 85,
    "start_time": "2023-09-22T12:28:55.597Z"
   },
   {
    "duration": 4,
    "start_time": "2023-09-22T12:28:57.540Z"
   },
   {
    "duration": 5,
    "start_time": "2023-09-22T12:32:40.600Z"
   },
   {
    "duration": 5,
    "start_time": "2023-09-22T12:34:44.265Z"
   },
   {
    "duration": 5,
    "start_time": "2023-09-22T12:35:15.425Z"
   },
   {
    "duration": 1711,
    "start_time": "2023-09-22T12:41:03.308Z"
   },
   {
    "duration": 97,
    "start_time": "2023-09-22T12:43:18.692Z"
   },
   {
    "duration": 6,
    "start_time": "2023-09-22T12:43:25.230Z"
   },
   {
    "duration": 8,
    "start_time": "2023-09-22T12:44:50.126Z"
   },
   {
    "duration": 7,
    "start_time": "2023-09-22T12:46:00.903Z"
   },
   {
    "duration": 48,
    "start_time": "2023-09-22T12:48:54.520Z"
   },
   {
    "duration": 47,
    "start_time": "2023-09-22T12:49:13.552Z"
   },
   {
    "duration": 26,
    "start_time": "2023-09-22T12:49:28.112Z"
   },
   {
    "duration": 75,
    "start_time": "2023-09-22T12:54:07.441Z"
   },
   {
    "duration": 5,
    "start_time": "2023-09-22T12:54:09.865Z"
   },
   {
    "duration": 1849,
    "start_time": "2023-09-22T12:54:49.978Z"
   },
   {
    "duration": 6,
    "start_time": "2023-09-22T12:54:58.954Z"
   },
   {
    "duration": 25,
    "start_time": "2023-09-22T12:55:35.403Z"
   },
   {
    "duration": 1958,
    "start_time": "2023-09-22T12:57:30.637Z"
   },
   {
    "duration": 1768,
    "start_time": "2023-09-22T12:57:46.972Z"
   },
   {
    "duration": 2329,
    "start_time": "2023-09-22T13:16:51.730Z"
   },
   {
    "duration": 1417,
    "start_time": "2023-09-22T13:16:54.061Z"
   },
   {
    "duration": 31,
    "start_time": "2023-09-22T13:16:55.480Z"
   },
   {
    "duration": 16,
    "start_time": "2023-09-22T13:16:55.513Z"
   },
   {
    "duration": 32,
    "start_time": "2023-09-22T13:16:55.531Z"
   },
   {
    "duration": 17,
    "start_time": "2023-09-22T13:16:55.564Z"
   },
   {
    "duration": 15,
    "start_time": "2023-09-22T13:16:55.583Z"
   },
   {
    "duration": 18,
    "start_time": "2023-09-22T13:16:55.600Z"
   },
   {
    "duration": 974,
    "start_time": "2023-09-22T13:16:55.620Z"
   },
   {
    "duration": 38,
    "start_time": "2023-09-22T13:16:56.597Z"
   },
   {
    "duration": 92,
    "start_time": "2023-09-22T13:16:56.637Z"
   },
   {
    "duration": 45,
    "start_time": "2023-09-22T13:16:56.731Z"
   },
   {
    "duration": 20,
    "start_time": "2023-09-22T13:16:56.778Z"
   },
   {
    "duration": 25,
    "start_time": "2023-09-22T13:16:56.800Z"
   },
   {
    "duration": 46,
    "start_time": "2023-09-22T13:16:56.827Z"
   },
   {
    "duration": 30,
    "start_time": "2023-09-22T13:16:56.874Z"
   },
   {
    "duration": 156,
    "start_time": "2023-09-22T13:16:56.906Z"
   },
   {
    "duration": 82,
    "start_time": "2023-09-22T13:16:57.064Z"
   },
   {
    "duration": 5,
    "start_time": "2023-09-22T13:16:57.148Z"
   },
   {
    "duration": 1942,
    "start_time": "2023-09-22T13:16:57.154Z"
   },
   {
    "duration": 7,
    "start_time": "2023-09-22T13:16:59.098Z"
   },
   {
    "duration": 68,
    "start_time": "2023-09-22T13:16:59.106Z"
   },
   {
    "duration": 120,
    "start_time": "2023-09-22T13:20:52.423Z"
   },
   {
    "duration": 1943,
    "start_time": "2023-09-22T13:20:57.591Z"
   },
   {
    "duration": 6,
    "start_time": "2023-09-22T13:21:00.985Z"
   },
   {
    "duration": 68,
    "start_time": "2023-09-22T13:21:13.343Z"
   },
   {
    "duration": 5,
    "start_time": "2023-09-22T13:21:21.199Z"
   },
   {
    "duration": 38,
    "start_time": "2023-09-22T13:21:42.936Z"
   },
   {
    "duration": 23,
    "start_time": "2023-09-22T13:29:22.674Z"
   },
   {
    "duration": 17,
    "start_time": "2023-09-22T13:30:07.642Z"
   },
   {
    "duration": 14,
    "start_time": "2023-09-22T13:31:50.444Z"
   },
   {
    "duration": 12,
    "start_time": "2023-09-22T13:33:13.947Z"
   },
   {
    "duration": 11,
    "start_time": "2023-09-22T13:33:25.567Z"
   },
   {
    "duration": 201,
    "start_time": "2023-09-22T13:33:35.930Z"
   },
   {
    "duration": 206,
    "start_time": "2023-09-22T13:34:16.045Z"
   },
   {
    "duration": 169,
    "start_time": "2023-09-22T13:37:21.211Z"
   },
   {
    "duration": 17,
    "start_time": "2023-09-22T13:39:10.183Z"
   },
   {
    "duration": 19,
    "start_time": "2023-09-22T13:39:36.707Z"
   },
   {
    "duration": 153,
    "start_time": "2023-09-22T13:40:06.973Z"
   },
   {
    "duration": 240,
    "start_time": "2023-09-22T13:40:31.884Z"
   },
   {
    "duration": 275,
    "start_time": "2023-09-22T13:40:48.692Z"
   },
   {
    "duration": 17,
    "start_time": "2023-09-22T13:41:29.799Z"
   },
   {
    "duration": 19,
    "start_time": "2023-09-22T13:41:48.483Z"
   },
   {
    "duration": 2174,
    "start_time": "2023-09-22T14:47:49.300Z"
   },
   {
    "duration": 1376,
    "start_time": "2023-09-22T14:47:51.477Z"
   },
   {
    "duration": 32,
    "start_time": "2023-09-22T14:47:52.855Z"
   },
   {
    "duration": 19,
    "start_time": "2023-09-22T14:47:52.889Z"
   },
   {
    "duration": 27,
    "start_time": "2023-09-22T14:47:52.911Z"
   },
   {
    "duration": 11,
    "start_time": "2023-09-22T14:47:52.940Z"
   },
   {
    "duration": 9,
    "start_time": "2023-09-22T14:47:52.953Z"
   },
   {
    "duration": 14,
    "start_time": "2023-09-22T14:47:52.964Z"
   },
   {
    "duration": 820,
    "start_time": "2023-09-22T14:47:52.980Z"
   },
   {
    "duration": 38,
    "start_time": "2023-09-22T14:47:53.802Z"
   },
   {
    "duration": 5,
    "start_time": "2023-09-22T14:47:53.842Z"
   },
   {
    "duration": 7,
    "start_time": "2023-09-22T14:47:53.849Z"
   },
   {
    "duration": 12,
    "start_time": "2023-09-22T14:47:53.858Z"
   },
   {
    "duration": 5,
    "start_time": "2023-09-22T14:47:53.874Z"
   },
   {
    "duration": 7,
    "start_time": "2023-09-22T14:47:53.882Z"
   },
   {
    "duration": 36,
    "start_time": "2023-09-22T14:47:53.891Z"
   },
   {
    "duration": 98,
    "start_time": "2023-09-22T14:47:53.929Z"
   },
   {
    "duration": 70,
    "start_time": "2023-09-22T14:47:54.029Z"
   },
   {
    "duration": 27,
    "start_time": "2023-09-22T14:47:54.100Z"
   },
   {
    "duration": 1787,
    "start_time": "2023-09-22T14:47:54.128Z"
   },
   {
    "duration": 8,
    "start_time": "2023-09-22T14:47:55.923Z"
   },
   {
    "duration": 35,
    "start_time": "2023-09-22T14:47:55.933Z"
   },
   {
    "duration": 161,
    "start_time": "2023-09-22T14:47:55.971Z"
   },
   {
    "duration": 3053,
    "start_time": "2023-09-23T06:39:57.864Z"
   },
   {
    "duration": 1693,
    "start_time": "2023-09-23T06:40:00.920Z"
   },
   {
    "duration": 123,
    "start_time": "2023-09-23T06:40:02.615Z"
   },
   {
    "duration": 14,
    "start_time": "2023-09-23T06:40:02.740Z"
   },
   {
    "duration": 38,
    "start_time": "2023-09-23T06:40:02.757Z"
   },
   {
    "duration": 113,
    "start_time": "2023-09-23T06:40:02.797Z"
   },
   {
    "duration": 84,
    "start_time": "2023-09-23T06:40:02.912Z"
   },
   {
    "duration": 77,
    "start_time": "2023-09-23T06:40:02.997Z"
   },
   {
    "duration": 910,
    "start_time": "2023-09-23T06:40:03.075Z"
   },
   {
    "duration": 24,
    "start_time": "2023-09-23T06:40:03.986Z"
   },
   {
    "duration": 4,
    "start_time": "2023-09-23T06:40:04.024Z"
   },
   {
    "duration": 11,
    "start_time": "2023-09-23T06:40:04.029Z"
   },
   {
    "duration": 14,
    "start_time": "2023-09-23T06:40:04.041Z"
   },
   {
    "duration": 12,
    "start_time": "2023-09-23T06:40:04.057Z"
   },
   {
    "duration": 6,
    "start_time": "2023-09-23T06:40:04.070Z"
   },
   {
    "duration": 12,
    "start_time": "2023-09-23T06:40:04.078Z"
   },
   {
    "duration": 101,
    "start_time": "2023-09-23T06:40:04.092Z"
   },
   {
    "duration": 75,
    "start_time": "2023-09-23T06:40:04.195Z"
   },
   {
    "duration": 5,
    "start_time": "2023-09-23T06:40:04.271Z"
   },
   {
    "duration": 1870,
    "start_time": "2023-09-23T06:40:04.277Z"
   },
   {
    "duration": 6,
    "start_time": "2023-09-23T06:40:06.149Z"
   },
   {
    "duration": 25,
    "start_time": "2023-09-23T06:40:06.157Z"
   },
   {
    "duration": 137,
    "start_time": "2023-09-23T06:40:06.183Z"
   },
   {
    "duration": 23,
    "start_time": "2023-09-23T06:41:47.497Z"
   },
   {
    "duration": 2121,
    "start_time": "2023-09-23T06:43:17.896Z"
   },
   {
    "duration": 1488,
    "start_time": "2023-09-23T06:43:20.020Z"
   },
   {
    "duration": 30,
    "start_time": "2023-09-23T06:43:21.509Z"
   },
   {
    "duration": 15,
    "start_time": "2023-09-23T06:43:21.541Z"
   },
   {
    "duration": 10,
    "start_time": "2023-09-23T06:43:21.559Z"
   },
   {
    "duration": 10,
    "start_time": "2023-09-23T06:43:21.571Z"
   },
   {
    "duration": 16,
    "start_time": "2023-09-23T06:43:21.583Z"
   },
   {
    "duration": 34,
    "start_time": "2023-09-23T06:43:21.601Z"
   },
   {
    "duration": 863,
    "start_time": "2023-09-23T06:43:21.637Z"
   },
   {
    "duration": 37,
    "start_time": "2023-09-23T06:43:22.502Z"
   },
   {
    "duration": 3,
    "start_time": "2023-09-23T06:43:22.542Z"
   },
   {
    "duration": 10,
    "start_time": "2023-09-23T06:43:22.547Z"
   },
   {
    "duration": 6,
    "start_time": "2023-09-23T06:43:22.558Z"
   },
   {
    "duration": 5,
    "start_time": "2023-09-23T06:43:22.566Z"
   },
   {
    "duration": 7,
    "start_time": "2023-09-23T06:43:22.572Z"
   },
   {
    "duration": 6,
    "start_time": "2023-09-23T06:43:22.581Z"
   },
   {
    "duration": 122,
    "start_time": "2023-09-23T06:43:22.588Z"
   },
   {
    "duration": 81,
    "start_time": "2023-09-23T06:43:22.711Z"
   },
   {
    "duration": 5,
    "start_time": "2023-09-23T06:43:22.794Z"
   },
   {
    "duration": 1909,
    "start_time": "2023-09-23T06:43:22.801Z"
   },
   {
    "duration": 15,
    "start_time": "2023-09-23T06:43:24.713Z"
   },
   {
    "duration": 24,
    "start_time": "2023-09-23T06:43:24.730Z"
   },
   {
    "duration": 141,
    "start_time": "2023-09-23T06:43:24.755Z"
   },
   {
    "duration": 21,
    "start_time": "2023-09-23T06:44:57.392Z"
   },
   {
    "duration": 22,
    "start_time": "2023-09-23T06:45:56.749Z"
   },
   {
    "duration": 23,
    "start_time": "2023-09-23T06:47:26.457Z"
   },
   {
    "duration": 32,
    "start_time": "2023-09-23T06:48:04.913Z"
   },
   {
    "duration": 16,
    "start_time": "2023-09-23T06:51:37.272Z"
   },
   {
    "duration": 77,
    "start_time": "2023-09-23T06:52:06.109Z"
   },
   {
    "duration": 14,
    "start_time": "2023-09-23T06:52:11.832Z"
   },
   {
    "duration": 18,
    "start_time": "2023-09-23T06:52:35.179Z"
   },
   {
    "duration": 17,
    "start_time": "2023-09-23T06:52:46.777Z"
   },
   {
    "duration": 19,
    "start_time": "2023-09-23T06:53:06.513Z"
   },
   {
    "duration": 201,
    "start_time": "2023-09-23T06:53:26.269Z"
   },
   {
    "duration": 137,
    "start_time": "2023-09-23T06:53:43.822Z"
   },
   {
    "duration": 133,
    "start_time": "2023-09-23T06:53:49.680Z"
   },
   {
    "duration": 18,
    "start_time": "2023-09-23T06:54:06.109Z"
   },
   {
    "duration": 114,
    "start_time": "2023-09-23T06:55:05.970Z"
   },
   {
    "duration": 163,
    "start_time": "2023-09-23T06:55:16.620Z"
   },
   {
    "duration": 137,
    "start_time": "2023-09-23T06:55:27.930Z"
   },
   {
    "duration": 33,
    "start_time": "2023-09-23T07:01:43.451Z"
   },
   {
    "duration": 33,
    "start_time": "2023-09-23T07:03:31.682Z"
   },
   {
    "duration": 263,
    "start_time": "2023-09-23T07:10:06.856Z"
   },
   {
    "duration": 279,
    "start_time": "2023-09-23T07:11:35.640Z"
   },
   {
    "duration": 258,
    "start_time": "2023-09-23T07:11:51.233Z"
   },
   {
    "duration": 272,
    "start_time": "2023-09-23T07:12:16.056Z"
   },
   {
    "duration": 295,
    "start_time": "2023-09-23T07:12:40.221Z"
   },
   {
    "duration": 287,
    "start_time": "2023-09-23T07:12:55.127Z"
   },
   {
    "duration": 44,
    "start_time": "2023-09-23T07:13:31.212Z"
   },
   {
    "duration": 2377,
    "start_time": "2023-09-23T07:13:39.957Z"
   },
   {
    "duration": 1685,
    "start_time": "2023-09-23T07:13:42.336Z"
   },
   {
    "duration": 30,
    "start_time": "2023-09-23T07:13:44.023Z"
   },
   {
    "duration": 52,
    "start_time": "2023-09-23T07:13:44.055Z"
   },
   {
    "duration": 74,
    "start_time": "2023-09-23T07:13:44.109Z"
   },
   {
    "duration": 46,
    "start_time": "2023-09-23T07:13:44.184Z"
   },
   {
    "duration": 30,
    "start_time": "2023-09-23T07:13:44.232Z"
   },
   {
    "duration": 41,
    "start_time": "2023-09-23T07:13:44.264Z"
   },
   {
    "duration": 905,
    "start_time": "2023-09-23T07:13:44.307Z"
   },
   {
    "duration": 45,
    "start_time": "2023-09-23T07:13:45.214Z"
   },
   {
    "duration": 7,
    "start_time": "2023-09-23T07:13:45.262Z"
   },
   {
    "duration": 31,
    "start_time": "2023-09-23T07:13:45.271Z"
   },
   {
    "duration": 39,
    "start_time": "2023-09-23T07:13:45.305Z"
   },
   {
    "duration": 36,
    "start_time": "2023-09-23T07:13:45.347Z"
   },
   {
    "duration": 11,
    "start_time": "2023-09-23T07:13:45.385Z"
   },
   {
    "duration": 21,
    "start_time": "2023-09-23T07:13:45.397Z"
   },
   {
    "duration": 117,
    "start_time": "2023-09-23T07:13:45.420Z"
   },
   {
    "duration": 90,
    "start_time": "2023-09-23T07:13:45.540Z"
   },
   {
    "duration": 49,
    "start_time": "2023-09-23T07:13:45.632Z"
   },
   {
    "duration": 2217,
    "start_time": "2023-09-23T07:13:45.683Z"
   },
   {
    "duration": 6,
    "start_time": "2023-09-23T07:13:47.901Z"
   },
   {
    "duration": 84,
    "start_time": "2023-09-23T07:13:47.909Z"
   },
   {
    "duration": 432,
    "start_time": "2023-09-23T07:13:47.995Z"
   },
   {
    "duration": 44,
    "start_time": "2023-09-23T07:13:48.429Z"
   },
   {
    "duration": 250,
    "start_time": "2023-09-23T07:16:07.964Z"
   },
   {
    "duration": 32,
    "start_time": "2023-09-23T07:16:25.563Z"
   },
   {
    "duration": 4,
    "start_time": "2023-09-23T07:17:57.351Z"
   },
   {
    "duration": 4,
    "start_time": "2023-09-23T07:18:16.426Z"
   },
   {
    "duration": 122,
    "start_time": "2023-09-23T07:20:58.333Z"
   },
   {
    "duration": 4,
    "start_time": "2023-09-23T07:21:33.963Z"
   },
   {
    "duration": 13,
    "start_time": "2023-09-23T07:21:52.107Z"
   },
   {
    "duration": 6,
    "start_time": "2023-09-23T07:22:11.505Z"
   },
   {
    "duration": 6,
    "start_time": "2023-09-23T07:22:26.973Z"
   },
   {
    "duration": 8,
    "start_time": "2023-09-23T07:28:23.739Z"
   },
   {
    "duration": 2356,
    "start_time": "2023-09-23T07:31:46.939Z"
   },
   {
    "duration": 1638,
    "start_time": "2023-09-23T07:31:49.298Z"
   },
   {
    "duration": 33,
    "start_time": "2023-09-23T07:31:50.938Z"
   },
   {
    "duration": 14,
    "start_time": "2023-09-23T07:31:50.974Z"
   },
   {
    "duration": 14,
    "start_time": "2023-09-23T07:31:50.990Z"
   },
   {
    "duration": 34,
    "start_time": "2023-09-23T07:31:51.006Z"
   },
   {
    "duration": 99,
    "start_time": "2023-09-23T07:31:51.042Z"
   },
   {
    "duration": 41,
    "start_time": "2023-09-23T07:31:51.143Z"
   },
   {
    "duration": 1014,
    "start_time": "2023-09-23T07:31:51.186Z"
   },
   {
    "duration": 36,
    "start_time": "2023-09-23T07:31:52.202Z"
   },
   {
    "duration": 57,
    "start_time": "2023-09-23T07:31:52.241Z"
   },
   {
    "duration": 74,
    "start_time": "2023-09-23T07:31:52.300Z"
   },
   {
    "duration": 60,
    "start_time": "2023-09-23T07:31:52.376Z"
   },
   {
    "duration": 20,
    "start_time": "2023-09-23T07:31:52.439Z"
   },
   {
    "duration": 25,
    "start_time": "2023-09-23T07:31:52.461Z"
   },
   {
    "duration": 64,
    "start_time": "2023-09-23T07:31:52.487Z"
   },
   {
    "duration": 124,
    "start_time": "2023-09-23T07:31:52.552Z"
   },
   {
    "duration": 126,
    "start_time": "2023-09-23T07:31:52.677Z"
   },
   {
    "duration": 6,
    "start_time": "2023-09-23T07:31:52.805Z"
   },
   {
    "duration": 2113,
    "start_time": "2023-09-23T07:31:52.812Z"
   },
   {
    "duration": 9,
    "start_time": "2023-09-23T07:31:54.927Z"
   },
   {
    "duration": 57,
    "start_time": "2023-09-23T07:31:54.938Z"
   },
   {
    "duration": 430,
    "start_time": "2023-09-23T07:31:54.997Z"
   },
   {
    "duration": 40,
    "start_time": "2023-09-23T07:31:55.429Z"
   },
   {
    "duration": 6,
    "start_time": "2023-09-23T07:31:55.470Z"
   },
   {
    "duration": 25,
    "start_time": "2023-09-23T07:31:55.477Z"
   },
   {
    "duration": 2349,
    "start_time": "2023-09-23T07:36:47.800Z"
   },
   {
    "duration": 1472,
    "start_time": "2023-09-23T07:36:50.153Z"
   },
   {
    "duration": 32,
    "start_time": "2023-09-23T07:36:51.627Z"
   },
   {
    "duration": 15,
    "start_time": "2023-09-23T07:36:51.660Z"
   },
   {
    "duration": 25,
    "start_time": "2023-09-23T07:36:51.678Z"
   },
   {
    "duration": 45,
    "start_time": "2023-09-23T07:36:51.705Z"
   },
   {
    "duration": 38,
    "start_time": "2023-09-23T07:36:51.751Z"
   },
   {
    "duration": 80,
    "start_time": "2023-09-23T07:36:51.790Z"
   },
   {
    "duration": 835,
    "start_time": "2023-09-23T07:36:51.872Z"
   },
   {
    "duration": 38,
    "start_time": "2023-09-23T07:36:52.709Z"
   },
   {
    "duration": 3,
    "start_time": "2023-09-23T07:36:52.748Z"
   },
   {
    "duration": 32,
    "start_time": "2023-09-23T07:36:52.753Z"
   },
   {
    "duration": 53,
    "start_time": "2023-09-23T07:36:52.787Z"
   },
   {
    "duration": 20,
    "start_time": "2023-09-23T07:36:52.844Z"
   },
   {
    "duration": 15,
    "start_time": "2023-09-23T07:36:52.866Z"
   },
   {
    "duration": 23,
    "start_time": "2023-09-23T07:36:52.883Z"
   },
   {
    "duration": 108,
    "start_time": "2023-09-23T07:36:52.907Z"
   },
   {
    "duration": 83,
    "start_time": "2023-09-23T07:36:53.016Z"
   },
   {
    "duration": 5,
    "start_time": "2023-09-23T07:36:53.101Z"
   },
   {
    "duration": 2102,
    "start_time": "2023-09-23T07:36:53.108Z"
   },
   {
    "duration": 24,
    "start_time": "2023-09-23T07:36:55.211Z"
   },
   {
    "duration": 84,
    "start_time": "2023-09-23T07:36:55.237Z"
   },
   {
    "duration": 376,
    "start_time": "2023-09-23T07:36:55.322Z"
   },
   {
    "duration": 44,
    "start_time": "2023-09-23T07:36:55.700Z"
   },
   {
    "duration": 6,
    "start_time": "2023-09-23T07:36:55.745Z"
   },
   {
    "duration": 29,
    "start_time": "2023-09-23T07:36:55.753Z"
   },
   {
    "duration": 3202,
    "start_time": "2023-09-24T04:08:11.373Z"
   },
   {
    "duration": 3011,
    "start_time": "2023-09-24T04:08:14.577Z"
   },
   {
    "duration": 29,
    "start_time": "2023-09-24T04:08:17.591Z"
   },
   {
    "duration": 39,
    "start_time": "2023-09-24T04:08:17.621Z"
   },
   {
    "duration": 12,
    "start_time": "2023-09-24T04:08:17.662Z"
   },
   {
    "duration": 11,
    "start_time": "2023-09-24T04:08:17.676Z"
   },
   {
    "duration": 7,
    "start_time": "2023-09-24T04:08:17.688Z"
   },
   {
    "duration": 6,
    "start_time": "2023-09-24T04:08:17.696Z"
   },
   {
    "duration": 915,
    "start_time": "2023-09-24T04:08:17.705Z"
   },
   {
    "duration": 38,
    "start_time": "2023-09-24T04:08:18.621Z"
   },
   {
    "duration": 3,
    "start_time": "2023-09-24T04:08:18.660Z"
   },
   {
    "duration": 6,
    "start_time": "2023-09-24T04:08:18.665Z"
   },
   {
    "duration": 5,
    "start_time": "2023-09-24T04:08:18.673Z"
   },
   {
    "duration": 4,
    "start_time": "2023-09-24T04:08:18.679Z"
   },
   {
    "duration": 5,
    "start_time": "2023-09-24T04:08:18.685Z"
   },
   {
    "duration": 4,
    "start_time": "2023-09-24T04:08:18.692Z"
   },
   {
    "duration": 117,
    "start_time": "2023-09-24T04:08:18.697Z"
   },
   {
    "duration": 84,
    "start_time": "2023-09-24T04:08:18.816Z"
   },
   {
    "duration": 4,
    "start_time": "2023-09-24T04:08:18.902Z"
   },
   {
    "duration": 1818,
    "start_time": "2023-09-24T04:08:18.907Z"
   },
   {
    "duration": 5,
    "start_time": "2023-09-24T04:08:20.727Z"
   },
   {
    "duration": 31,
    "start_time": "2023-09-24T04:08:20.749Z"
   },
   {
    "duration": 343,
    "start_time": "2023-09-24T04:08:20.781Z"
   },
   {
    "duration": 53,
    "start_time": "2023-09-24T04:08:21.126Z"
   },
   {
    "duration": 7,
    "start_time": "2023-09-24T04:08:21.181Z"
   },
   {
    "duration": 4,
    "start_time": "2023-09-24T04:08:21.189Z"
   },
   {
    "duration": 2062,
    "start_time": "2023-09-24T04:08:25.424Z"
   },
   {
    "duration": 3308,
    "start_time": "2023-09-24T04:08:27.488Z"
   },
   {
    "duration": 30,
    "start_time": "2023-09-24T04:08:30.798Z"
   },
   {
    "duration": 41,
    "start_time": "2023-09-24T04:08:30.829Z"
   },
   {
    "duration": 74,
    "start_time": "2023-09-24T04:08:30.872Z"
   },
   {
    "duration": 32,
    "start_time": "2023-09-24T04:08:30.948Z"
   },
   {
    "duration": 36,
    "start_time": "2023-09-24T04:08:30.981Z"
   },
   {
    "duration": 257,
    "start_time": "2023-09-24T04:08:31.019Z"
   },
   {
    "duration": 924,
    "start_time": "2023-09-24T04:08:31.278Z"
   },
   {
    "duration": 24,
    "start_time": "2023-09-24T04:08:32.205Z"
   },
   {
    "duration": 16,
    "start_time": "2023-09-24T04:08:32.230Z"
   },
   {
    "duration": 13,
    "start_time": "2023-09-24T04:08:32.248Z"
   },
   {
    "duration": 7,
    "start_time": "2023-09-24T04:08:32.263Z"
   },
   {
    "duration": 4,
    "start_time": "2023-09-24T04:08:32.272Z"
   },
   {
    "duration": 12,
    "start_time": "2023-09-24T04:08:32.278Z"
   },
   {
    "duration": 5,
    "start_time": "2023-09-24T04:08:32.291Z"
   },
   {
    "duration": 114,
    "start_time": "2023-09-24T04:08:32.297Z"
   },
   {
    "duration": 84,
    "start_time": "2023-09-24T04:08:32.412Z"
   },
   {
    "duration": 5,
    "start_time": "2023-09-24T04:08:32.497Z"
   },
   {
    "duration": 1766,
    "start_time": "2023-09-24T04:08:32.503Z"
   },
   {
    "duration": 6,
    "start_time": "2023-09-24T04:08:34.271Z"
   },
   {
    "duration": 33,
    "start_time": "2023-09-24T04:08:34.279Z"
   },
   {
    "duration": 336,
    "start_time": "2023-09-24T04:08:34.313Z"
   },
   {
    "duration": 31,
    "start_time": "2023-09-24T04:08:34.651Z"
   },
   {
    "duration": 6,
    "start_time": "2023-09-24T04:08:34.684Z"
   },
   {
    "duration": 4,
    "start_time": "2023-09-24T04:08:34.691Z"
   },
   {
    "duration": 2231,
    "start_time": "2023-09-24T04:08:37.269Z"
   },
   {
    "duration": 2998,
    "start_time": "2023-09-24T04:08:39.503Z"
   },
   {
    "duration": 29,
    "start_time": "2023-09-24T04:08:42.503Z"
   },
   {
    "duration": 19,
    "start_time": "2023-09-24T04:08:42.533Z"
   },
   {
    "duration": 16,
    "start_time": "2023-09-24T04:08:42.555Z"
   },
   {
    "duration": 16,
    "start_time": "2023-09-24T04:08:42.572Z"
   },
   {
    "duration": 6,
    "start_time": "2023-09-24T04:08:42.590Z"
   },
   {
    "duration": 6,
    "start_time": "2023-09-24T04:08:42.598Z"
   },
   {
    "duration": 915,
    "start_time": "2023-09-24T04:08:42.605Z"
   },
   {
    "duration": 51,
    "start_time": "2023-09-24T04:08:43.522Z"
   },
   {
    "duration": 4,
    "start_time": "2023-09-24T04:08:43.574Z"
   },
   {
    "duration": 6,
    "start_time": "2023-09-24T04:08:43.580Z"
   },
   {
    "duration": 13,
    "start_time": "2023-09-24T04:08:43.587Z"
   },
   {
    "duration": 5,
    "start_time": "2023-09-24T04:08:43.603Z"
   },
   {
    "duration": 5,
    "start_time": "2023-09-24T04:08:43.609Z"
   },
   {
    "duration": 31,
    "start_time": "2023-09-24T04:08:43.616Z"
   },
   {
    "duration": 109,
    "start_time": "2023-09-24T04:08:43.649Z"
   },
   {
    "duration": 94,
    "start_time": "2023-09-24T04:08:43.761Z"
   },
   {
    "duration": 12,
    "start_time": "2023-09-24T04:08:43.857Z"
   },
   {
    "duration": 1807,
    "start_time": "2023-09-24T04:08:43.871Z"
   },
   {
    "duration": 6,
    "start_time": "2023-09-24T04:08:45.679Z"
   },
   {
    "duration": 21,
    "start_time": "2023-09-24T04:08:45.687Z"
   },
   {
    "duration": 364,
    "start_time": "2023-09-24T04:08:45.709Z"
   },
   {
    "duration": 29,
    "start_time": "2023-09-24T04:08:46.075Z"
   },
   {
    "duration": 5,
    "start_time": "2023-09-24T04:08:46.106Z"
   },
   {
    "duration": 6,
    "start_time": "2023-09-24T04:08:46.112Z"
   },
   {
    "duration": 58,
    "start_time": "2023-09-24T06:13:56.182Z"
   },
   {
    "duration": 4068,
    "start_time": "2023-09-24T06:14:11.518Z"
   },
   {
    "duration": 2276,
    "start_time": "2023-09-24T06:14:15.588Z"
   },
   {
    "duration": 185,
    "start_time": "2023-09-24T06:14:17.866Z"
   },
   {
    "duration": 36,
    "start_time": "2023-09-24T06:14:18.054Z"
   },
   {
    "duration": 42,
    "start_time": "2023-09-24T06:14:18.091Z"
   },
   {
    "duration": 126,
    "start_time": "2023-09-24T06:14:18.135Z"
   },
   {
    "duration": 25,
    "start_time": "2023-09-24T06:14:18.264Z"
   },
   {
    "duration": 28,
    "start_time": "2023-09-24T06:14:18.291Z"
   },
   {
    "duration": 1133,
    "start_time": "2023-09-24T06:14:18.321Z"
   },
   {
    "duration": 50,
    "start_time": "2023-09-24T06:14:19.457Z"
   },
   {
    "duration": 4,
    "start_time": "2023-09-24T06:14:19.509Z"
   },
   {
    "duration": 48,
    "start_time": "2023-09-24T06:14:19.518Z"
   },
   {
    "duration": 24,
    "start_time": "2023-09-24T06:14:19.568Z"
   },
   {
    "duration": 88,
    "start_time": "2023-09-24T06:14:19.595Z"
   },
   {
    "duration": 8,
    "start_time": "2023-09-24T06:14:19.685Z"
   },
   {
    "duration": 6,
    "start_time": "2023-09-24T06:14:19.695Z"
   },
   {
    "duration": 12,
    "start_time": "2023-09-24T06:14:19.703Z"
   },
   {
    "duration": 142,
    "start_time": "2023-09-24T06:14:19.717Z"
   },
   {
    "duration": 139,
    "start_time": "2023-09-24T06:14:19.861Z"
   },
   {
    "duration": 5,
    "start_time": "2023-09-24T06:14:20.002Z"
   },
   {
    "duration": 3077,
    "start_time": "2023-09-24T06:14:20.009Z"
   },
   {
    "duration": 8,
    "start_time": "2023-09-24T06:14:23.090Z"
   },
   {
    "duration": 209,
    "start_time": "2023-09-24T06:14:23.125Z"
   },
   {
    "duration": 789,
    "start_time": "2023-09-24T06:14:23.337Z"
   },
   {
    "duration": 52,
    "start_time": "2023-09-24T06:14:24.128Z"
   },
   {
    "duration": 157,
    "start_time": "2023-09-24T06:14:24.182Z"
   },
   {
    "duration": 129,
    "start_time": "2023-09-24T06:14:24.342Z"
   },
   {
    "duration": 144,
    "start_time": "2023-09-24T06:15:27.295Z"
   },
   {
    "duration": 7,
    "start_time": "2023-09-24T06:15:37.593Z"
   },
   {
    "duration": 15,
    "start_time": "2023-09-24T06:21:06.883Z"
   },
   {
    "duration": 15,
    "start_time": "2023-09-24T06:21:28.201Z"
   },
   {
    "duration": 157,
    "start_time": "2023-09-24T06:21:51.151Z"
   },
   {
    "duration": 172,
    "start_time": "2023-09-24T06:21:59.230Z"
   },
   {
    "duration": 10,
    "start_time": "2023-09-24T06:22:08.305Z"
   },
   {
    "duration": 12,
    "start_time": "2023-09-24T06:22:45.270Z"
   },
   {
    "duration": 1455,
    "start_time": "2023-09-24T06:22:59.565Z"
   },
   {
    "duration": 1405,
    "start_time": "2023-09-24T06:23:25.788Z"
   },
   {
    "duration": 15,
    "start_time": "2023-09-24T06:23:35.417Z"
   },
   {
    "duration": 20,
    "start_time": "2023-09-24T06:23:41.818Z"
   },
   {
    "duration": 1358,
    "start_time": "2023-09-24T06:23:49.400Z"
   },
   {
    "duration": 1442,
    "start_time": "2023-09-24T06:24:07.198Z"
   },
   {
    "duration": 4,
    "start_time": "2023-09-24T06:24:46.690Z"
   },
   {
    "duration": 24,
    "start_time": "2023-09-24T06:24:54.053Z"
   },
   {
    "duration": 38,
    "start_time": "2023-09-24T06:25:34.318Z"
   },
   {
    "duration": 16,
    "start_time": "2023-09-24T06:26:10.495Z"
   },
   {
    "duration": 20,
    "start_time": "2023-09-24T06:26:26.433Z"
   },
   {
    "duration": 22,
    "start_time": "2023-09-24T06:27:10.032Z"
   },
   {
    "duration": 106,
    "start_time": "2023-09-24T06:27:30.894Z"
   },
   {
    "duration": 131,
    "start_time": "2023-09-24T06:27:44.922Z"
   },
   {
    "duration": 90,
    "start_time": "2023-09-24T06:28:00.584Z"
   },
   {
    "duration": 150,
    "start_time": "2023-09-24T06:28:03.260Z"
   },
   {
    "duration": 110,
    "start_time": "2023-09-24T06:28:08.459Z"
   },
   {
    "duration": 17,
    "start_time": "2023-09-24T06:28:23.688Z"
   },
   {
    "duration": 16,
    "start_time": "2023-09-24T06:29:08.437Z"
   },
   {
    "duration": 10,
    "start_time": "2023-09-24T06:30:42.045Z"
   },
   {
    "duration": 107,
    "start_time": "2023-09-24T06:30:49.870Z"
   },
   {
    "duration": 12,
    "start_time": "2023-09-24T06:31:04.660Z"
   },
   {
    "duration": 15,
    "start_time": "2023-09-24T06:31:36.400Z"
   },
   {
    "duration": 20,
    "start_time": "2023-09-24T06:32:03.869Z"
   },
   {
    "duration": 15,
    "start_time": "2023-09-24T06:32:35.179Z"
   },
   {
    "duration": 21,
    "start_time": "2023-09-24T06:33:39.322Z"
   },
   {
    "duration": 18,
    "start_time": "2023-09-24T06:34:03.651Z"
   },
   {
    "duration": 15,
    "start_time": "2023-09-24T06:34:39.486Z"
   },
   {
    "duration": 15,
    "start_time": "2023-09-24T06:35:19.381Z"
   },
   {
    "duration": 10,
    "start_time": "2023-09-24T06:35:59.699Z"
   },
   {
    "duration": 14,
    "start_time": "2023-09-24T06:36:12.355Z"
   },
   {
    "duration": 27,
    "start_time": "2023-09-24T06:37:03.512Z"
   },
   {
    "duration": 10,
    "start_time": "2023-09-24T06:37:09.067Z"
   },
   {
    "duration": 7,
    "start_time": "2023-09-24T06:47:32.421Z"
   },
   {
    "duration": 2161,
    "start_time": "2023-09-24T06:47:40.101Z"
   },
   {
    "duration": 197,
    "start_time": "2023-09-24T06:48:01.178Z"
   },
   {
    "duration": 179,
    "start_time": "2023-09-24T06:48:26.568Z"
   },
   {
    "duration": 208,
    "start_time": "2023-09-24T06:49:05.743Z"
   },
   {
    "duration": 10,
    "start_time": "2023-09-24T06:54:15.491Z"
   },
   {
    "duration": 11,
    "start_time": "2023-09-24T06:55:32.997Z"
   },
   {
    "duration": 172,
    "start_time": "2023-09-24T06:58:42.877Z"
   },
   {
    "duration": 164,
    "start_time": "2023-09-24T06:58:51.280Z"
   },
   {
    "duration": 6,
    "start_time": "2023-09-24T07:07:16.881Z"
   },
   {
    "duration": 2841,
    "start_time": "2023-09-24T07:08:27.294Z"
   },
   {
    "duration": 5,
    "start_time": "2023-09-24T07:09:01.283Z"
   },
   {
    "duration": 3126,
    "start_time": "2023-09-24T07:09:09.290Z"
   },
   {
    "duration": 2904,
    "start_time": "2023-09-24T07:09:12.946Z"
   },
   {
    "duration": 3,
    "start_time": "2023-09-24T07:09:42.091Z"
   },
   {
    "duration": 3340,
    "start_time": "2023-09-24T07:09:45.298Z"
   },
   {
    "duration": 4,
    "start_time": "2023-09-24T07:10:47.411Z"
   },
   {
    "duration": 197,
    "start_time": "2023-09-24T07:10:50.567Z"
   },
   {
    "duration": 8,
    "start_time": "2023-09-24T07:11:16.648Z"
   },
   {
    "duration": 174,
    "start_time": "2023-09-24T07:11:20.481Z"
   },
   {
    "duration": 6,
    "start_time": "2023-09-24T07:16:02.899Z"
   },
   {
    "duration": 163,
    "start_time": "2023-09-24T07:16:04.644Z"
   },
   {
    "duration": 154,
    "start_time": "2023-09-24T07:16:20.654Z"
   },
   {
    "duration": 278,
    "start_time": "2023-09-24T07:17:11.671Z"
   },
   {
    "duration": 167,
    "start_time": "2023-09-24T07:17:19.083Z"
   },
   {
    "duration": 153,
    "start_time": "2023-09-24T07:17:24.551Z"
   },
   {
    "duration": 5,
    "start_time": "2023-09-24T07:18:31.936Z"
   },
   {
    "duration": 136,
    "start_time": "2023-09-24T07:18:33.272Z"
   },
   {
    "duration": 138,
    "start_time": "2023-09-24T07:18:35.421Z"
   },
   {
    "duration": 150,
    "start_time": "2023-09-24T07:18:37.612Z"
   },
   {
    "duration": 148,
    "start_time": "2023-09-24T07:18:39.605Z"
   },
   {
    "duration": 123,
    "start_time": "2023-09-24T07:30:31.780Z"
   },
   {
    "duration": 4,
    "start_time": "2023-09-24T07:31:41.172Z"
   },
   {
    "duration": 455,
    "start_time": "2023-09-24T07:31:50.124Z"
   },
   {
    "duration": 458,
    "start_time": "2023-09-24T07:32:18.573Z"
   },
   {
    "duration": 24,
    "start_time": "2023-09-24T07:36:37.050Z"
   },
   {
    "duration": 400,
    "start_time": "2023-09-24T07:36:47.358Z"
   },
   {
    "duration": 585,
    "start_time": "2023-09-24T07:37:04.247Z"
   },
   {
    "duration": 9,
    "start_time": "2023-09-24T08:23:01.208Z"
   },
   {
    "duration": 6,
    "start_time": "2023-09-24T08:23:03.222Z"
   },
   {
    "duration": 7,
    "start_time": "2023-09-24T08:23:05.108Z"
   },
   {
    "duration": 8,
    "start_time": "2023-09-24T08:23:06.918Z"
   },
   {
    "duration": 6,
    "start_time": "2023-09-24T08:23:08.896Z"
   },
   {
    "duration": 107,
    "start_time": "2023-09-24T08:23:10.946Z"
   },
   {
    "duration": 73,
    "start_time": "2023-09-24T08:28:44.118Z"
   },
   {
    "duration": 1974,
    "start_time": "2023-09-24T08:30:39.901Z"
   },
   {
    "duration": 6,
    "start_time": "2023-09-24T08:30:44.672Z"
   },
   {
    "duration": 2425,
    "start_time": "2023-09-24T08:31:14.463Z"
   },
   {
    "duration": 1451,
    "start_time": "2023-09-24T08:31:16.890Z"
   },
   {
    "duration": 30,
    "start_time": "2023-09-24T08:31:18.342Z"
   },
   {
    "duration": 35,
    "start_time": "2023-09-24T08:31:18.374Z"
   },
   {
    "duration": 99,
    "start_time": "2023-09-24T08:31:18.411Z"
   },
   {
    "duration": 67,
    "start_time": "2023-09-24T08:31:18.512Z"
   },
   {
    "duration": 75,
    "start_time": "2023-09-24T08:31:18.580Z"
   },
   {
    "duration": 91,
    "start_time": "2023-09-24T08:31:18.657Z"
   },
   {
    "duration": 952,
    "start_time": "2023-09-24T08:31:18.749Z"
   },
   {
    "duration": 41,
    "start_time": "2023-09-24T08:31:19.704Z"
   },
   {
    "duration": 157,
    "start_time": "2023-09-24T08:31:19.746Z"
   },
   {
    "duration": 454,
    "start_time": "2023-09-24T08:31:19.904Z"
   },
   {
    "duration": 5,
    "start_time": "2023-09-24T08:31:20.361Z"
   },
   {
    "duration": 46,
    "start_time": "2023-09-24T08:31:20.368Z"
   },
   {
    "duration": 26,
    "start_time": "2023-09-24T08:31:20.417Z"
   },
   {
    "duration": 13,
    "start_time": "2023-09-24T08:31:20.445Z"
   },
   {
    "duration": 55,
    "start_time": "2023-09-24T08:31:20.460Z"
   },
   {
    "duration": 47,
    "start_time": "2023-09-24T08:31:20.517Z"
   },
   {
    "duration": 224,
    "start_time": "2023-09-24T08:31:20.566Z"
   },
   {
    "duration": 88,
    "start_time": "2023-09-24T08:31:20.792Z"
   },
   {
    "duration": 6,
    "start_time": "2023-09-24T08:31:20.882Z"
   },
   {
    "duration": 1964,
    "start_time": "2023-09-24T08:31:20.891Z"
   },
   {
    "duration": 7,
    "start_time": "2023-09-24T08:31:22.856Z"
   },
   {
    "duration": 71,
    "start_time": "2023-09-24T08:31:22.864Z"
   },
   {
    "duration": 273,
    "start_time": "2023-09-24T08:31:22.937Z"
   },
   {
    "duration": 39,
    "start_time": "2023-09-24T08:31:23.212Z"
   },
   {
    "duration": 9,
    "start_time": "2023-09-24T08:31:23.253Z"
   },
   {
    "duration": 23,
    "start_time": "2023-09-24T08:31:23.265Z"
   },
   {
    "duration": 184,
    "start_time": "2023-09-24T08:50:41.559Z"
   },
   {
    "duration": 5,
    "start_time": "2023-09-24T08:50:49.059Z"
   },
   {
    "duration": 147,
    "start_time": "2023-09-24T08:53:16.561Z"
   },
   {
    "duration": 263,
    "start_time": "2023-09-24T08:54:10.089Z"
   },
   {
    "duration": 4,
    "start_time": "2023-09-24T08:54:17.712Z"
   },
   {
    "duration": 13,
    "start_time": "2023-09-24T08:55:17.638Z"
   },
   {
    "duration": 10,
    "start_time": "2023-09-24T08:56:03.286Z"
   },
   {
    "duration": 134,
    "start_time": "2023-09-24T08:56:12.839Z"
   },
   {
    "duration": 157,
    "start_time": "2023-09-24T09:00:26.941Z"
   },
   {
    "duration": 141,
    "start_time": "2023-09-24T09:00:50.461Z"
   },
   {
    "duration": 306,
    "start_time": "2023-09-24T09:00:56.758Z"
   },
   {
    "duration": 203,
    "start_time": "2023-09-24T09:01:56.887Z"
   },
   {
    "duration": 192,
    "start_time": "2023-09-24T09:02:12.467Z"
   },
   {
    "duration": 279,
    "start_time": "2023-09-24T09:02:43.428Z"
   },
   {
    "duration": 169,
    "start_time": "2023-09-24T09:04:57.946Z"
   },
   {
    "duration": 175,
    "start_time": "2023-09-24T09:05:05.332Z"
   },
   {
    "duration": 7,
    "start_time": "2023-09-24T09:05:50.817Z"
   },
   {
    "duration": 197,
    "start_time": "2023-09-24T09:05:59.982Z"
   },
   {
    "duration": 278,
    "start_time": "2023-09-24T09:06:21.743Z"
   },
   {
    "duration": 8,
    "start_time": "2023-09-24T09:06:24.177Z"
   },
   {
    "duration": 206,
    "start_time": "2023-09-24T09:06:27.275Z"
   },
   {
    "duration": 268,
    "start_time": "2023-09-24T09:06:55.820Z"
   },
   {
    "duration": 205,
    "start_time": "2023-09-24T09:07:24.560Z"
   },
   {
    "duration": 364,
    "start_time": "2023-09-24T09:07:31.663Z"
   },
   {
    "duration": 270,
    "start_time": "2023-09-24T09:07:49.806Z"
   },
   {
    "duration": 242,
    "start_time": "2023-09-24T09:07:56.578Z"
   },
   {
    "duration": 273,
    "start_time": "2023-09-24T09:08:49.216Z"
   },
   {
    "duration": 258,
    "start_time": "2023-09-24T09:09:34.406Z"
   },
   {
    "duration": 259,
    "start_time": "2023-09-24T09:10:02.366Z"
   },
   {
    "duration": 292,
    "start_time": "2023-09-24T09:10:16.386Z"
   },
   {
    "duration": 5,
    "start_time": "2023-09-24T09:14:39.916Z"
   },
   {
    "duration": 297,
    "start_time": "2023-09-24T09:16:48.096Z"
   },
   {
    "duration": 6,
    "start_time": "2023-09-24T09:16:53.650Z"
   },
   {
    "duration": 302,
    "start_time": "2023-09-24T09:16:57.454Z"
   },
   {
    "duration": 675,
    "start_time": "2023-09-24T09:18:01.622Z"
   },
   {
    "duration": 607,
    "start_time": "2023-09-24T09:18:34.307Z"
   },
   {
    "duration": 627,
    "start_time": "2023-09-24T09:19:30.768Z"
   },
   {
    "duration": 338,
    "start_time": "2023-09-24T09:25:05.849Z"
   },
   {
    "duration": 1107,
    "start_time": "2023-09-24T09:25:12.174Z"
   },
   {
    "duration": 394,
    "start_time": "2023-09-24T09:25:39.209Z"
   },
   {
    "duration": 16,
    "start_time": "2023-09-24T09:25:42.822Z"
   },
   {
    "duration": 1109,
    "start_time": "2023-09-24T09:25:49.591Z"
   },
   {
    "duration": 1062,
    "start_time": "2023-09-24T09:26:23.721Z"
   },
   {
    "duration": 1016,
    "start_time": "2023-09-24T09:28:25.302Z"
   },
   {
    "duration": 932,
    "start_time": "2023-09-24T09:28:33.862Z"
   },
   {
    "duration": 2444,
    "start_time": "2023-09-24T10:01:41.345Z"
   },
   {
    "duration": 1604,
    "start_time": "2023-09-24T10:01:43.792Z"
   },
   {
    "duration": 37,
    "start_time": "2023-09-24T10:01:45.397Z"
   },
   {
    "duration": 21,
    "start_time": "2023-09-24T10:01:45.435Z"
   },
   {
    "duration": 22,
    "start_time": "2023-09-24T10:01:45.459Z"
   },
   {
    "duration": 28,
    "start_time": "2023-09-24T10:01:45.484Z"
   },
   {
    "duration": 22,
    "start_time": "2023-09-24T10:01:45.514Z"
   },
   {
    "duration": 9,
    "start_time": "2023-09-24T10:01:45.542Z"
   },
   {
    "duration": 850,
    "start_time": "2023-09-24T10:01:45.552Z"
   },
   {
    "duration": 40,
    "start_time": "2023-09-24T10:01:46.404Z"
   },
   {
    "duration": 158,
    "start_time": "2023-09-24T10:01:46.446Z"
   },
   {
    "duration": 401,
    "start_time": "2023-09-24T10:01:46.606Z"
   },
   {
    "duration": 4,
    "start_time": "2023-09-24T10:01:47.008Z"
   },
   {
    "duration": 25,
    "start_time": "2023-09-24T10:01:47.015Z"
   },
   {
    "duration": 14,
    "start_time": "2023-09-24T10:01:47.047Z"
   },
   {
    "duration": 9,
    "start_time": "2023-09-24T10:01:47.063Z"
   },
   {
    "duration": 15,
    "start_time": "2023-09-24T10:01:47.074Z"
   },
   {
    "duration": 10,
    "start_time": "2023-09-24T10:01:47.091Z"
   },
   {
    "duration": 200,
    "start_time": "2023-09-24T10:01:47.102Z"
   },
   {
    "duration": 247,
    "start_time": "2023-09-24T10:01:47.304Z"
   },
   {
    "duration": 9,
    "start_time": "2023-09-24T10:01:47.553Z"
   },
   {
    "duration": 310,
    "start_time": "2023-09-24T10:01:47.564Z"
   },
   {
    "duration": 1082,
    "start_time": "2023-09-24T10:01:47.876Z"
   },
   {
    "duration": 2100,
    "start_time": "2023-09-24T10:01:48.960Z"
   },
   {
    "duration": 7,
    "start_time": "2023-09-24T10:01:51.062Z"
   },
   {
    "duration": 76,
    "start_time": "2023-09-24T10:01:51.070Z"
   },
   {
    "duration": 275,
    "start_time": "2023-09-24T10:01:51.150Z"
   },
   {
    "duration": 44,
    "start_time": "2023-09-24T10:01:51.426Z"
   },
   {
    "duration": 31,
    "start_time": "2023-09-24T10:01:51.472Z"
   },
   {
    "duration": 56,
    "start_time": "2023-09-24T10:01:51.505Z"
   },
   {
    "duration": 226,
    "start_time": "2023-09-24T10:08:02.143Z"
   },
   {
    "duration": 7,
    "start_time": "2023-09-24T10:09:05.612Z"
   },
   {
    "duration": 14,
    "start_time": "2023-09-24T10:09:48.510Z"
   },
   {
    "duration": 18,
    "start_time": "2023-09-24T10:10:11.447Z"
   },
   {
    "duration": 61,
    "start_time": "2023-09-24T10:13:07.942Z"
   },
   {
    "duration": 58,
    "start_time": "2023-09-24T10:13:15.098Z"
   },
   {
    "duration": 44,
    "start_time": "2023-09-24T10:13:28.174Z"
   },
   {
    "duration": 60,
    "start_time": "2023-09-24T10:15:24.453Z"
   },
   {
    "duration": 38,
    "start_time": "2023-09-24T10:15:57.952Z"
   },
   {
    "duration": 38,
    "start_time": "2023-09-24T10:16:36.862Z"
   },
   {
    "duration": 14,
    "start_time": "2023-09-24T10:27:40.445Z"
   },
   {
    "duration": 4,
    "start_time": "2023-09-24T10:27:49.451Z"
   },
   {
    "duration": 7,
    "start_time": "2023-09-24T10:27:59.214Z"
   },
   {
    "duration": 7,
    "start_time": "2023-09-24T10:29:17.770Z"
   },
   {
    "duration": 13,
    "start_time": "2023-09-24T10:31:19.364Z"
   },
   {
    "duration": 13,
    "start_time": "2023-09-24T10:31:27.774Z"
   },
   {
    "duration": 10,
    "start_time": "2023-09-24T10:31:59.425Z"
   },
   {
    "duration": 13,
    "start_time": "2023-09-24T10:32:10.378Z"
   },
   {
    "duration": 12,
    "start_time": "2023-09-24T10:36:03.486Z"
   },
   {
    "duration": 12,
    "start_time": "2023-09-24T10:37:41.668Z"
   },
   {
    "duration": 16,
    "start_time": "2023-09-24T10:39:45.253Z"
   },
   {
    "duration": 20,
    "start_time": "2023-09-24T10:40:16.153Z"
   },
   {
    "duration": 5,
    "start_time": "2023-09-24T10:43:07.650Z"
   },
   {
    "duration": 13,
    "start_time": "2023-09-24T10:44:58.481Z"
   },
   {
    "duration": 15,
    "start_time": "2023-09-24T10:45:29.053Z"
   },
   {
    "duration": 32,
    "start_time": "2023-09-24T10:45:50.420Z"
   },
   {
    "duration": 24,
    "start_time": "2023-09-24T10:45:56.519Z"
   },
   {
    "duration": 2508,
    "start_time": "2023-09-24T10:47:01.455Z"
   },
   {
    "duration": 1545,
    "start_time": "2023-09-24T10:47:03.965Z"
   },
   {
    "duration": 48,
    "start_time": "2023-09-24T10:47:05.512Z"
   },
   {
    "duration": 16,
    "start_time": "2023-09-24T10:47:05.562Z"
   },
   {
    "duration": 122,
    "start_time": "2023-09-24T10:47:05.580Z"
   },
   {
    "duration": 98,
    "start_time": "2023-09-24T10:47:05.704Z"
   },
   {
    "duration": 57,
    "start_time": "2023-09-24T10:47:05.805Z"
   },
   {
    "duration": 82,
    "start_time": "2023-09-24T10:47:05.864Z"
   },
   {
    "duration": 869,
    "start_time": "2023-09-24T10:47:05.949Z"
   },
   {
    "duration": 41,
    "start_time": "2023-09-24T10:47:06.819Z"
   },
   {
    "duration": 209,
    "start_time": "2023-09-24T10:47:06.861Z"
   },
   {
    "duration": 427,
    "start_time": "2023-09-24T10:47:07.072Z"
   },
   {
    "duration": 4,
    "start_time": "2023-09-24T10:47:07.500Z"
   },
   {
    "duration": 65,
    "start_time": "2023-09-24T10:47:07.507Z"
   },
   {
    "duration": 35,
    "start_time": "2023-09-24T10:47:07.574Z"
   },
   {
    "duration": 43,
    "start_time": "2023-09-24T10:47:07.611Z"
   },
   {
    "duration": 28,
    "start_time": "2023-09-24T10:47:07.656Z"
   },
   {
    "duration": 46,
    "start_time": "2023-09-24T10:47:07.686Z"
   },
   {
    "duration": 253,
    "start_time": "2023-09-24T10:47:07.737Z"
   },
   {
    "duration": 286,
    "start_time": "2023-09-24T10:47:07.991Z"
   },
   {
    "duration": 7,
    "start_time": "2023-09-24T10:47:08.280Z"
   },
   {
    "duration": 295,
    "start_time": "2023-09-24T10:47:08.289Z"
   },
   {
    "duration": 1003,
    "start_time": "2023-09-24T10:47:08.587Z"
   },
   {
    "duration": 2216,
    "start_time": "2023-09-24T10:47:09.592Z"
   },
   {
    "duration": 15,
    "start_time": "2023-09-24T10:47:11.810Z"
   },
   {
    "duration": 50,
    "start_time": "2023-09-24T10:47:11.835Z"
   },
   {
    "duration": 332,
    "start_time": "2023-09-24T10:47:11.887Z"
   },
   {
    "duration": 35,
    "start_time": "2023-09-24T10:47:12.224Z"
   },
   {
    "duration": 10,
    "start_time": "2023-09-24T10:47:12.261Z"
   },
   {
    "duration": 64,
    "start_time": "2023-09-24T10:47:12.273Z"
   },
   {
    "duration": 30,
    "start_time": "2023-09-24T10:47:12.339Z"
   },
   {
    "duration": 14,
    "start_time": "2023-09-24T10:47:12.371Z"
   },
   {
    "duration": 6,
    "start_time": "2023-09-24T10:47:12.386Z"
   },
   {
    "duration": 39,
    "start_time": "2023-09-24T10:47:12.393Z"
   },
   {
    "duration": 134,
    "start_time": "2023-09-24T10:47:40.387Z"
   },
   {
    "duration": 13,
    "start_time": "2023-09-24T10:48:06.757Z"
   },
   {
    "duration": 13,
    "start_time": "2023-09-24T10:48:24.766Z"
   },
   {
    "duration": 2324,
    "start_time": "2023-09-24T10:48:42.894Z"
   },
   {
    "duration": 1551,
    "start_time": "2023-09-24T10:48:45.220Z"
   },
   {
    "duration": 29,
    "start_time": "2023-09-24T10:48:46.773Z"
   },
   {
    "duration": 14,
    "start_time": "2023-09-24T10:48:46.804Z"
   },
   {
    "duration": 27,
    "start_time": "2023-09-24T10:48:46.819Z"
   },
   {
    "duration": 11,
    "start_time": "2023-09-24T10:48:46.853Z"
   },
   {
    "duration": 8,
    "start_time": "2023-09-24T10:48:46.866Z"
   },
   {
    "duration": 11,
    "start_time": "2023-09-24T10:48:46.875Z"
   },
   {
    "duration": 719,
    "start_time": "2023-09-24T10:48:46.888Z"
   },
   {
    "duration": 43,
    "start_time": "2023-09-24T10:48:47.609Z"
   },
   {
    "duration": 141,
    "start_time": "2023-09-24T10:48:47.654Z"
   },
   {
    "duration": 389,
    "start_time": "2023-09-24T10:48:47.796Z"
   },
   {
    "duration": 3,
    "start_time": "2023-09-24T10:48:48.187Z"
   },
   {
    "duration": 22,
    "start_time": "2023-09-24T10:48:48.192Z"
   },
   {
    "duration": 23,
    "start_time": "2023-09-24T10:48:48.215Z"
   },
   {
    "duration": 27,
    "start_time": "2023-09-24T10:48:48.239Z"
   },
   {
    "duration": 17,
    "start_time": "2023-09-24T10:48:48.267Z"
   },
   {
    "duration": 14,
    "start_time": "2023-09-24T10:48:48.286Z"
   },
   {
    "duration": 174,
    "start_time": "2023-09-24T10:48:48.302Z"
   },
   {
    "duration": 232,
    "start_time": "2023-09-24T10:48:48.478Z"
   },
   {
    "duration": 23,
    "start_time": "2023-09-24T10:48:48.712Z"
   },
   {
    "duration": 259,
    "start_time": "2023-09-24T10:48:48.744Z"
   },
   {
    "duration": 942,
    "start_time": "2023-09-24T10:48:49.005Z"
   },
   {
    "duration": 1937,
    "start_time": "2023-09-24T10:48:49.949Z"
   },
   {
    "duration": 5,
    "start_time": "2023-09-24T10:48:51.888Z"
   },
   {
    "duration": 83,
    "start_time": "2023-09-24T10:48:51.894Z"
   },
   {
    "duration": 281,
    "start_time": "2023-09-24T10:48:51.978Z"
   },
   {
    "duration": 27,
    "start_time": "2023-09-24T10:48:52.262Z"
   },
   {
    "duration": 48,
    "start_time": "2023-09-24T10:48:52.291Z"
   },
   {
    "duration": 37,
    "start_time": "2023-09-24T10:48:52.344Z"
   },
   {
    "duration": 24,
    "start_time": "2023-09-24T10:48:52.383Z"
   },
   {
    "duration": 34,
    "start_time": "2023-09-24T10:48:52.408Z"
   },
   {
    "duration": 9,
    "start_time": "2023-09-24T10:48:52.444Z"
   },
   {
    "duration": 17,
    "start_time": "2023-09-24T10:48:52.455Z"
   },
   {
    "duration": 28,
    "start_time": "2023-09-24T11:16:16.639Z"
   },
   {
    "duration": 31,
    "start_time": "2023-09-24T11:16:45.633Z"
   },
   {
    "duration": 2398,
    "start_time": "2023-09-24T11:35:49.966Z"
   },
   {
    "duration": 1580,
    "start_time": "2023-09-24T11:35:52.367Z"
   },
   {
    "duration": 30,
    "start_time": "2023-09-24T11:35:53.950Z"
   },
   {
    "duration": 16,
    "start_time": "2023-09-24T11:35:53.982Z"
   },
   {
    "duration": 17,
    "start_time": "2023-09-24T11:35:54.001Z"
   },
   {
    "duration": 32,
    "start_time": "2023-09-24T11:35:54.021Z"
   },
   {
    "duration": 21,
    "start_time": "2023-09-24T11:35:54.055Z"
   },
   {
    "duration": 25,
    "start_time": "2023-09-24T11:35:54.078Z"
   },
   {
    "duration": 976,
    "start_time": "2023-09-24T11:35:54.105Z"
   },
   {
    "duration": 27,
    "start_time": "2023-09-24T11:35:55.083Z"
   },
   {
    "duration": 163,
    "start_time": "2023-09-24T11:35:55.112Z"
   },
   {
    "duration": 478,
    "start_time": "2023-09-24T11:35:55.277Z"
   },
   {
    "duration": 5,
    "start_time": "2023-09-24T11:35:55.757Z"
   },
   {
    "duration": 15,
    "start_time": "2023-09-24T11:35:55.767Z"
   },
   {
    "duration": 11,
    "start_time": "2023-09-24T11:35:55.785Z"
   },
   {
    "duration": 36,
    "start_time": "2023-09-24T11:35:55.798Z"
   },
   {
    "duration": 13,
    "start_time": "2023-09-24T11:35:55.836Z"
   },
   {
    "duration": 6,
    "start_time": "2023-09-24T11:35:55.852Z"
   },
   {
    "duration": 287,
    "start_time": "2023-09-24T11:35:55.861Z"
   },
   {
    "duration": 223,
    "start_time": "2023-09-24T11:35:56.150Z"
   },
   {
    "duration": 5,
    "start_time": "2023-09-24T11:35:56.375Z"
   },
   {
    "duration": 314,
    "start_time": "2023-09-24T11:35:56.382Z"
   },
   {
    "duration": 1004,
    "start_time": "2023-09-24T11:35:56.698Z"
   },
   {
    "duration": 2062,
    "start_time": "2023-09-24T11:35:57.705Z"
   },
   {
    "duration": 7,
    "start_time": "2023-09-24T11:35:59.769Z"
   },
   {
    "duration": 69,
    "start_time": "2023-09-24T11:35:59.778Z"
   },
   {
    "duration": 289,
    "start_time": "2023-09-24T11:35:59.849Z"
   },
   {
    "duration": 28,
    "start_time": "2023-09-24T11:36:00.143Z"
   },
   {
    "duration": 20,
    "start_time": "2023-09-24T11:36:00.174Z"
   },
   {
    "duration": 67,
    "start_time": "2023-09-24T11:36:00.196Z"
   },
   {
    "duration": 84,
    "start_time": "2023-09-24T11:36:00.264Z"
   },
   {
    "duration": 48,
    "start_time": "2023-09-24T11:36:00.349Z"
   },
   {
    "duration": 36,
    "start_time": "2023-09-24T11:36:00.399Z"
   },
   {
    "duration": 24,
    "start_time": "2023-09-24T11:36:00.438Z"
   },
   {
    "duration": 1939,
    "start_time": "2023-09-25T07:05:38.268Z"
   },
   {
    "duration": 3514,
    "start_time": "2023-09-25T07:05:57.419Z"
   },
   {
    "duration": 1536,
    "start_time": "2023-09-25T07:06:00.936Z"
   },
   {
    "duration": 135,
    "start_time": "2023-09-25T07:06:02.474Z"
   },
   {
    "duration": 29,
    "start_time": "2023-09-25T07:06:02.611Z"
   },
   {
    "duration": 35,
    "start_time": "2023-09-25T07:06:02.645Z"
   },
   {
    "duration": 377,
    "start_time": "2023-09-25T07:06:02.682Z"
   },
   {
    "duration": 133,
    "start_time": "2023-09-25T07:06:03.060Z"
   },
   {
    "duration": 51,
    "start_time": "2023-09-25T07:06:03.195Z"
   },
   {
    "duration": 848,
    "start_time": "2023-09-25T07:06:03.247Z"
   },
   {
    "duration": 39,
    "start_time": "2023-09-25T07:06:04.097Z"
   },
   {
    "duration": 149,
    "start_time": "2023-09-25T07:06:04.142Z"
   },
   {
    "duration": 405,
    "start_time": "2023-09-25T07:06:04.293Z"
   },
   {
    "duration": 4,
    "start_time": "2023-09-25T07:06:04.700Z"
   },
   {
    "duration": 24,
    "start_time": "2023-09-25T07:06:04.707Z"
   },
   {
    "duration": 64,
    "start_time": "2023-09-25T07:06:04.733Z"
   },
   {
    "duration": 45,
    "start_time": "2023-09-25T07:06:04.799Z"
   },
   {
    "duration": 8,
    "start_time": "2023-09-25T07:06:04.851Z"
   },
   {
    "duration": 25,
    "start_time": "2023-09-25T07:06:04.861Z"
   },
   {
    "duration": 178,
    "start_time": "2023-09-25T07:06:04.888Z"
   },
   {
    "duration": 227,
    "start_time": "2023-09-25T07:06:05.068Z"
   },
   {
    "duration": 5,
    "start_time": "2023-09-25T07:06:05.296Z"
   },
   {
    "duration": 278,
    "start_time": "2023-09-25T07:06:05.303Z"
   },
   {
    "duration": 1007,
    "start_time": "2023-09-25T07:06:05.583Z"
   },
   {
    "duration": 1958,
    "start_time": "2023-09-25T07:06:06.591Z"
   },
   {
    "duration": 7,
    "start_time": "2023-09-25T07:06:08.552Z"
   },
   {
    "duration": 41,
    "start_time": "2023-09-25T07:06:08.561Z"
   },
   {
    "duration": 308,
    "start_time": "2023-09-25T07:06:08.603Z"
   },
   {
    "duration": 41,
    "start_time": "2023-09-25T07:06:08.913Z"
   },
   {
    "duration": 52,
    "start_time": "2023-09-25T07:06:08.956Z"
   },
   {
    "duration": 33,
    "start_time": "2023-09-25T07:06:09.010Z"
   },
   {
    "duration": 24,
    "start_time": "2023-09-25T07:06:09.045Z"
   },
   {
    "duration": 12,
    "start_time": "2023-09-25T07:06:09.071Z"
   },
   {
    "duration": 5,
    "start_time": "2023-09-25T07:06:09.085Z"
   },
   {
    "duration": 37,
    "start_time": "2023-09-25T07:06:09.091Z"
   },
   {
    "duration": 1359,
    "start_time": "2023-09-25T07:11:07.745Z"
   },
   {
    "duration": 1496,
    "start_time": "2023-09-25T07:11:59.964Z"
   },
   {
    "duration": 1517,
    "start_time": "2023-09-25T07:12:02.251Z"
   },
   {
    "duration": 1289,
    "start_time": "2023-09-25T07:12:25.206Z"
   },
   {
    "duration": 1291,
    "start_time": "2023-09-25T07:12:48.494Z"
   }
  ],
  "kernelspec": {
   "display_name": "Python 3 (ipykernel)",
   "language": "python",
   "name": "python3"
  },
  "language_info": {
   "codemirror_mode": {
    "name": "ipython",
    "version": 3
   },
   "file_extension": ".py",
   "mimetype": "text/x-python",
   "name": "python",
   "nbconvert_exporter": "python",
   "pygments_lexer": "ipython3",
   "version": "3.9.11"
  },
  "toc": {
   "base_numbering": 1,
   "nav_menu": {
    "height": "206.989px",
    "width": "369px"
   },
   "number_sections": true,
   "sideBar": true,
   "skip_h1_title": true,
   "title_cell": "Table of Contents",
   "title_sidebar": "Contents",
   "toc_cell": false,
   "toc_position": {
    "height": "calc(100% - 180px)",
    "left": "10px",
    "top": "150px",
    "width": "222.975px"
   },
   "toc_section_display": true,
   "toc_window_display": false
  }
 },
 "nbformat": 4,
 "nbformat_minor": 2
}
