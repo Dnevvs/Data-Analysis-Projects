{
 "cells": [
  {
   "cell_type": "markdown",
   "metadata": {
    "deletable": false,
    "editable": false,
    "id": "E0vqbgi9ay0H"
   },
   "source": [
    "# Яндекс Музыка"
   ]
  },
  {
   "cell_type": "markdown",
   "metadata": {
    "deletable": false,
    "editable": false,
    "id": "VUC88oWjTJw2"
   },
   "source": [
    "Сравнение Москвы и Петербурга окружено мифами. Например:\n",
    " * Москва — мегаполис, подчинённый жёсткому ритму рабочей недели;\n",
    " * Петербург — культурная столица, со своими вкусами.\n",
    "\n",
    "На данных Яндекс Музыки вы сравните поведение пользователей двух столиц.\n",
    "\n",
    "**Цель исследования** — проверьте три гипотезы:\n",
    "1. Активность пользователей зависит от дня недели. Причём в Москве и Петербурге это проявляется по-разному.\n",
    "2. В понедельник утром в Москве преобладают одни жанры, а в Петербурге — другие. Так же и вечером пятницы преобладают разные жанры — в зависимости от города.\n",
    "3. Москва и Петербург предпочитают разные жанры музыки. В Москве чаще слушают поп-музыку, в Петербурге — русский рэп.\n",
    "\n",
    "**Ход исследования**\n",
    "\n",
    "Данные о поведении пользователей вы получите из файла `yandex_music_project.csv`. О качестве данных ничего не известно. Поэтому перед проверкой гипотез понадобится обзор данных.\n",
    "\n",
    "Вы проверите данные на ошибки и оцените их влияние на исследование. Затем, на этапе предобработки вы поищете возможность исправить самые критичные ошибки данных.\n",
    "\n",
    "Таким образом, исследование пройдёт в три этапа:\n",
    " 1. Обзор данных.\n",
    " 2. Предобработка данных.\n",
    " 3. Проверка гипотез.\n",
    "\n"
   ]
  },
  {
   "cell_type": "markdown",
   "metadata": {
    "deletable": false,
    "editable": false,
    "id": "Ml1hmfXC_Zcs"
   },
   "source": [
    "## Обзор данных\n",
    "\n",
    "Составьте первое представление о данных Яндекс Музыки.\n",
    "\n",
    "\n"
   ]
  },
  {
   "cell_type": "markdown",
   "metadata": {
    "deletable": false,
    "editable": false,
    "id": "57eAOGIz_Zcs",
    "tags": [
     "start_task"
    ]
   },
   "source": [
    "**Задание 1**\n",
    "\n",
    "Основной инструмент аналитика — `pandas`. Импортируйте эту библиотеку."
   ]
  },
  {
   "cell_type": "code",
   "execution_count": 409,
   "metadata": {
    "deletable": false,
    "id": "AXN7PHPN_Zcs"
   },
   "outputs": [],
   "source": [
    "import pandas as pd"
   ]
  },
  {
   "cell_type": "markdown",
   "metadata": {
    "deletable": false,
    "editable": false,
    "id": "SG23P8tt_Zcs",
    "tags": [
     "start_task"
    ]
   },
   "source": [
    "**Задание 2**\n",
    "\n",
    "Прочитайте файл `yandex_music_project.csv` из папки `/datasets` и сохраните его в переменной `df`:"
   ]
  },
  {
   "cell_type": "code",
   "execution_count": 410,
   "metadata": {
    "deletable": false,
    "id": "fFVu7vqh_Zct"
   },
   "outputs": [],
   "source": [
    "df = pd.read_csv('/datasets/yandex_music_project.csv')"
   ]
  },
  {
   "cell_type": "markdown",
   "metadata": {
    "deletable": false,
    "editable": false,
    "id": "rDoOMd3uTqnZ",
    "tags": [
     "start_task"
    ]
   },
   "source": [
    "**Задание 3**\n",
    "\n",
    "\n",
    "Выведите на экран первые десять строк таблицы:"
   ]
  },
  {
   "cell_type": "code",
   "execution_count": 411,
   "metadata": {
    "deletable": false,
    "id": "oWTVX3gW_Zct",
    "scrolled": true
   },
   "outputs": [
    {
     "data": {
      "text/html": [
       "<div>\n",
       "<style scoped>\n",
       "    .dataframe tbody tr th:only-of-type {\n",
       "        vertical-align: middle;\n",
       "    }\n",
       "\n",
       "    .dataframe tbody tr th {\n",
       "        vertical-align: top;\n",
       "    }\n",
       "\n",
       "    .dataframe thead th {\n",
       "        text-align: right;\n",
       "    }\n",
       "</style>\n",
       "<table border=\"1\" class=\"dataframe\">\n",
       "  <thead>\n",
       "    <tr style=\"text-align: right;\">\n",
       "      <th></th>\n",
       "      <th>userID</th>\n",
       "      <th>Track</th>\n",
       "      <th>artist</th>\n",
       "      <th>genre</th>\n",
       "      <th>City</th>\n",
       "      <th>time</th>\n",
       "      <th>Day</th>\n",
       "    </tr>\n",
       "  </thead>\n",
       "  <tbody>\n",
       "    <tr>\n",
       "      <th>0</th>\n",
       "      <td>FFB692EC</td>\n",
       "      <td>Kamigata To Boots</td>\n",
       "      <td>The Mass Missile</td>\n",
       "      <td>rock</td>\n",
       "      <td>Saint-Petersburg</td>\n",
       "      <td>20:28:33</td>\n",
       "      <td>Wednesday</td>\n",
       "    </tr>\n",
       "    <tr>\n",
       "      <th>1</th>\n",
       "      <td>55204538</td>\n",
       "      <td>Delayed Because of Accident</td>\n",
       "      <td>Andreas Rönnberg</td>\n",
       "      <td>rock</td>\n",
       "      <td>Moscow</td>\n",
       "      <td>14:07:09</td>\n",
       "      <td>Friday</td>\n",
       "    </tr>\n",
       "    <tr>\n",
       "      <th>2</th>\n",
       "      <td>20EC38</td>\n",
       "      <td>Funiculì funiculà</td>\n",
       "      <td>Mario Lanza</td>\n",
       "      <td>pop</td>\n",
       "      <td>Saint-Petersburg</td>\n",
       "      <td>20:58:07</td>\n",
       "      <td>Wednesday</td>\n",
       "    </tr>\n",
       "    <tr>\n",
       "      <th>3</th>\n",
       "      <td>A3DD03C9</td>\n",
       "      <td>Dragons in the Sunset</td>\n",
       "      <td>Fire + Ice</td>\n",
       "      <td>folk</td>\n",
       "      <td>Saint-Petersburg</td>\n",
       "      <td>08:37:09</td>\n",
       "      <td>Monday</td>\n",
       "    </tr>\n",
       "    <tr>\n",
       "      <th>4</th>\n",
       "      <td>E2DC1FAE</td>\n",
       "      <td>Soul People</td>\n",
       "      <td>Space Echo</td>\n",
       "      <td>dance</td>\n",
       "      <td>Moscow</td>\n",
       "      <td>08:34:34</td>\n",
       "      <td>Monday</td>\n",
       "    </tr>\n",
       "    <tr>\n",
       "      <th>5</th>\n",
       "      <td>842029A1</td>\n",
       "      <td>Преданная</td>\n",
       "      <td>IMPERVTOR</td>\n",
       "      <td>rusrap</td>\n",
       "      <td>Saint-Petersburg</td>\n",
       "      <td>13:09:41</td>\n",
       "      <td>Friday</td>\n",
       "    </tr>\n",
       "    <tr>\n",
       "      <th>6</th>\n",
       "      <td>4CB90AA5</td>\n",
       "      <td>True</td>\n",
       "      <td>Roman Messer</td>\n",
       "      <td>dance</td>\n",
       "      <td>Moscow</td>\n",
       "      <td>13:00:07</td>\n",
       "      <td>Wednesday</td>\n",
       "    </tr>\n",
       "    <tr>\n",
       "      <th>7</th>\n",
       "      <td>F03E1C1F</td>\n",
       "      <td>Feeling This Way</td>\n",
       "      <td>Polina Griffith</td>\n",
       "      <td>dance</td>\n",
       "      <td>Moscow</td>\n",
       "      <td>20:47:49</td>\n",
       "      <td>Wednesday</td>\n",
       "    </tr>\n",
       "    <tr>\n",
       "      <th>8</th>\n",
       "      <td>8FA1D3BE</td>\n",
       "      <td>И вновь продолжается бой</td>\n",
       "      <td>NaN</td>\n",
       "      <td>ruspop</td>\n",
       "      <td>Moscow</td>\n",
       "      <td>09:17:40</td>\n",
       "      <td>Friday</td>\n",
       "    </tr>\n",
       "    <tr>\n",
       "      <th>9</th>\n",
       "      <td>E772D5C0</td>\n",
       "      <td>Pessimist</td>\n",
       "      <td>NaN</td>\n",
       "      <td>dance</td>\n",
       "      <td>Saint-Petersburg</td>\n",
       "      <td>21:20:49</td>\n",
       "      <td>Wednesday</td>\n",
       "    </tr>\n",
       "  </tbody>\n",
       "</table>\n",
       "</div>"
      ],
      "text/plain": [
       "     userID                        Track            artist   genre  \\\n",
       "0  FFB692EC            Kamigata To Boots  The Mass Missile    rock   \n",
       "1  55204538  Delayed Because of Accident  Andreas Rönnberg    rock   \n",
       "2    20EC38            Funiculì funiculà       Mario Lanza     pop   \n",
       "3  A3DD03C9        Dragons in the Sunset        Fire + Ice    folk   \n",
       "4  E2DC1FAE                  Soul People        Space Echo   dance   \n",
       "5  842029A1                    Преданная         IMPERVTOR  rusrap   \n",
       "6  4CB90AA5                         True      Roman Messer   dance   \n",
       "7  F03E1C1F             Feeling This Way   Polina Griffith   dance   \n",
       "8  8FA1D3BE     И вновь продолжается бой               NaN  ruspop   \n",
       "9  E772D5C0                    Pessimist               NaN   dance   \n",
       "\n",
       "             City        time        Day  \n",
       "0  Saint-Petersburg  20:28:33  Wednesday  \n",
       "1            Moscow  14:07:09     Friday  \n",
       "2  Saint-Petersburg  20:58:07  Wednesday  \n",
       "3  Saint-Petersburg  08:37:09     Monday  \n",
       "4            Moscow  08:34:34     Monday  \n",
       "5  Saint-Petersburg  13:09:41     Friday  \n",
       "6            Moscow  13:00:07  Wednesday  \n",
       "7            Moscow  20:47:49  Wednesday  \n",
       "8            Moscow  09:17:40     Friday  \n",
       "9  Saint-Petersburg  21:20:49  Wednesday  "
      ]
     },
     "execution_count": 411,
     "metadata": {},
     "output_type": "execute_result"
    }
   ],
   "source": [
    "df.head(10)"
   ]
  },
  {
   "cell_type": "markdown",
   "metadata": {
    "deletable": false,
    "editable": false,
    "id": "EO73Kwic_Zct",
    "tags": [
     "start_task"
    ]
   },
   "source": [
    "**Задание 4**\n",
    "\n",
    "\n",
    "Одной командой получить общую информацию о таблице c помощью метода `info()`:"
   ]
  },
  {
   "cell_type": "code",
   "execution_count": 412,
   "metadata": {
    "deletable": false,
    "id": "DSf2kIb-_Zct"
   },
   "outputs": [
    {
     "name": "stdout",
     "output_type": "stream",
     "text": [
      "<class 'pandas.core.frame.DataFrame'>\n",
      "RangeIndex: 65079 entries, 0 to 65078\n",
      "Data columns (total 7 columns):\n",
      " #   Column    Non-Null Count  Dtype \n",
      "---  ------    --------------  ----- \n",
      " 0     userID  65079 non-null  object\n",
      " 1   Track     63848 non-null  object\n",
      " 2   artist    57876 non-null  object\n",
      " 3   genre     63881 non-null  object\n",
      " 4     City    65079 non-null  object\n",
      " 5   time      65079 non-null  object\n",
      " 6   Day       65079 non-null  object\n",
      "dtypes: object(7)\n",
      "memory usage: 3.5+ MB\n"
     ]
    }
   ],
   "source": [
    "df.info()"
   ]
  },
  {
   "cell_type": "markdown",
   "metadata": {
    "deletable": false,
    "editable": false,
    "id": "TaQ2Iwbr_Zct"
   },
   "source": [
    "Итак, в таблице семь столбцов. Тип данных во всех столбцах — `object`.\n",
    "\n",
    "Согласно документации к данным:\n",
    "* `userID` — идентификатор пользователя;\n",
    "* `Track` — название трека;  \n",
    "* `artist` — имя исполнителя;\n",
    "* `genre` — название жанра;\n",
    "* `City` — город пользователя;\n",
    "* `time` — время начала прослушивания;\n",
    "* `Day` — день недели.\n",
    "\n",
    "Количество значений в столбцах различается. Значит, в данных есть пропущенные значения."
   ]
  },
  {
   "cell_type": "markdown",
   "metadata": {
    "deletable": false,
    "editable": false,
    "id": "4P0UCWzswgEm",
    "tags": [
     "start_task"
    ]
   },
   "source": [
    "**Задание 5**\n",
    "\n",
    "**Вопрос со свободной формой ответа**\n",
    "\n",
    "В названиях колонок видны три нарушения стиля:\n",
    "1. Строчные буквы сочетаются с прописными.\n",
    "2. Встречаются пробелы."
   ]
  },
  {
   "cell_type": "code",
   "execution_count": 413,
   "metadata": {
    "id": "c137-ZstwgEm"
   },
   "outputs": [],
   "source": [
    "# 3. Целесообразно использовать регистр “snake_case” в названии колонки \"userID\"."
   ]
  },
  {
   "cell_type": "markdown",
   "metadata": {
    "deletable": false,
    "editable": false,
    "id": "MCB6-dXG_Zct"
   },
   "source": [
    "**Выводы**\n",
    "\n",
    "В каждой строке таблицы — данные о прослушанном треке. Часть колонок описывает саму композицию: название, исполнителя и жанр. Остальные данные рассказывают о пользователе: из какого он города, когда он слушал музыку.\n",
    "\n",
    "Предварительно можно утверждать, что данных достаточно для проверки гипотез. Но встречаются пропуски в данных, а в названиях колонок — расхождения с хорошим стилем.\n",
    "\n",
    "Чтобы двигаться дальше, нужно устранить проблемы в данных."
   ]
  },
  {
   "cell_type": "markdown",
   "metadata": {
    "deletable": false,
    "editable": false,
    "id": "SjYF6Ub9_Zct"
   },
   "source": [
    "## Предобработка данных\n",
    "Исправьте стиль в заголовках столбцов, исключите пропуски. Затем проверьте данные на дубликаты."
   ]
  },
  {
   "cell_type": "markdown",
   "metadata": {
    "deletable": false,
    "editable": false,
    "id": "dIaKXr29_Zct",
    "tags": [
     "start_task"
    ]
   },
   "source": [
    "### Стиль заголовков\n",
    "\n",
    "**Задание 6**\n",
    "\n",
    "Выведите на экран названия столбцов:"
   ]
  },
  {
   "cell_type": "code",
   "execution_count": 414,
   "metadata": {
    "deletable": false,
    "id": "oKOTdF_Q_Zct"
   },
   "outputs": [
    {
     "data": {
      "text/plain": [
       "Index(['  userID', 'Track', 'artist', 'genre', '  City  ', 'time', 'Day'], dtype='object')"
      ]
     },
     "execution_count": 414,
     "metadata": {},
     "output_type": "execute_result"
    }
   ],
   "source": [
    "df.columns"
   ]
  },
  {
   "cell_type": "markdown",
   "metadata": {
    "deletable": false,
    "editable": false,
    "id": "zj5534cv_Zct",
    "tags": [
     "start_task"
    ]
   },
   "source": [
    "**Задание 7**\n",
    "\n",
    "\n",
    "Приведите названия в соответствие с хорошим стилем:\n",
    "* несколько слов в названии запишите в «змеином_регистре»,\n",
    "* все символы сделайте строчными,\n",
    "* устраните пробелы.\n",
    "\n",
    "Для этого переименуйте колонки так:\n",
    "* `'  userID'` → `'user_id'`;\n",
    "* `'Track'` → `'track'`;\n",
    "* `'  City  '` → `'city'`;\n",
    "* `'Day'` → `'day'`."
   ]
  },
  {
   "cell_type": "code",
   "execution_count": 415,
   "metadata": {
    "deletable": false,
    "id": "ISlFqs5y_Zct"
   },
   "outputs": [],
   "source": [
    "df = df.rename(columns={'  userID': 'user_id', 'Track': 'track', '  City  ': 'city', 'Day':'day'})"
   ]
  },
  {
   "cell_type": "markdown",
   "metadata": {
    "deletable": false,
    "editable": false,
    "id": "1dqbh00J_Zct",
    "tags": [
     "start_task"
    ]
   },
   "source": [
    "**Задание 8**\n",
    "\n",
    "\n",
    "Проверьте результат. Для этого ещё раз выведите на экран названия столбцов:"
   ]
  },
  {
   "cell_type": "code",
   "execution_count": 416,
   "metadata": {
    "deletable": false,
    "id": "d4NOAmTW_Zct",
    "scrolled": true
   },
   "outputs": [
    {
     "data": {
      "text/plain": [
       "Index(['user_id', 'track', 'artist', 'genre', 'city', 'time', 'day'], dtype='object')"
      ]
     },
     "execution_count": 416,
     "metadata": {},
     "output_type": "execute_result"
    }
   ],
   "source": [
    "df.columns"
   ]
  },
  {
   "cell_type": "markdown",
   "metadata": {
    "deletable": false,
    "editable": false,
    "id": "5ISfbcfY_Zct",
    "tags": [
     "start_task"
    ]
   },
   "source": [
    "### Пропуски значений\n",
    "\n",
    "**Задание 9**\n",
    "\n",
    "Сначала посчитайте, сколько в таблице пропущенных значений. Для этого достаточно двух методов `pandas`:"
   ]
  },
  {
   "cell_type": "code",
   "execution_count": 417,
   "metadata": {
    "deletable": false,
    "id": "RskX29qr_Zct"
   },
   "outputs": [
    {
     "data": {
      "text/plain": [
       "user_id       0\n",
       "track      1231\n",
       "artist     7203\n",
       "genre      1198\n",
       "city          0\n",
       "time          0\n",
       "day           0\n",
       "dtype: int64"
      ]
     },
     "execution_count": 417,
     "metadata": {},
     "output_type": "execute_result"
    }
   ],
   "source": [
    "df.isna().sum()"
   ]
  },
  {
   "cell_type": "markdown",
   "metadata": {
    "deletable": false,
    "editable": false,
    "id": "qubhgnlO_Zct"
   },
   "source": [
    "Не все пропущенные значения влияют на исследование. Так, в `track` и `artist` пропуски не важны для вашей работы. Достаточно заменить их явными обозначениями.\n",
    "\n",
    "Но пропуски в `genre` могут помешать сравнить музыкальные вкусы в Москве и Санкт-Петербурге. На практике было бы правильно установить причину пропусков и восстановить данные. Такой возможности нет в учебном проекте. Поэтому придётся:\n",
    "* заполнить и эти пропуски явными обозначениями;\n",
    "* оценить, насколько они повредят расчётам."
   ]
  },
  {
   "cell_type": "markdown",
   "metadata": {
    "deletable": false,
    "editable": false,
    "id": "fSv2laPA_Zct",
    "tags": [
     "start_task"
    ]
   },
   "source": [
    "**Задание 10**\n",
    "\n",
    "Замените пропущенные значения в столбцах `track`, `artist` и `genre` на строку `'unknown'`. Для этого создайте список `columns_to_replace`, переберите его элементы циклом `for` и для каждого столбца выполните замену пропущенных значений:"
   ]
  },
  {
   "cell_type": "code",
   "execution_count": 418,
   "metadata": {
    "deletable": false,
    "id": "KplB5qWs_Zct"
   },
   "outputs": [],
   "source": [
    "columns_to_replace = ['track', 'artist', 'genre']\n",
    "for column in columns_to_replace:\n",
    "    df[column] = df[column].fillna('unknown')"
   ]
  },
  {
   "cell_type": "markdown",
   "metadata": {
    "deletable": false,
    "editable": false,
    "id": "Ilsm-MZo_Zct",
    "tags": [
     "start_task"
    ]
   },
   "source": [
    "**Задание 11**\n",
    "\n",
    "Убедитесь, что в таблице не осталось пропусков. Для этого ещё раз посчитайте пропущенные значения."
   ]
  },
  {
   "cell_type": "code",
   "execution_count": 419,
   "metadata": {
    "deletable": false,
    "id": "Tq4nYRX4_Zct",
    "scrolled": true
   },
   "outputs": [
    {
     "data": {
      "text/plain": [
       "user_id    0\n",
       "track      0\n",
       "artist     0\n",
       "genre      0\n",
       "city       0\n",
       "time       0\n",
       "day        0\n",
       "dtype: int64"
      ]
     },
     "execution_count": 419,
     "metadata": {},
     "output_type": "execute_result"
    }
   ],
   "source": [
    "df.isna().sum()"
   ]
  },
  {
   "cell_type": "markdown",
   "metadata": {
    "deletable": false,
    "editable": false,
    "id": "BWKRtBJ3_Zct",
    "tags": [
     "start_task"
    ]
   },
   "source": [
    "### Дубликаты\n",
    "\n",
    "**Задание 12**\n",
    "\n",
    "Посчитайте явные дубликаты в таблице одной командой:"
   ]
  },
  {
   "cell_type": "code",
   "execution_count": 420,
   "metadata": {
    "deletable": false,
    "id": "36eES_S0_Zct",
    "scrolled": true
   },
   "outputs": [
    {
     "data": {
      "text/plain": [
       "3826"
      ]
     },
     "execution_count": 420,
     "metadata": {},
     "output_type": "execute_result"
    }
   ],
   "source": [
    "df.duplicated().sum()"
   ]
  },
  {
   "cell_type": "markdown",
   "metadata": {
    "deletable": false,
    "editable": false,
    "id": "Ot25h6XR_Zct",
    "tags": [
     "start_task"
    ]
   },
   "source": [
    "**Задание 13**\n",
    "\n",
    "Вызовите специальный метод `pandas`, чтобы удалить явные дубликаты:"
   ]
  },
  {
   "cell_type": "code",
   "execution_count": 421,
   "metadata": {
    "deletable": false,
    "id": "exFHq6tt_Zct"
   },
   "outputs": [],
   "source": [
    "df = df.drop_duplicates()"
   ]
  },
  {
   "cell_type": "markdown",
   "metadata": {
    "deletable": false,
    "editable": false,
    "id": "Im2YwBEG_Zct",
    "tags": [
     "start_task"
    ]
   },
   "source": [
    "**Задание 14**\n",
    "\n",
    "Ещё раз посчитайте явные дубликаты в таблице — убедитесь, что полностью от них избавились:"
   ]
  },
  {
   "cell_type": "code",
   "execution_count": 422,
   "metadata": {
    "deletable": false,
    "id": "-8PuNWQ0_Zct"
   },
   "outputs": [
    {
     "data": {
      "text/plain": [
       "0"
      ]
     },
     "execution_count": 422,
     "metadata": {},
     "output_type": "execute_result"
    }
   ],
   "source": [
    "df.duplicated().sum()"
   ]
  },
  {
   "cell_type": "markdown",
   "metadata": {
    "deletable": false,
    "editable": false,
    "id": "QlFBsxAr_Zct"
   },
   "source": [
    "Теперь избавьтесь от неявных дубликатов в колонке `genre`. Например, название одного и того же жанра может быть записано немного по-разному. Такие ошибки тоже повлияют на результат исследования."
   ]
  },
  {
   "cell_type": "markdown",
   "metadata": {
    "deletable": false,
    "editable": false,
    "id": "eSjWwsOh_Zct",
    "tags": [
     "start_task"
    ]
   },
   "source": [
    "**Задание 15**\n",
    "\n",
    "Выведите на экран список уникальных названий жанров, отсортированный в алфавитном порядке. Для этого:\n",
    "* извлеките нужный столбец датафрейма;\n",
    "* примените к нему метод сортировки;\n",
    "* для отсортированного столбца вызовите метод, который вернёт уникальные значения из столбца."
   ]
  },
  {
   "cell_type": "code",
   "execution_count": 423,
   "metadata": {
    "deletable": false,
    "id": "JIUcqzZN_Zct",
    "scrolled": false
   },
   "outputs": [
    {
     "data": {
      "text/plain": [
       "array(['acid', 'acoustic', 'action', 'adult', 'africa', 'afrikaans',\n",
       "       'alternative', 'alternativepunk', 'ambient', 'americana',\n",
       "       'animated', 'anime', 'arabesk', 'arabic', 'arena',\n",
       "       'argentinetango', 'art', 'audiobook', 'author', 'avantgarde',\n",
       "       'axé', 'baile', 'balkan', 'beats', 'bigroom', 'black', 'bluegrass',\n",
       "       'blues', 'bollywood', 'bossa', 'brazilian', 'breakbeat', 'breaks',\n",
       "       'broadway', 'cantautori', 'cantopop', 'canzone', 'caribbean',\n",
       "       'caucasian', 'celtic', 'chamber', 'chanson', 'children', 'chill',\n",
       "       'chinese', 'choral', 'christian', 'christmas', 'classical',\n",
       "       'classicmetal', 'club', 'colombian', 'comedy', 'conjazz',\n",
       "       'contemporary', 'country', 'cuban', 'dance', 'dancehall',\n",
       "       'dancepop', 'dark', 'death', 'deep', 'deutschrock', 'deutschspr',\n",
       "       'dirty', 'disco', 'dnb', 'documentary', 'downbeat', 'downtempo',\n",
       "       'drum', 'dub', 'dubstep', 'eastern', 'easy', 'electronic',\n",
       "       'electropop', 'emo', 'entehno', 'epicmetal', 'estrada', 'ethnic',\n",
       "       'eurofolk', 'european', 'experimental', 'extrememetal', 'fado',\n",
       "       'fairytail', 'film', 'fitness', 'flamenco', 'folk', 'folklore',\n",
       "       'folkmetal', 'folkrock', 'folktronica', 'forró', 'frankreich',\n",
       "       'französisch', 'french', 'funk', 'future', 'gangsta', 'garage',\n",
       "       'german', 'ghazal', 'gitarre', 'glitch', 'gospel', 'gothic',\n",
       "       'grime', 'grunge', 'gypsy', 'handsup', \"hard'n'heavy\", 'hardcore',\n",
       "       'hardstyle', 'hardtechno', 'hip', 'hip-hop', 'hiphop',\n",
       "       'historisch', 'holiday', 'hop', 'horror', 'house', 'hymn', 'idm',\n",
       "       'independent', 'indian', 'indie', 'indipop', 'industrial',\n",
       "       'inspirational', 'instrumental', 'international', 'irish', 'jam',\n",
       "       'japanese', 'jazz', 'jewish', 'jpop', 'jungle', 'k-pop',\n",
       "       'karadeniz', 'karaoke', 'kayokyoku', 'korean', 'laiko', 'latin',\n",
       "       'latino', 'leftfield', 'local', 'lounge', 'loungeelectronic',\n",
       "       'lovers', 'malaysian', 'mandopop', 'marschmusik', 'meditative',\n",
       "       'mediterranean', 'melodic', 'metal', 'metalcore', 'mexican',\n",
       "       'middle', 'minimal', 'miscellaneous', 'modern', 'mood', 'mpb',\n",
       "       'muslim', 'native', 'neoklassik', 'neue', 'new', 'newage',\n",
       "       'newwave', 'nu', 'nujazz', 'numetal', 'oceania', 'old', 'opera',\n",
       "       'orchestral', 'other', 'piano', 'podcasts', 'pop', 'popdance',\n",
       "       'popelectronic', 'popeurodance', 'poprussian', 'post',\n",
       "       'posthardcore', 'postrock', 'power', 'progmetal', 'progressive',\n",
       "       'psychedelic', 'punjabi', 'punk', 'quebecois', 'ragga', 'ram',\n",
       "       'rancheras', 'rap', 'rave', 'reggae', 'reggaeton', 'regional',\n",
       "       'relax', 'religious', 'retro', 'rhythm', 'rnb', 'rnr', 'rock',\n",
       "       'rockabilly', 'rockalternative', 'rockindie', 'rockother',\n",
       "       'romance', 'roots', 'ruspop', 'rusrap', 'rusrock', 'russian',\n",
       "       'salsa', 'samba', 'scenic', 'schlager', 'self', 'sertanejo',\n",
       "       'shanson', 'shoegazing', 'showtunes', 'singer', 'ska', 'skarock',\n",
       "       'slow', 'smooth', 'soft', 'soul', 'soulful', 'sound', 'soundtrack',\n",
       "       'southern', 'specialty', 'speech', 'spiritual', 'sport',\n",
       "       'stonerrock', 'surf', 'swing', 'synthpop', 'synthrock',\n",
       "       'sängerportrait', 'tango', 'tanzorchester', 'taraftar', 'tatar',\n",
       "       'tech', 'techno', 'teen', 'thrash', 'top', 'traditional',\n",
       "       'tradjazz', 'trance', 'tribal', 'trip', 'triphop', 'tropical',\n",
       "       'türk', 'türkçe', 'ukrrock', 'unknown', 'urban', 'uzbek',\n",
       "       'variété', 'vi', 'videogame', 'vocal', 'western', 'world',\n",
       "       'worldbeat', 'ïîï', 'электроника'], dtype=object)"
      ]
     },
     "execution_count": 423,
     "metadata": {},
     "output_type": "execute_result"
    }
   ],
   "source": [
    "df.sort_values(by='genre')['genre'].unique()"
   ]
  },
  {
   "cell_type": "markdown",
   "metadata": {
    "deletable": false,
    "editable": false,
    "id": "qej-Qmuo_Zct",
    "tags": [
     "start_task"
    ]
   },
   "source": [
    "**Задание 16**\n",
    "\n",
    "Просмотрите список и найдите неявные дубликаты названия `hiphop`. Это могут быть названия с ошибками или альтернативные названия того же жанра.\n",
    "\n",
    "Вы увидите следующие неявные дубликаты:\n",
    "* *hip*,\n",
    "* *hop*,\n",
    "* *hip-hop*.\n",
    "\n",
    "Чтобы очистить от них таблицу, используйте метод `replace()` с двумя аргументами: списком строк-дубликатов (включающий *hip*, *hop* и *hip-hop*) и строкой с правильным значением. Вам нужно исправить колонку `genre` в таблице `df`: заменить каждое значение из списка дубликатов на верное. Вместо `hip`, `hop` и `hip-hop` в таблице должно быть значение `hiphop`:"
   ]
  },
  {
   "cell_type": "code",
   "execution_count": 424,
   "metadata": {
    "deletable": false,
    "id": "ErNDkmns_Zct"
   },
   "outputs": [],
   "source": [
    "df['genre'] = df['genre'].replace(['hip', 'hop', 'hip-hop'], 'hiphop')"
   ]
  },
  {
   "cell_type": "markdown",
   "metadata": {
    "deletable": false,
    "editable": false,
    "id": "zQKF16_RG15m",
    "tags": [
     "start_task"
    ]
   },
   "source": [
    "**Задание 17**\n",
    "\n",
    "Проверьте, что заменили неправильные названия:\n",
    "\n",
    "*   *hip*,\n",
    "*   *hop*,\n",
    "*   *hip-hop*.\n",
    "\n",
    "Выведите отсортированный список уникальных значений столбца `genre`:"
   ]
  },
  {
   "cell_type": "code",
   "execution_count": 425,
   "metadata": {
    "deletable": false,
    "id": "wvixALnFG15m",
    "scrolled": true
   },
   "outputs": [
    {
     "data": {
      "text/plain": [
       "array(['acid', 'acoustic', 'action', 'adult', 'africa', 'afrikaans',\n",
       "       'alternative', 'alternativepunk', 'ambient', 'americana',\n",
       "       'animated', 'anime', 'arabesk', 'arabic', 'arena',\n",
       "       'argentinetango', 'art', 'audiobook', 'author', 'avantgarde',\n",
       "       'axé', 'baile', 'balkan', 'beats', 'bigroom', 'black', 'bluegrass',\n",
       "       'blues', 'bollywood', 'bossa', 'brazilian', 'breakbeat', 'breaks',\n",
       "       'broadway', 'cantautori', 'cantopop', 'canzone', 'caribbean',\n",
       "       'caucasian', 'celtic', 'chamber', 'chanson', 'children', 'chill',\n",
       "       'chinese', 'choral', 'christian', 'christmas', 'classical',\n",
       "       'classicmetal', 'club', 'colombian', 'comedy', 'conjazz',\n",
       "       'contemporary', 'country', 'cuban', 'dance', 'dancehall',\n",
       "       'dancepop', 'dark', 'death', 'deep', 'deutschrock', 'deutschspr',\n",
       "       'dirty', 'disco', 'dnb', 'documentary', 'downbeat', 'downtempo',\n",
       "       'drum', 'dub', 'dubstep', 'eastern', 'easy', 'electronic',\n",
       "       'electropop', 'emo', 'entehno', 'epicmetal', 'estrada', 'ethnic',\n",
       "       'eurofolk', 'european', 'experimental', 'extrememetal', 'fado',\n",
       "       'fairytail', 'film', 'fitness', 'flamenco', 'folk', 'folklore',\n",
       "       'folkmetal', 'folkrock', 'folktronica', 'forró', 'frankreich',\n",
       "       'französisch', 'french', 'funk', 'future', 'gangsta', 'garage',\n",
       "       'german', 'ghazal', 'gitarre', 'glitch', 'gospel', 'gothic',\n",
       "       'grime', 'grunge', 'gypsy', 'handsup', \"hard'n'heavy\", 'hardcore',\n",
       "       'hardstyle', 'hardtechno', 'hiphop', 'historisch', 'holiday',\n",
       "       'horror', 'house', 'hymn', 'idm', 'independent', 'indian', 'indie',\n",
       "       'indipop', 'industrial', 'inspirational', 'instrumental',\n",
       "       'international', 'irish', 'jam', 'japanese', 'jazz', 'jewish',\n",
       "       'jpop', 'jungle', 'k-pop', 'karadeniz', 'karaoke', 'kayokyoku',\n",
       "       'korean', 'laiko', 'latin', 'latino', 'leftfield', 'local',\n",
       "       'lounge', 'loungeelectronic', 'lovers', 'malaysian', 'mandopop',\n",
       "       'marschmusik', 'meditative', 'mediterranean', 'melodic', 'metal',\n",
       "       'metalcore', 'mexican', 'middle', 'minimal', 'miscellaneous',\n",
       "       'modern', 'mood', 'mpb', 'muslim', 'native', 'neoklassik', 'neue',\n",
       "       'new', 'newage', 'newwave', 'nu', 'nujazz', 'numetal', 'oceania',\n",
       "       'old', 'opera', 'orchestral', 'other', 'piano', 'podcasts', 'pop',\n",
       "       'popdance', 'popelectronic', 'popeurodance', 'poprussian', 'post',\n",
       "       'posthardcore', 'postrock', 'power', 'progmetal', 'progressive',\n",
       "       'psychedelic', 'punjabi', 'punk', 'quebecois', 'ragga', 'ram',\n",
       "       'rancheras', 'rap', 'rave', 'reggae', 'reggaeton', 'regional',\n",
       "       'relax', 'religious', 'retro', 'rhythm', 'rnb', 'rnr', 'rock',\n",
       "       'rockabilly', 'rockalternative', 'rockindie', 'rockother',\n",
       "       'romance', 'roots', 'ruspop', 'rusrap', 'rusrock', 'russian',\n",
       "       'salsa', 'samba', 'scenic', 'schlager', 'self', 'sertanejo',\n",
       "       'shanson', 'shoegazing', 'showtunes', 'singer', 'ska', 'skarock',\n",
       "       'slow', 'smooth', 'soft', 'soul', 'soulful', 'sound', 'soundtrack',\n",
       "       'southern', 'specialty', 'speech', 'spiritual', 'sport',\n",
       "       'stonerrock', 'surf', 'swing', 'synthpop', 'synthrock',\n",
       "       'sängerportrait', 'tango', 'tanzorchester', 'taraftar', 'tatar',\n",
       "       'tech', 'techno', 'teen', 'thrash', 'top', 'traditional',\n",
       "       'tradjazz', 'trance', 'tribal', 'trip', 'triphop', 'tropical',\n",
       "       'türk', 'türkçe', 'ukrrock', 'unknown', 'urban', 'uzbek',\n",
       "       'variété', 'vi', 'videogame', 'vocal', 'western', 'world',\n",
       "       'worldbeat', 'ïîï', 'электроника'], dtype=object)"
      ]
     },
     "execution_count": 425,
     "metadata": {},
     "output_type": "execute_result"
    }
   ],
   "source": [
    "df.sort_values(by='genre')['genre'].unique()"
   ]
  },
  {
   "cell_type": "markdown",
   "metadata": {
    "deletable": false,
    "editable": false,
    "id": "jz6a9-7HQUDd"
   },
   "source": [
    "**Выводы**\n",
    "\n",
    "Предобработка обнаружила три проблемы в данных:\n",
    "\n",
    "- нарушения в стиле заголовков,\n",
    "- пропущенные значения,\n",
    "- дубликаты — явные и неявные.\n",
    "\n",
    "Вы исправили заголовки, чтобы упростить работу с таблицей. Без дубликатов исследование станет более точным.\n",
    "\n",
    "Пропущенные значения вы заменили на `'unknown'`. Ещё предстоит увидеть, не повредят ли исследованию пропуски в колонке `genre`.\n",
    "\n",
    "Теперь можно перейти к проверке гипотез."
   ]
  },
  {
   "cell_type": "markdown",
   "metadata": {
    "deletable": false,
    "editable": false,
    "id": "WttZHXH0SqKk"
   },
   "source": [
    "## Проверка гипотез"
   ]
  },
  {
   "cell_type": "markdown",
   "metadata": {
    "deletable": false,
    "editable": false,
    "id": "Im936VVi_Zcu"
   },
   "source": [
    "### Сравнение поведения пользователей двух столиц"
   ]
  },
  {
   "cell_type": "markdown",
   "metadata": {
    "deletable": false,
    "editable": false,
    "id": "nwt_MuaL_Zcu"
   },
   "source": [
    "Первая гипотеза утверждает, что пользователи по-разному слушают музыку в Москве и Санкт-Петербурге. Проверьте это предположение по данным о трёх днях недели — понедельнике, среде и пятнице. Для этого:\n",
    "\n",
    "* Разделите пользователей Москвы и Санкт-Петербурга.\n",
    "* Сравните, сколько треков послушала каждая группа пользователей в понедельник, среду и пятницу.\n"
   ]
  },
  {
   "cell_type": "markdown",
   "metadata": {
    "deletable": false,
    "editable": false,
    "id": "8Dw_YMmT_Zcu",
    "tags": [
     "start_task"
    ]
   },
   "source": [
    "**Задание 18**\n",
    "\n",
    "Для тренировки сначала выполните каждый из расчётов по отдельности.\n",
    "\n",
    "Оцените активность пользователей в каждом городе. Сгруппируйте данные по городу и посчитайте прослушивания в каждой группе.\n",
    "\n"
   ]
  },
  {
   "cell_type": "code",
   "execution_count": 426,
   "metadata": {
    "deletable": false,
    "id": "0_Qs96oh_Zcu"
   },
   "outputs": [
    {
     "data": {
      "text/plain": [
       "city\n",
       "Moscow              42741\n",
       "Saint-Petersburg    18512\n",
       "Name: genre, dtype: int64"
      ]
     },
     "execution_count": 426,
     "metadata": {},
     "output_type": "execute_result"
    }
   ],
   "source": [
    "df.groupby('city')['genre'].count()"
   ]
  },
  {
   "cell_type": "markdown",
   "metadata": {
    "deletable": false,
    "editable": false,
    "id": "dzli3w8o_Zcu",
    "tags": [
     "start_task"
    ]
   },
   "source": [
    "В Москве прослушиваний больше, чем в Петербурге. Из этого не следует, что московские пользователи чаще слушают музыку. Просто самих пользователей в Москве больше.\n",
    "\n",
    "**Задание 19**\n",
    "\n",
    "Теперь сгруппируйте данные по дню недели и посчитайте прослушивания в понедельник, среду и пятницу. Учтите, что в данных есть информация о прослушиваниях только за эти дни.\n"
   ]
  },
  {
   "cell_type": "code",
   "execution_count": 427,
   "metadata": {
    "deletable": false,
    "id": "uZMKjiJz_Zcu"
   },
   "outputs": [
    {
     "data": {
      "text/plain": [
       "day\n",
       "Friday       21840\n",
       "Monday       21354\n",
       "Wednesday    18059\n",
       "Name: genre, dtype: int64"
      ]
     },
     "execution_count": 427,
     "metadata": {},
     "output_type": "execute_result"
    }
   ],
   "source": [
    "df.groupby('day')['genre'].count()"
   ]
  },
  {
   "cell_type": "markdown",
   "metadata": {
    "deletable": false,
    "editable": false,
    "id": "cC2tNrlL_Zcu"
   },
   "source": [
    "В среднем пользователи из двух городов менее активны по средам. Но картина может измениться, если рассмотреть каждый город в отдельности."
   ]
  },
  {
   "cell_type": "markdown",
   "metadata": {
    "deletable": false,
    "editable": false,
    "id": "POzs8bGa_Zcu",
    "tags": [
     "start_task"
    ]
   },
   "source": [
    "**Задание 20**\n",
    "\n",
    "\n",
    "Вы видели, как работает группировка по городу и по дням недели. Теперь напишите функцию, которая объединит два эти расчёта.\n",
    "\n",
    "Создайте функцию `number_tracks()`, которая посчитает прослушивания для заданного дня и города. Ей понадобятся два параметра:\n",
    "* день недели,\n",
    "* название города.\n",
    "\n",
    "В функции сохраните в переменную строки исходной таблицы, у которых значение:\n",
    "  * в колонке `day` равно параметру `day`,\n",
    "  * в колонке `city` равно параметру `city`.\n",
    "\n",
    "Для этого примените последовательную фильтрацию с логической индексацией (или сложные логические выражения в одну строку, если вы уже знакомы с ними).\n",
    "\n",
    "Затем посчитайте значения в столбце `user_id` получившейся таблицы. Результат сохраните в новую переменную. Верните эту переменную из функции."
   ]
  },
  {
   "cell_type": "code",
   "execution_count": 428,
   "metadata": {
    "deletable": false,
    "id": "Nz3GdQB1_Zcu"
   },
   "outputs": [],
   "source": [
    "# <создание функции number_tracks()>\n",
    "# Объявляется функция с двумя параметрами: day, city.\n",
    "def number_tracks(day, city):\n",
    "# В переменной track_list сохраняются те строки таблицы df, для которых\n",
    "# значение в столбце 'day' равно параметру day и одновременно значение\n",
    "# в столбце 'city' равно параметру city (используйте последовательную фильтрацию\n",
    "# с помощью логической индексации или сложные логические выражения в одну строку, если вы уже знакомы с ними).\n",
    "    track_list = df[(df['day'] == day) & (df['city'] == city)]\n",
    "# В переменной track_list_count сохраняется число значений столбца 'user_id',\n",
    "# рассчитанное методом count() для таблицы track_list.\n",
    "# Функция возвращает число - значение track_list_count.\n",
    "    track_list_count = track_list['user_id'].count()\n",
    "# Функция для подсчёта прослушиваний для конкретного города и дня.\n",
    "# С помощью последовательной фильтрации с логической индексацией она\n",
    "# сначала получит из исходной таблицы строки с нужным днём,\n",
    "# затем из результата отфильтрует строки с нужным городом,\n",
    "# методом count() посчитает количество значений в колонке user_id.\n",
    "# Это количество функция вернёт в качестве результата\n",
    "    return track_list_count"
   ]
  },
  {
   "cell_type": "markdown",
   "metadata": {
    "deletable": false,
    "editable": false,
    "id": "ytf7xFrFJQ2r",
    "tags": [
     "start_task"
    ]
   },
   "source": [
    "**Задание 21**\n",
    "\n",
    "Вызовите `number_tracks()` шесть раз, меняя значение параметров — так, чтобы получить данные для каждого города в каждый из трёх дней."
   ]
  },
  {
   "cell_type": "code",
   "execution_count": 429,
   "metadata": {
    "deletable": false,
    "id": "rJcRATNQ_Zcu",
    "scrolled": true
   },
   "outputs": [
    {
     "data": {
      "text/plain": [
       "15740"
      ]
     },
     "execution_count": 429,
     "metadata": {},
     "output_type": "execute_result"
    }
   ],
   "source": [
    "cities = ['Moscow', 'Saint-Petersburg']\n",
    "days = ['Monday', 'Wednesday', 'Friday']\n",
    "# количество прослушиваний в Москве по понедельникам\n",
    "number_tracks(days[0], cities[0])"
   ]
  },
  {
   "cell_type": "code",
   "execution_count": 430,
   "metadata": {
    "deletable": false,
    "id": "hq_ncZ5T_Zcu"
   },
   "outputs": [
    {
     "data": {
      "text/plain": [
       "5614"
      ]
     },
     "execution_count": 430,
     "metadata": {},
     "output_type": "execute_result"
    }
   ],
   "source": [
    "# количество прослушиваний в Санкт-Петербурге по понедельникам\n",
    "number_tracks(days[0], cities[1])"
   ]
  },
  {
   "cell_type": "code",
   "execution_count": 431,
   "metadata": {
    "deletable": false,
    "id": "_NTy2VPU_Zcu"
   },
   "outputs": [
    {
     "data": {
      "text/plain": [
       "11056"
      ]
     },
     "execution_count": 431,
     "metadata": {},
     "output_type": "execute_result"
    }
   ],
   "source": [
    "# количество прослушиваний в Москве по средам\n",
    "number_tracks(days[1], cities[0])"
   ]
  },
  {
   "cell_type": "code",
   "execution_count": 432,
   "metadata": {
    "deletable": false,
    "id": "j2y3TAwo_Zcu"
   },
   "outputs": [
    {
     "data": {
      "text/plain": [
       "7003"
      ]
     },
     "execution_count": 432,
     "metadata": {},
     "output_type": "execute_result"
    }
   ],
   "source": [
    "# количество прослушиваний в Санкт-Петербурге по средам\n",
    "number_tracks(days[1], cities[1])"
   ]
  },
  {
   "cell_type": "code",
   "execution_count": 433,
   "metadata": {
    "deletable": false,
    "id": "vYDw5u_K_Zcu"
   },
   "outputs": [
    {
     "data": {
      "text/plain": [
       "15945"
      ]
     },
     "execution_count": 433,
     "metadata": {},
     "output_type": "execute_result"
    }
   ],
   "source": [
    "# количество прослушиваний в Москве по пятницам\n",
    "number_tracks(days[2], cities[0])"
   ]
  },
  {
   "cell_type": "code",
   "execution_count": 434,
   "metadata": {
    "deletable": false,
    "id": "8_yzFtW3_Zcu"
   },
   "outputs": [
    {
     "data": {
      "text/plain": [
       "5895"
      ]
     },
     "execution_count": 434,
     "metadata": {},
     "output_type": "execute_result"
    }
   ],
   "source": [
    "# количество прослушиваний в Санкт-Петербурге по пятницам\n",
    "number_tracks(days[2], cities[1])"
   ]
  },
  {
   "cell_type": "markdown",
   "metadata": {
    "deletable": false,
    "editable": false,
    "id": "7QXffbO-_Zcu",
    "tags": [
     "start_task"
    ]
   },
   "source": [
    "**Задание 22**\n",
    "\n",
    "С помощью конструктора `pd.DataFrame` создайте таблицу, где\n",
    "* названия колонок — `['city', 'monday', 'wednesday', 'friday']`;\n",
    "* данные — результаты, которые вы получили с помощью `number_tracks`."
   ]
  },
  {
   "cell_type": "code",
   "execution_count": 435,
   "metadata": {
    "deletable": false,
    "id": "APAcLpOr_Zcu"
   },
   "outputs": [
    {
     "data": {
      "text/html": [
       "<div>\n",
       "<style scoped>\n",
       "    .dataframe tbody tr th:only-of-type {\n",
       "        vertical-align: middle;\n",
       "    }\n",
       "\n",
       "    .dataframe tbody tr th {\n",
       "        vertical-align: top;\n",
       "    }\n",
       "\n",
       "    .dataframe thead th {\n",
       "        text-align: right;\n",
       "    }\n",
       "</style>\n",
       "<table border=\"1\" class=\"dataframe\">\n",
       "  <thead>\n",
       "    <tr style=\"text-align: right;\">\n",
       "      <th></th>\n",
       "      <th>city</th>\n",
       "      <th>monday</th>\n",
       "      <th>wednesday</th>\n",
       "      <th>friday</th>\n",
       "    </tr>\n",
       "  </thead>\n",
       "  <tbody>\n",
       "    <tr>\n",
       "      <th>0</th>\n",
       "      <td>Moscow</td>\n",
       "      <td>15740</td>\n",
       "      <td>11056</td>\n",
       "      <td>15945</td>\n",
       "    </tr>\n",
       "    <tr>\n",
       "      <th>1</th>\n",
       "      <td>Saint-Petersburg</td>\n",
       "      <td>5614</td>\n",
       "      <td>7003</td>\n",
       "      <td>5895</td>\n",
       "    </tr>\n",
       "  </tbody>\n",
       "</table>\n",
       "</div>"
      ],
      "text/plain": [
       "               city  monday  wednesday  friday\n",
       "0            Moscow   15740      11056   15945\n",
       "1  Saint-Petersburg    5614       7003    5895"
      ]
     },
     "execution_count": 435,
     "metadata": {},
     "output_type": "execute_result"
    }
   ],
   "source": [
    "# Таблица с результатами\n",
    "columns = ['city', 'monday', 'wednesday', 'friday']\n",
    "data = []\n",
    "i = 0\n",
    "for city in cities:\n",
    "    data.append([city])\n",
    "    for day in days:\n",
    "        result = number_tracks(day, city)\n",
    "        data[i].append(result)\n",
    "    i += 1\n",
    "cities_days_df = pd.DataFrame(data=data, columns=columns) \n",
    "cities_days_df"
   ]
  },
  {
   "cell_type": "markdown",
   "metadata": {
    "deletable": false,
    "editable": false,
    "id": "-EgPIHYu_Zcu"
   },
   "source": [
    "**Выводы**\n",
    "\n",
    "Данные показывают разницу поведения пользователей:\n",
    "\n",
    "- В Москве пик прослушиваний приходится на понедельник и пятницу, а в среду заметен спад.\n",
    "- В Петербурге, наоборот, больше слушают музыку по средам. Активность в понедельник и пятницу здесь почти в равной мере уступает среде.\n",
    "\n",
    "Значит, данные говорят в пользу первой гипотезы."
   ]
  },
  {
   "cell_type": "markdown",
   "metadata": {
    "deletable": false,
    "editable": false,
    "id": "atZAxtq4_Zcu"
   },
   "source": [
    "### Музыка в начале и в конце недели"
   ]
  },
  {
   "cell_type": "markdown",
   "metadata": {
    "deletable": false,
    "editable": false,
    "id": "eXrQqXFH_Zcu"
   },
   "source": [
    "Согласно второй гипотезе, утром в понедельник в Москве преобладают одни жанры, а в Петербурге — другие. Так же и вечером пятницы преобладают разные жанры — в зависимости от города."
   ]
  },
  {
   "cell_type": "markdown",
   "metadata": {
    "deletable": false,
    "editable": false,
    "id": "S8UcW6Hw_Zcu",
    "tags": [
     "start_task"
    ]
   },
   "source": [
    "**Задание 23**\n",
    "\n",
    "Сохраните таблицы с данными в две переменные:\n",
    "* по Москве — в `moscow_general`;\n",
    "* по Санкт-Петербургу — в `spb_general`."
   ]
  },
  {
   "cell_type": "code",
   "execution_count": 436,
   "metadata": {
    "deletable": false,
    "id": "qeaFfM_P_Zcu"
   },
   "outputs": [],
   "source": [
    "# получение таблицы moscow_general из тех строк таблицы df,\n",
    "# для которых значение в столбце 'city' равно 'Moscow'\n",
    "moscow_general = df[df['city'] == cities[0]]"
   ]
  },
  {
   "cell_type": "code",
   "execution_count": 437,
   "metadata": {
    "deletable": false,
    "id": "ORaVRKto_Zcu"
   },
   "outputs": [],
   "source": [
    "# получение таблицы spb_general из тех строк таблицы df,\n",
    "# для которых значение в столбце 'city' равно 'Saint-Petersburg'\n",
    "spb_general = df[df['city'] == cities[1]]"
   ]
  },
  {
   "cell_type": "markdown",
   "metadata": {
    "deletable": false,
    "id": "MEJV-CX2_Zcu",
    "tags": [
     "start_task"
    ]
   },
   "source": [
    "**Задание 24**\n",
    "\n",
    "Создайте функцию `genre_weekday()` с четырьмя параметрами:\n",
    "* таблица (датафрейм) с данными,\n",
    "* день недели,\n",
    "* начальная временная метка в формате 'hh:mm',\n",
    "* последняя временная метка в формате 'hh:mm'.\n",
    "\n",
    "Функция должна вернуть информацию о топ-10 жанров тех треков, которые прослушивали в указанный день, в промежутке между двумя отметками времени."
   ]
  },
  {
   "cell_type": "code",
   "execution_count": 438,
   "metadata": {
    "deletable": false,
    "id": "laJT9BYl_Zcu"
   },
   "outputs": [],
   "source": [
    "# Объявление функции genre_weekday() с параметрами df, day, time1, time2,\n",
    "# которая возвращает информацию о самых популярных жанрах в указанный день в\n",
    "# заданное время:\n",
    "# 1) в переменную genre_df сохраняются те строки переданного датафрейма df, для\n",
    "#    которых одновременно:\n",
    "#    - значение в столбце day равно значению аргумента day\n",
    "#    - значение в столбце time больше значения аргумента time1\n",
    "#    - значение в столбце time меньше значения аргумента time2\n",
    "#    Используйте последовательную фильтрацию с помощью логической индексации.\n",
    "# 2) сгруппировать датафрейм genre_df по столбцу genre, взять один из его\n",
    "#    столбцов и посчитать методом count() количество записей для каждого из\n",
    "#    присутствующих жанров, получившийся Series записать в переменную\n",
    "#    genre_df_grouped\n",
    "# 3) отсортировать genre_df_grouped по убыванию встречаемости и сохранить\n",
    "#    в переменную genre_df_sorted\n",
    "# 4) вернуть Series из 10 первых значений genre_df_sorted, это будут топ-10\n",
    "#    популярных жанров (в указанный день, в заданное время)\n",
    "\n",
    "def genre_weekday(df, day, time1, time2):\n",
    "    # последовательная фильтрация\n",
    "    # оставляем в genre_df только те строки df, у которых день равен day\n",
    "    # оставляем в genre_df только те строки genre_df, у которых время меньше time2\n",
    "    # оставляем в genre_df только те строки genre_df, у которых время больше time1\n",
    "    genre_df = df[(df['day'] == day) & (df['time'] > time1) & (df['time'] < time2)]\n",
    "    # сгруппируем отфильтрованный датафрейм по столбцу с названиями жанров, возьмём столбец genre и посчитаем кол-во строк для каждого жанра методом count()\n",
    "    genre_df_grouped = genre_df.groupby('genre')['genre'].count()\n",
    "    # отсортируем результат по убыванию (чтобы в начале Series оказались самые популярные жанры)\n",
    "    genre_df_sorted = genre_df_grouped.sort_values(ascending=False)\n",
    "    # вернём Series с 10 самыми популярными жанрами в указанный отрезок времени заданного дня\n",
    "    return genre_df_sorted[:10]"
   ]
  },
  {
   "cell_type": "markdown",
   "metadata": {
    "deletable": false,
    "editable": false,
    "id": "la2s2_PF_Zcu",
    "tags": [
     "start_task"
    ]
   },
   "source": [
    "**Задание 25**\n",
    "\n",
    "\n",
    "Cравните результаты функции `genre_weekday()` для Москвы и Санкт-Петербурга в понедельник утром (с 7:00 до 11:00) и в пятницу вечером (с 17:00 до 23:00):"
   ]
  },
  {
   "cell_type": "code",
   "execution_count": 439,
   "metadata": {
    "deletable": false,
    "id": "yz7itPUQ_Zcu"
   },
   "outputs": [
    {
     "data": {
      "text/plain": [
       "genre\n",
       "pop            781\n",
       "dance          549\n",
       "electronic     480\n",
       "rock           474\n",
       "hiphop         286\n",
       "ruspop         186\n",
       "world          181\n",
       "rusrap         175\n",
       "alternative    164\n",
       "unknown        161\n",
       "Name: genre, dtype: int64"
      ]
     },
     "execution_count": 439,
     "metadata": {},
     "output_type": "execute_result"
    }
   ],
   "source": [
    "# вызов функции для утра понедельника в Москве (вместо df — таблица moscow_general)\n",
    "# объекты, хранящие время, являются строками и сравниваются как строки\n",
    "# пример вызова: genre_weekday(moscow_general, 'Monday', '07:00', '11:00')\n",
    "genre_weekday(moscow_general, days[0], '07:00', '11:00')"
   ]
  },
  {
   "cell_type": "code",
   "execution_count": 440,
   "metadata": {
    "deletable": false,
    "id": "kwUcHPdy_Zcu"
   },
   "outputs": [
    {
     "data": {
      "text/plain": [
       "genre\n",
       "pop            218\n",
       "dance          182\n",
       "rock           162\n",
       "electronic     147\n",
       "hiphop          80\n",
       "ruspop          64\n",
       "alternative     58\n",
       "rusrap          55\n",
       "jazz            44\n",
       "classical       40\n",
       "Name: genre, dtype: int64"
      ]
     },
     "execution_count": 440,
     "metadata": {},
     "output_type": "execute_result"
    }
   ],
   "source": [
    "# вызов функции для утра понедельника в Петербурге (вместо df — таблица spb_general)\n",
    "genre_weekday(spb_general, days[0], '07:00', '11:00')"
   ]
  },
  {
   "cell_type": "code",
   "execution_count": 441,
   "metadata": {
    "deletable": false,
    "id": "EzXVRE1o_Zcu"
   },
   "outputs": [
    {
     "data": {
      "text/plain": [
       "genre\n",
       "pop            713\n",
       "rock           517\n",
       "dance          495\n",
       "electronic     482\n",
       "hiphop         273\n",
       "world          208\n",
       "ruspop         170\n",
       "alternative    163\n",
       "classical      163\n",
       "rusrap         142\n",
       "Name: genre, dtype: int64"
      ]
     },
     "execution_count": 441,
     "metadata": {},
     "output_type": "execute_result"
    }
   ],
   "source": [
    "# вызов функции для вечера пятницы в Москве\n",
    "genre_weekday(moscow_general, days[2], '17:00', '23:00')"
   ]
  },
  {
   "cell_type": "code",
   "execution_count": 442,
   "metadata": {
    "deletable": false,
    "id": "JZaEKu5v_Zcu",
    "scrolled": true
   },
   "outputs": [
    {
     "data": {
      "text/plain": [
       "genre\n",
       "pop            256\n",
       "electronic     216\n",
       "rock           216\n",
       "dance          210\n",
       "hiphop          97\n",
       "alternative     63\n",
       "jazz            61\n",
       "classical       60\n",
       "rusrap          59\n",
       "world           54\n",
       "Name: genre, dtype: int64"
      ]
     },
     "execution_count": 442,
     "metadata": {},
     "output_type": "execute_result"
    }
   ],
   "source": [
    "# вызов функции для вечера пятницы в Петербурге\n",
    "genre_weekday(spb_general, days[2], '17:00', '23:00')"
   ]
  },
  {
   "cell_type": "markdown",
   "metadata": {
    "deletable": false,
    "editable": false,
    "id": "wrCe4MNX_Zcu"
   },
   "source": [
    "**Выводы**\n",
    "\n",
    "Если сравнить топ-10 жанров в понедельник утром, можно сделать такие выводы:\n",
    "\n",
    "1. В Москве и Петербурге слушают похожую музыку. Единственное различие — в московский рейтинг вошёл жанр “world”, а в петербургский — джаз и классика.\n",
    "\n",
    "2. В Москве пропущенных значений оказалось так много, что значение `'unknown'` заняло десятое место среди самых популярных жанров. Значит, пропущенные значения занимают существенную долю в данных и угрожают достоверности исследования.\n",
    "\n",
    "Вечер пятницы не меняет эту картину. Некоторые жанры поднимаются немного выше, другие спускаются, но в целом топ-10 остаётся тем же самым.\n",
    "\n",
    "Таким образом, вторая гипотеза подтвердилась лишь частично:\n",
    "* Пользователи слушают похожую музыку в начале недели и в конце.\n",
    "* Разница между Москвой и Петербургом не слишком выражена. В Москве чаще слушают русскую популярную музыку, в Петербурге — джаз.\n",
    "\n",
    "Однако пропуски в данных ставят под сомнение этот результат. В Москве их так много, что рейтинг топ-10 мог бы выглядеть иначе, если бы не утерянные  данные о жанрах."
   ]
  },
  {
   "cell_type": "markdown",
   "metadata": {
    "deletable": false,
    "editable": false,
    "id": "JolODAqr_Zcu"
   },
   "source": [
    "### Жанровые предпочтения в Москве и Петербурге\n",
    "\n",
    "Гипотеза: Петербург — столица рэпа, музыку этого жанра там слушают чаще, чем в Москве.  А Москва — город контрастов, в котором, тем не менее, преобладает поп-музыка."
   ]
  },
  {
   "cell_type": "markdown",
   "metadata": {
    "deletable": false,
    "editable": false,
    "id": "DlegSvaT_Zcu",
    "tags": [
     "start_task"
    ]
   },
   "source": [
    "**Задание 26**\n",
    "\n",
    "Сгруппируйте таблицу `moscow_general` по жанру и посчитайте прослушивания треков каждого жанра методом `count()`. Затем отсортируйте результат в порядке убывания и сохраните его в таблице `moscow_genres`."
   ]
  },
  {
   "cell_type": "code",
   "execution_count": 444,
   "metadata": {
    "deletable": false,
    "id": "r19lIPke_Zcu"
   },
   "outputs": [],
   "source": [
    "# одной строкой: группировка таблицы moscow_general по столбцу 'genre',\n",
    "# подсчёт числа значений 'genre' в этой группировке методом count(),\n",
    "# сортировка получившегося Series в порядке убывания и сохранение в moscow_genres\n",
    "moscow_genres = moscow_general.groupby('genre')['genre'].count().sort_values(ascending=False)"
   ]
  },
  {
   "cell_type": "markdown",
   "metadata": {
    "deletable": false,
    "editable": false,
    "id": "6kMuomxTiIr8",
    "tags": [
     "start_task"
    ]
   },
   "source": [
    "**Задание 27**\n",
    "\n",
    "Выведите на экран первые десять строк `moscow_genres`:"
   ]
  },
  {
   "cell_type": "code",
   "execution_count": 364,
   "metadata": {
    "deletable": false,
    "id": "WhCSooF8_Zcv",
    "scrolled": true
   },
   "outputs": [
    {
     "data": {
      "text/plain": [
       "genre\n",
       "pop            5892\n",
       "dance          4435\n",
       "rock           3965\n",
       "electronic     3786\n",
       "hiphop         2096\n",
       "classical      1616\n",
       "world          1432\n",
       "alternative    1379\n",
       "ruspop         1372\n",
       "rusrap         1161\n",
       "Name: genre, dtype: int64"
      ]
     },
     "execution_count": 364,
     "metadata": {},
     "output_type": "execute_result"
    }
   ],
   "source": [
    "# просмотр первых 10 строк moscow_genres\n",
    "moscow_genres.head(10)"
   ]
  },
  {
   "cell_type": "markdown",
   "metadata": {
    "deletable": false,
    "editable": false,
    "id": "cnPG2vnN_Zcv",
    "tags": [
     "start_task"
    ]
   },
   "source": [
    "**Задание 28**\n",
    "\n",
    "\n",
    "Теперь повторите то же и для Петербурга.\n",
    "\n",
    "Сгруппируйте таблицу `spb_general` по жанру. Посчитайте прослушивания треков каждого жанра. Результат отсортируйте в порядке убывания и сохраните в таблице `spb_genres`:\n"
   ]
  },
  {
   "cell_type": "code",
   "execution_count": 37,
   "metadata": {
    "deletable": false,
    "id": "gluLIpE7_Zcv"
   },
   "outputs": [],
   "source": [
    "# одной строкой: группировка таблицы spb_general по столбцу 'genre',\n",
    "# подсчёт числа значений 'genre' в этой группировке методом count(),\n",
    "# сортировка получившегося Series в порядке убывания и сохранение в spb_genres\n",
    "spb_genres = spb_general.groupby('genre')['genre'].count().sort_values(ascending=False)"
   ]
  },
  {
   "cell_type": "markdown",
   "metadata": {
    "deletable": false,
    "editable": false,
    "id": "5Doha_ODgyQ8",
    "tags": [
     "start_task"
    ]
   },
   "source": [
    "**Задание 29**\n",
    "\n",
    "Выведите на экран первые десять строк `spb_genres`:"
   ]
  },
  {
   "cell_type": "code",
   "execution_count": 38,
   "metadata": {
    "deletable": false,
    "id": "uaGJHjVU_Zcv"
   },
   "outputs": [
    {
     "data": {
      "text/plain": [
       "genre\n",
       "pop            2431\n",
       "dance          1932\n",
       "rock           1879\n",
       "electronic     1736\n",
       "hiphop          960\n",
       "alternative     649\n",
       "classical       646\n",
       "rusrap          564\n",
       "ruspop          538\n",
       "world           515\n",
       "Name: genre, dtype: int64"
      ]
     },
     "execution_count": 38,
     "metadata": {},
     "output_type": "execute_result"
    }
   ],
   "source": [
    "# просмотр первых 10 строк spb_genres\n",
    "spb_genres.head(10)"
   ]
  },
  {
   "cell_type": "markdown",
   "metadata": {
    "deletable": false,
    "editable": false,
    "id": "RY51YJYu_Zcv"
   },
   "source": [
    "**Выводы**"
   ]
  },
  {
   "cell_type": "markdown",
   "metadata": {
    "deletable": false,
    "editable": false,
    "id": "nVhnJEm__Zcv"
   },
   "source": [
    "Гипотеза частично подтвердилась:\n",
    "* Поп-музыка — самый популярный жанр в Москве, как и предполагала гипотеза. Более того, в топ-10 жанров встречается близкий жанр — русская популярная музыка.\n",
    "* Вопреки ожиданиям, рэп одинаково популярен в Москве и Петербурге.\n"
   ]
  },
  {
   "cell_type": "markdown",
   "metadata": {
    "deletable": false,
    "editable": false,
    "id": "ykKQ0N65_Zcv"
   },
   "source": [
    "## Итоги исследования"
   ]
  },
  {
   "cell_type": "markdown",
   "metadata": {
    "deletable": false,
    "editable": false,
    "id": "tjUwbHb3_Zcv"
   },
   "source": [
    "Вы проверили три гипотезы и установили:\n",
    "\n",
    "1. День недели по-разному влияет на активность пользователей в Москве и Петербурге.\n",
    "\n",
    "Первая гипотеза полностью подтвердилась.\n",
    "\n",
    "2. Музыкальные предпочтения не сильно меняются в течение недели — будь то Москва или Петербург. Небольшие различия заметны в начале недели, по понедельникам:\n",
    "* в Москве слушают музыку жанра “world”,\n",
    "* в Петербурге — джаз и классику.\n",
    "\n",
    "Таким образом, вторая гипотеза подтвердилась лишь отчасти. Этот результат мог оказаться иным, если бы не пропуски в данных.\n",
    "\n",
    "3. Во вкусах пользователей Москвы и Петербурга больше общего, чем различий. Вопреки ожиданиям, предпочтения жанров в Петербурге напоминают московские.\n",
    "\n",
    "Третья гипотеза не подтвердилась. Если различия в предпочтениях и существуют, на основной массе пользователей они незаметны.\n",
    "\n",
    "**На практике исследования содержат проверки статистических гипотез.**\n",
    "Из данных одного сервиса не всегда можно сделать вывод о всех жителях города.\n",
    "Проверки статистических гипотез покажут, насколько они достоверны, исходя из имеющихся данных.\n",
    "С методами проверок гипотез вы ещё познакомитесь в следующих темах."
   ]
  }
 ],
 "metadata": {
  "ExecuteTimeLog": [
   {
    "duration": 47,
    "start_time": "2023-07-21T12:59:57.309Z"
   },
   {
    "duration": 5,
    "start_time": "2023-07-21T13:00:08.677Z"
   },
   {
    "duration": 9,
    "start_time": "2023-07-21T13:00:18.248Z"
   },
   {
    "duration": 436,
    "start_time": "2023-07-21T13:00:32.310Z"
   },
   {
    "duration": 442,
    "start_time": "2023-07-21T13:00:35.679Z"
   },
   {
    "duration": 16,
    "start_time": "2023-07-21T13:00:40.127Z"
   },
   {
    "duration": 28,
    "start_time": "2023-07-21T13:01:24.289Z"
   },
   {
    "duration": 3,
    "start_time": "2023-07-21T13:01:37.330Z"
   },
   {
    "duration": 11,
    "start_time": "2023-07-21T13:01:47.135Z"
   },
   {
    "duration": 4,
    "start_time": "2023-07-21T13:01:50.214Z"
   },
   {
    "duration": 12,
    "start_time": "2023-07-21T13:02:08.812Z"
   },
   {
    "duration": 4,
    "start_time": "2023-07-21T13:02:12.481Z"
   },
   {
    "duration": 23,
    "start_time": "2023-07-21T13:02:20.291Z"
   },
   {
    "duration": 19,
    "start_time": "2023-07-21T13:08:45.257Z"
   },
   {
    "duration": 22,
    "start_time": "2023-07-21T13:08:49.537Z"
   },
   {
    "duration": 69,
    "start_time": "2023-07-21T13:10:26.469Z"
   },
   {
    "duration": 59,
    "start_time": "2023-07-21T13:10:59.649Z"
   },
   {
    "duration": 74,
    "start_time": "2023-07-21T13:12:22.048Z"
   },
   {
    "duration": 65,
    "start_time": "2023-07-21T13:12:25.202Z"
   },
   {
    "duration": 4,
    "start_time": "2023-07-21T13:15:23.967Z"
   },
   {
    "duration": 9,
    "start_time": "2023-07-21T13:15:33.391Z"
   },
   {
    "duration": 10,
    "start_time": "2023-07-21T13:22:34.769Z"
   },
   {
    "duration": 9,
    "start_time": "2023-07-21T13:23:01.798Z"
   },
   {
    "duration": 47,
    "start_time": "2023-07-21T14:55:37.725Z"
   },
   {
    "duration": 354,
    "start_time": "2023-07-21T14:56:02.086Z"
   },
   {
    "duration": 237,
    "start_time": "2023-07-21T14:56:05.689Z"
   },
   {
    "duration": 16,
    "start_time": "2023-07-21T14:56:09.116Z"
   },
   {
    "duration": 29,
    "start_time": "2023-07-21T14:56:14.304Z"
   },
   {
    "duration": 4,
    "start_time": "2023-07-21T14:56:26.257Z"
   },
   {
    "duration": 11,
    "start_time": "2023-07-21T14:56:33.695Z"
   },
   {
    "duration": 3,
    "start_time": "2023-07-21T14:56:37.565Z"
   },
   {
    "duration": 26,
    "start_time": "2023-07-21T14:56:44.734Z"
   },
   {
    "duration": 18,
    "start_time": "2023-07-21T14:56:50.098Z"
   },
   {
    "duration": 22,
    "start_time": "2023-07-21T14:56:54.256Z"
   },
   {
    "duration": 64,
    "start_time": "2023-07-21T14:56:58.875Z"
   },
   {
    "duration": 78,
    "start_time": "2023-07-21T14:57:05.057Z"
   },
   {
    "duration": 56,
    "start_time": "2023-07-21T14:57:09.343Z"
   },
   {
    "duration": 9,
    "start_time": "2023-07-21T14:57:17.731Z"
   },
   {
    "duration": 11,
    "start_time": "2023-07-21T14:57:26.163Z"
   },
   {
    "duration": 10,
    "start_time": "2023-07-21T14:57:29.918Z"
   },
   {
    "duration": 11,
    "start_time": "2023-07-21T14:57:32.770Z"
   },
   {
    "duration": 28,
    "start_time": "2023-07-21T14:57:41.289Z"
   },
   {
    "duration": 11,
    "start_time": "2023-07-21T14:59:17.825Z"
   },
   {
    "duration": 11,
    "start_time": "2023-07-21T15:01:23.228Z"
   },
   {
    "duration": 138,
    "start_time": "2023-07-21T15:07:47.779Z"
   },
   {
    "duration": 101,
    "start_time": "2023-07-21T15:08:03.576Z"
   },
   {
    "duration": 93,
    "start_time": "2023-07-21T15:08:32.329Z"
   },
   {
    "duration": 91,
    "start_time": "2023-07-21T15:09:19.025Z"
   },
   {
    "duration": 5,
    "start_time": "2023-07-21T15:09:38.616Z"
   },
   {
    "duration": 153,
    "start_time": "2023-07-21T15:10:05.489Z"
   },
   {
    "duration": 3,
    "start_time": "2023-07-21T15:10:17.204Z"
   },
   {
    "duration": 35,
    "start_time": "2023-07-21T15:14:21.698Z"
   },
   {
    "duration": 21,
    "start_time": "2023-07-21T15:16:23.099Z"
   },
   {
    "duration": 4,
    "start_time": "2023-07-21T15:17:14.942Z"
   },
   {
    "duration": 13,
    "start_time": "2023-07-21T15:18:43.716Z"
   },
   {
    "duration": 12,
    "start_time": "2023-07-21T15:19:49.923Z"
   },
   {
    "duration": 3,
    "start_time": "2023-07-21T15:20:24.206Z"
   },
   {
    "duration": 17,
    "start_time": "2023-07-21T15:20:27.555Z"
   },
   {
    "duration": 17,
    "start_time": "2023-07-21T15:20:32.346Z"
   },
   {
    "duration": 15,
    "start_time": "2023-07-21T15:20:35.663Z"
   },
   {
    "duration": 15,
    "start_time": "2023-07-21T15:20:38.103Z"
   },
   {
    "duration": 16,
    "start_time": "2023-07-21T15:20:42.208Z"
   },
   {
    "duration": 14,
    "start_time": "2023-07-21T15:20:49.731Z"
   },
   {
    "duration": 20,
    "start_time": "2023-07-21T15:27:57.294Z"
   },
   {
    "duration": 58,
    "start_time": "2023-07-21T15:28:32.644Z"
   },
   {
    "duration": 72,
    "start_time": "2023-07-21T15:28:45.788Z"
   },
   {
    "duration": 1444,
    "start_time": "2023-07-21T15:31:17.179Z"
   },
   {
    "duration": 1508,
    "start_time": "2023-07-21T15:31:38.245Z"
   },
   {
    "duration": 18,
    "start_time": "2023-07-21T15:31:52.704Z"
   },
   {
    "duration": 17,
    "start_time": "2023-07-21T15:32:31.914Z"
   },
   {
    "duration": 4,
    "start_time": "2023-07-21T15:36:30.777Z"
   },
   {
    "duration": 3,
    "start_time": "2023-07-21T15:36:41.487Z"
   },
   {
    "duration": 13,
    "start_time": "2023-07-21T15:36:44.844Z"
   },
   {
    "duration": 3,
    "start_time": "2023-07-21T15:38:06.554Z"
   },
   {
    "duration": 13,
    "start_time": "2023-07-21T15:38:09.960Z"
   },
   {
    "duration": 4,
    "start_time": "2023-07-21T15:40:02.428Z"
   },
   {
    "duration": 15,
    "start_time": "2023-07-21T15:40:05.677Z"
   },
   {
    "duration": 3,
    "start_time": "2023-07-21T15:41:48.759Z"
   },
   {
    "duration": 16,
    "start_time": "2023-07-21T15:41:54.214Z"
   },
   {
    "duration": 14,
    "start_time": "2023-07-21T15:41:57.374Z"
   },
   {
    "duration": 14,
    "start_time": "2023-07-21T15:42:00.383Z"
   },
   {
    "duration": 16,
    "start_time": "2023-07-21T15:42:03.158Z"
   },
   {
    "duration": 14,
    "start_time": "2023-07-21T15:42:05.186Z"
   },
   {
    "duration": 15,
    "start_time": "2023-07-21T15:42:10.344Z"
   },
   {
    "duration": 65,
    "start_time": "2023-07-21T15:42:16.826Z"
   },
   {
    "duration": 18,
    "start_time": "2023-07-21T15:42:27.399Z"
   },
   {
    "duration": 4,
    "start_time": "2023-07-21T15:52:55.896Z"
   },
   {
    "duration": 371,
    "start_time": "2023-07-21T15:53:32.785Z"
   },
   {
    "duration": 6,
    "start_time": "2023-07-21T15:54:21.776Z"
   },
   {
    "duration": 4,
    "start_time": "2023-07-21T15:55:02.919Z"
   },
   {
    "duration": 21,
    "start_time": "2023-07-21T15:55:06.883Z"
   },
   {
    "duration": 4,
    "start_time": "2023-07-21T15:56:28.521Z"
   },
   {
    "duration": 15,
    "start_time": "2023-07-21T15:56:31.369Z"
   },
   {
    "duration": 11,
    "start_time": "2023-07-21T15:57:05.055Z"
   },
   {
    "duration": 16,
    "start_time": "2023-07-21T15:58:11.346Z"
   },
   {
    "duration": 11,
    "start_time": "2023-07-21T15:58:33.985Z"
   },
   {
    "duration": 374,
    "start_time": "2023-07-22T08:08:02.630Z"
   },
   {
    "duration": 212,
    "start_time": "2023-07-22T08:08:05.450Z"
   },
   {
    "duration": 16,
    "start_time": "2023-07-22T08:08:09.570Z"
   },
   {
    "duration": 24,
    "start_time": "2023-07-22T08:08:14.628Z"
   },
   {
    "duration": 2,
    "start_time": "2023-07-22T08:08:18.853Z"
   },
   {
    "duration": 3,
    "start_time": "2023-07-22T08:08:24.023Z"
   },
   {
    "duration": 10,
    "start_time": "2023-07-22T08:08:29.860Z"
   },
   {
    "duration": 5,
    "start_time": "2023-07-22T08:08:33.157Z"
   },
   {
    "duration": 20,
    "start_time": "2023-07-22T08:08:37.941Z"
   },
   {
    "duration": 17,
    "start_time": "2023-07-22T08:08:42.733Z"
   },
   {
    "duration": 20,
    "start_time": "2023-07-22T08:08:46.696Z"
   },
   {
    "duration": 62,
    "start_time": "2023-07-22T08:08:53.838Z"
   },
   {
    "duration": 75,
    "start_time": "2023-07-22T08:08:57.670Z"
   },
   {
    "duration": 60,
    "start_time": "2023-07-22T08:09:00.420Z"
   },
   {
    "duration": 11,
    "start_time": "2023-07-22T08:09:04.570Z"
   },
   {
    "duration": 10,
    "start_time": "2023-07-22T08:09:17.110Z"
   },
   {
    "duration": 10,
    "start_time": "2023-07-22T08:09:21.240Z"
   },
   {
    "duration": 11,
    "start_time": "2023-07-22T08:09:35.050Z"
   },
   {
    "duration": 16,
    "start_time": "2023-07-22T08:09:44.311Z"
   },
   {
    "duration": 3,
    "start_time": "2023-07-22T08:09:49.871Z"
   },
   {
    "duration": 15,
    "start_time": "2023-07-22T08:10:09.470Z"
   },
   {
    "duration": 12,
    "start_time": "2023-07-22T08:10:15.578Z"
   },
   {
    "duration": 14,
    "start_time": "2023-07-22T08:10:18.440Z"
   },
   {
    "duration": 14,
    "start_time": "2023-07-22T08:10:20.670Z"
   },
   {
    "duration": 14,
    "start_time": "2023-07-22T08:10:23.050Z"
   },
   {
    "duration": 13,
    "start_time": "2023-07-22T08:10:23.680Z"
   },
   {
    "duration": 19,
    "start_time": "2023-07-22T08:11:41.400Z"
   },
   {
    "duration": 17,
    "start_time": "2023-07-22T08:11:46.220Z"
   },
   {
    "duration": 4,
    "start_time": "2023-07-22T08:11:51.711Z"
   },
   {
    "duration": 14,
    "start_time": "2023-07-22T08:12:15.527Z"
   },
   {
    "duration": 11,
    "start_time": "2023-07-22T08:12:19.878Z"
   },
   {
    "duration": 16,
    "start_time": "2023-07-22T08:12:22.370Z"
   },
   {
    "duration": 11,
    "start_time": "2023-07-22T08:12:25.684Z"
   },
   {
    "duration": 64,
    "start_time": "2023-07-22T08:14:56.766Z"
   },
   {
    "duration": 9,
    "start_time": "2023-07-22T08:15:11.675Z"
   },
   {
    "duration": 4,
    "start_time": "2023-07-22T08:15:31.080Z"
   },
   {
    "duration": 7,
    "start_time": "2023-07-22T08:16:27.183Z"
   },
   {
    "duration": 6,
    "start_time": "2023-07-22T08:16:29.432Z"
   },
   {
    "duration": 149,
    "start_time": "2023-07-22T08:25:32.649Z"
   },
   {
    "duration": 9,
    "start_time": "2023-07-22T08:26:17.500Z"
   },
   {
    "duration": 26,
    "start_time": "2023-07-22T08:26:38.281Z"
   },
   {
    "duration": 2,
    "start_time": "2023-07-22T08:28:54.621Z"
   },
   {
    "duration": 49,
    "start_time": "2023-07-22T08:33:39.479Z"
   },
   {
    "duration": 11,
    "start_time": "2023-07-22T08:35:27.038Z"
   },
   {
    "duration": 9,
    "start_time": "2023-07-22T08:36:33.410Z"
   },
   {
    "duration": 45,
    "start_time": "2023-07-22T08:36:45.710Z"
   },
   {
    "duration": 3112,
    "start_time": "2023-07-22T08:39:30.571Z"
   },
   {
    "duration": 1858,
    "start_time": "2023-07-22T08:41:23.961Z"
   },
   {
    "duration": 2228,
    "start_time": "2023-07-22T08:41:39.574Z"
   },
   {
    "duration": 1428,
    "start_time": "2023-07-22T08:42:12.980Z"
   },
   {
    "duration": 1894,
    "start_time": "2023-07-22T08:43:15.801Z"
   },
   {
    "duration": 1781,
    "start_time": "2023-07-22T08:43:33.041Z"
   },
   {
    "duration": 1370,
    "start_time": "2023-07-22T08:43:46.910Z"
   },
   {
    "duration": 2046,
    "start_time": "2023-07-22T08:44:36.313Z"
   },
   {
    "duration": 2,
    "start_time": "2023-07-22T08:44:49.941Z"
   },
   {
    "duration": 150,
    "start_time": "2023-07-22T08:44:49.945Z"
   },
   {
    "duration": 11,
    "start_time": "2023-07-22T08:44:50.096Z"
   },
   {
    "duration": 30,
    "start_time": "2023-07-22T08:44:50.108Z"
   },
   {
    "duration": 2,
    "start_time": "2023-07-22T08:44:50.140Z"
   },
   {
    "duration": 9,
    "start_time": "2023-07-22T08:44:50.143Z"
   },
   {
    "duration": 10,
    "start_time": "2023-07-22T08:44:50.153Z"
   },
   {
    "duration": 4,
    "start_time": "2023-07-22T08:44:50.164Z"
   },
   {
    "duration": 32,
    "start_time": "2023-07-22T08:44:50.171Z"
   },
   {
    "duration": 30,
    "start_time": "2023-07-22T08:44:50.204Z"
   },
   {
    "duration": 20,
    "start_time": "2023-07-22T08:44:50.236Z"
   },
   {
    "duration": 73,
    "start_time": "2023-07-22T08:44:50.257Z"
   },
   {
    "duration": 57,
    "start_time": "2023-07-22T08:44:50.331Z"
   },
   {
    "duration": 66,
    "start_time": "2023-07-22T08:44:50.390Z"
   },
   {
    "duration": 44,
    "start_time": "2023-07-22T08:44:50.457Z"
   },
   {
    "duration": 23,
    "start_time": "2023-07-22T08:44:50.503Z"
   },
   {
    "duration": 55,
    "start_time": "2023-07-22T08:44:50.527Z"
   },
   {
    "duration": 11,
    "start_time": "2023-07-22T08:44:50.583Z"
   },
   {
    "duration": 29,
    "start_time": "2023-07-22T08:44:50.595Z"
   },
   {
    "duration": 29,
    "start_time": "2023-07-22T08:44:50.626Z"
   },
   {
    "duration": 47,
    "start_time": "2023-07-22T08:44:50.657Z"
   },
   {
    "duration": 48,
    "start_time": "2023-07-22T08:44:50.705Z"
   },
   {
    "duration": 61,
    "start_time": "2023-07-22T08:44:50.754Z"
   },
   {
    "duration": 30,
    "start_time": "2023-07-22T08:44:50.818Z"
   },
   {
    "duration": 46,
    "start_time": "2023-07-22T08:44:50.849Z"
   },
   {
    "duration": 25,
    "start_time": "2023-07-22T08:44:50.896Z"
   },
   {
    "duration": 73,
    "start_time": "2023-07-22T08:44:50.922Z"
   },
   {
    "duration": 18,
    "start_time": "2023-07-22T08:45:06.943Z"
   },
   {
    "duration": 10,
    "start_time": "2023-07-22T08:45:39.526Z"
   },
   {
    "duration": 12,
    "start_time": "2023-07-22T08:45:45.095Z"
   },
   {
    "duration": 20,
    "start_time": "2023-07-22T08:46:18.125Z"
   },
   {
    "duration": 2,
    "start_time": "2023-07-22T08:47:16.630Z"
   },
   {
    "duration": 145,
    "start_time": "2023-07-22T08:47:16.634Z"
   },
   {
    "duration": 8,
    "start_time": "2023-07-22T08:47:16.781Z"
   },
   {
    "duration": 30,
    "start_time": "2023-07-22T08:47:16.791Z"
   },
   {
    "duration": 2,
    "start_time": "2023-07-22T08:47:16.823Z"
   },
   {
    "duration": 13,
    "start_time": "2023-07-22T08:47:16.826Z"
   },
   {
    "duration": 8,
    "start_time": "2023-07-22T08:47:16.840Z"
   },
   {
    "duration": 4,
    "start_time": "2023-07-22T08:47:16.850Z"
   },
   {
    "duration": 27,
    "start_time": "2023-07-22T08:47:16.855Z"
   },
   {
    "duration": 15,
    "start_time": "2023-07-22T08:47:16.884Z"
   },
   {
    "duration": 29,
    "start_time": "2023-07-22T08:47:16.901Z"
   },
   {
    "duration": 57,
    "start_time": "2023-07-22T08:47:16.931Z"
   },
   {
    "duration": 69,
    "start_time": "2023-07-22T08:47:16.990Z"
   },
   {
    "duration": 58,
    "start_time": "2023-07-22T08:47:17.062Z"
   },
   {
    "duration": 49,
    "start_time": "2023-07-22T08:47:17.122Z"
   },
   {
    "duration": 17,
    "start_time": "2023-07-22T08:47:17.173Z"
   },
   {
    "duration": 54,
    "start_time": "2023-07-22T08:47:17.192Z"
   },
   {
    "duration": 11,
    "start_time": "2023-07-22T08:47:17.248Z"
   },
   {
    "duration": 11,
    "start_time": "2023-07-22T08:47:17.261Z"
   },
   {
    "duration": 3,
    "start_time": "2023-07-22T08:47:17.274Z"
   },
   {
    "duration": 21,
    "start_time": "2023-07-22T08:47:17.279Z"
   },
   {
    "duration": 13,
    "start_time": "2023-07-22T08:47:17.321Z"
   },
   {
    "duration": 16,
    "start_time": "2023-07-22T08:47:17.336Z"
   },
   {
    "duration": 12,
    "start_time": "2023-07-22T08:47:17.354Z"
   },
   {
    "duration": 22,
    "start_time": "2023-07-22T08:47:17.367Z"
   },
   {
    "duration": 31,
    "start_time": "2023-07-22T08:47:17.390Z"
   },
   {
    "duration": 61,
    "start_time": "2023-07-22T08:47:17.422Z"
   },
   {
    "duration": 12,
    "start_time": "2023-07-22T08:47:25.290Z"
   },
   {
    "duration": 8,
    "start_time": "2023-07-22T08:48:01.340Z"
   },
   {
    "duration": 8,
    "start_time": "2023-07-22T08:50:03.000Z"
   },
   {
    "duration": 9,
    "start_time": "2023-07-22T08:51:05.180Z"
   },
   {
    "duration": 8,
    "start_time": "2023-07-22T08:52:12.190Z"
   },
   {
    "duration": 2,
    "start_time": "2023-07-22T08:52:23.002Z"
   },
   {
    "duration": 179,
    "start_time": "2023-07-22T08:52:23.006Z"
   },
   {
    "duration": 9,
    "start_time": "2023-07-22T08:52:23.187Z"
   },
   {
    "duration": 41,
    "start_time": "2023-07-22T08:52:23.198Z"
   },
   {
    "duration": 15,
    "start_time": "2023-07-22T08:52:23.241Z"
   },
   {
    "duration": 24,
    "start_time": "2023-07-22T08:52:23.257Z"
   },
   {
    "duration": 40,
    "start_time": "2023-07-22T08:52:23.283Z"
   },
   {
    "duration": 5,
    "start_time": "2023-07-22T08:52:23.324Z"
   },
   {
    "duration": 26,
    "start_time": "2023-07-22T08:52:23.330Z"
   },
   {
    "duration": 41,
    "start_time": "2023-07-22T08:52:23.357Z"
   },
   {
    "duration": 34,
    "start_time": "2023-07-22T08:52:23.400Z"
   },
   {
    "duration": 67,
    "start_time": "2023-07-22T08:52:23.436Z"
   },
   {
    "duration": 54,
    "start_time": "2023-07-22T08:52:23.504Z"
   },
   {
    "duration": 51,
    "start_time": "2023-07-22T08:52:23.561Z"
   },
   {
    "duration": 48,
    "start_time": "2023-07-22T08:52:23.620Z"
   },
   {
    "duration": 9,
    "start_time": "2023-07-22T08:52:23.670Z"
   },
   {
    "duration": 59,
    "start_time": "2023-07-22T08:52:23.680Z"
   },
   {
    "duration": 10,
    "start_time": "2023-07-22T08:52:23.740Z"
   },
   {
    "duration": 25,
    "start_time": "2023-07-22T08:52:23.751Z"
   },
   {
    "duration": 11,
    "start_time": "2023-07-22T08:52:23.777Z"
   },
   {
    "duration": 21,
    "start_time": "2023-07-22T08:52:23.790Z"
   },
   {
    "duration": 17,
    "start_time": "2023-07-22T08:52:23.812Z"
   },
   {
    "duration": 43,
    "start_time": "2023-07-22T08:52:23.831Z"
   },
   {
    "duration": 23,
    "start_time": "2023-07-22T08:52:23.876Z"
   },
   {
    "duration": 25,
    "start_time": "2023-07-22T08:52:23.901Z"
   },
   {
    "duration": 17,
    "start_time": "2023-07-22T08:52:23.927Z"
   },
   {
    "duration": 80,
    "start_time": "2023-07-22T08:52:23.946Z"
   },
   {
    "duration": 8,
    "start_time": "2023-07-22T08:52:24.028Z"
   },
   {
    "duration": 10,
    "start_time": "2023-07-22T08:52:24.038Z"
   },
   {
    "duration": 5,
    "start_time": "2023-07-22T08:52:24.050Z"
   },
   {
    "duration": 20,
    "start_time": "2023-07-22T08:52:24.057Z"
   },
   {
    "duration": 21,
    "start_time": "2023-07-22T08:52:24.079Z"
   },
   {
    "duration": 31,
    "start_time": "2023-07-22T08:52:24.101Z"
   },
   {
    "duration": 11,
    "start_time": "2023-07-22T08:52:24.133Z"
   },
   {
    "duration": 2,
    "start_time": "2023-07-22T08:53:44.351Z"
   },
   {
    "duration": 162,
    "start_time": "2023-07-22T08:53:44.355Z"
   },
   {
    "duration": 10,
    "start_time": "2023-07-22T08:53:44.518Z"
   },
   {
    "duration": 28,
    "start_time": "2023-07-22T08:53:44.529Z"
   },
   {
    "duration": 14,
    "start_time": "2023-07-22T08:53:44.559Z"
   },
   {
    "duration": 11,
    "start_time": "2023-07-22T08:53:44.574Z"
   },
   {
    "duration": 8,
    "start_time": "2023-07-22T08:53:44.586Z"
   },
   {
    "duration": 8,
    "start_time": "2023-07-22T08:53:44.596Z"
   },
   {
    "duration": 25,
    "start_time": "2023-07-22T08:53:44.605Z"
   },
   {
    "duration": 23,
    "start_time": "2023-07-22T08:53:44.632Z"
   },
   {
    "duration": 22,
    "start_time": "2023-07-22T08:53:44.656Z"
   },
   {
    "duration": 56,
    "start_time": "2023-07-22T08:53:44.680Z"
   },
   {
    "duration": 53,
    "start_time": "2023-07-22T08:53:44.737Z"
   },
   {
    "duration": 62,
    "start_time": "2023-07-22T08:53:44.793Z"
   },
   {
    "duration": 43,
    "start_time": "2023-07-22T08:53:44.856Z"
   },
   {
    "duration": 19,
    "start_time": "2023-07-22T08:53:44.901Z"
   },
   {
    "duration": 57,
    "start_time": "2023-07-22T08:53:44.921Z"
   },
   {
    "duration": 10,
    "start_time": "2023-07-22T08:53:44.980Z"
   },
   {
    "duration": 20,
    "start_time": "2023-07-22T08:53:44.992Z"
   },
   {
    "duration": 57,
    "start_time": "2023-07-22T08:53:45.013Z"
   },
   {
    "duration": 41,
    "start_time": "2023-07-22T08:53:45.071Z"
   },
   {
    "duration": 30,
    "start_time": "2023-07-22T08:53:45.114Z"
   },
   {
    "duration": 19,
    "start_time": "2023-07-22T08:53:45.146Z"
   },
   {
    "duration": 17,
    "start_time": "2023-07-22T08:53:45.167Z"
   },
   {
    "duration": 30,
    "start_time": "2023-07-22T08:53:45.186Z"
   },
   {
    "duration": 75,
    "start_time": "2023-07-22T08:53:45.217Z"
   },
   {
    "duration": 201,
    "start_time": "2023-07-22T08:53:45.293Z"
   },
   {
    "duration": 10,
    "start_time": "2023-07-22T08:53:45.495Z"
   },
   {
    "duration": 15,
    "start_time": "2023-07-22T08:53:45.506Z"
   },
   {
    "duration": 18,
    "start_time": "2023-07-22T08:53:45.523Z"
   },
   {
    "duration": 45,
    "start_time": "2023-07-22T08:53:45.543Z"
   },
   {
    "duration": 21,
    "start_time": "2023-07-22T08:53:45.589Z"
   },
   {
    "duration": 31,
    "start_time": "2023-07-22T08:53:45.611Z"
   },
   {
    "duration": 12,
    "start_time": "2023-07-22T08:54:32.940Z"
   },
   {
    "duration": 8,
    "start_time": "2023-07-22T08:54:53.266Z"
   },
   {
    "duration": 2,
    "start_time": "2023-07-22T08:55:17.592Z"
   },
   {
    "duration": 175,
    "start_time": "2023-07-22T08:55:17.596Z"
   },
   {
    "duration": 10,
    "start_time": "2023-07-22T08:55:17.773Z"
   },
   {
    "duration": 37,
    "start_time": "2023-07-22T08:55:17.784Z"
   },
   {
    "duration": 6,
    "start_time": "2023-07-22T08:55:17.824Z"
   },
   {
    "duration": 17,
    "start_time": "2023-07-22T08:55:17.832Z"
   },
   {
    "duration": 13,
    "start_time": "2023-07-22T08:55:17.850Z"
   },
   {
    "duration": 18,
    "start_time": "2023-07-22T08:55:17.864Z"
   },
   {
    "duration": 40,
    "start_time": "2023-07-22T08:55:17.883Z"
   },
   {
    "duration": 25,
    "start_time": "2023-07-22T08:55:17.924Z"
   },
   {
    "duration": 27,
    "start_time": "2023-07-22T08:55:17.950Z"
   },
   {
    "duration": 206,
    "start_time": "2023-07-22T08:55:17.978Z"
   },
   {
    "duration": 95,
    "start_time": "2023-07-22T08:55:18.185Z"
   },
   {
    "duration": 55,
    "start_time": "2023-07-22T08:55:18.283Z"
   },
   {
    "duration": 45,
    "start_time": "2023-07-22T08:55:18.339Z"
   },
   {
    "duration": 13,
    "start_time": "2023-07-22T08:55:18.386Z"
   },
   {
    "duration": 53,
    "start_time": "2023-07-22T08:55:18.401Z"
   },
   {
    "duration": 11,
    "start_time": "2023-07-22T08:55:18.455Z"
   },
   {
    "duration": 19,
    "start_time": "2023-07-22T08:55:18.468Z"
   },
   {
    "duration": 6,
    "start_time": "2023-07-22T08:55:18.489Z"
   },
   {
    "duration": 57,
    "start_time": "2023-07-22T08:55:18.496Z"
   },
   {
    "duration": 29,
    "start_time": "2023-07-22T08:55:18.554Z"
   },
   {
    "duration": 24,
    "start_time": "2023-07-22T08:55:18.585Z"
   },
   {
    "duration": 47,
    "start_time": "2023-07-22T08:55:18.610Z"
   },
   {
    "duration": 35,
    "start_time": "2023-07-22T08:55:18.659Z"
   },
   {
    "duration": 76,
    "start_time": "2023-07-22T08:55:18.696Z"
   },
   {
    "duration": 69,
    "start_time": "2023-07-22T08:55:18.773Z"
   },
   {
    "duration": 8,
    "start_time": "2023-07-22T08:55:18.844Z"
   },
   {
    "duration": 27,
    "start_time": "2023-07-22T08:55:18.853Z"
   },
   {
    "duration": 4,
    "start_time": "2023-07-22T08:55:18.882Z"
   },
   {
    "duration": 43,
    "start_time": "2023-07-22T08:55:18.887Z"
   },
   {
    "duration": 29,
    "start_time": "2023-07-22T08:55:18.932Z"
   },
   {
    "duration": 35,
    "start_time": "2023-07-22T08:55:18.962Z"
   },
   {
    "duration": 20,
    "start_time": "2023-07-22T08:55:18.998Z"
   },
   {
    "duration": 9,
    "start_time": "2023-07-22T08:55:22.401Z"
   },
   {
    "duration": 3,
    "start_time": "2023-07-22T08:55:50.966Z"
   },
   {
    "duration": 169,
    "start_time": "2023-07-22T08:55:50.971Z"
   },
   {
    "duration": 10,
    "start_time": "2023-07-22T08:55:51.142Z"
   },
   {
    "duration": 38,
    "start_time": "2023-07-22T08:55:51.153Z"
   },
   {
    "duration": 20,
    "start_time": "2023-07-22T08:55:51.193Z"
   },
   {
    "duration": 26,
    "start_time": "2023-07-22T08:55:51.215Z"
   },
   {
    "duration": 19,
    "start_time": "2023-07-22T08:55:51.242Z"
   },
   {
    "duration": 15,
    "start_time": "2023-07-22T08:55:51.262Z"
   },
   {
    "duration": 36,
    "start_time": "2023-07-22T08:55:51.279Z"
   },
   {
    "duration": 56,
    "start_time": "2023-07-22T08:55:51.316Z"
   },
   {
    "duration": 40,
    "start_time": "2023-07-22T08:55:51.373Z"
   },
   {
    "duration": 75,
    "start_time": "2023-07-22T08:55:51.414Z"
   },
   {
    "duration": 56,
    "start_time": "2023-07-22T08:55:51.491Z"
   },
   {
    "duration": 50,
    "start_time": "2023-07-22T08:55:51.549Z"
   },
   {
    "duration": 49,
    "start_time": "2023-07-22T08:55:51.601Z"
   },
   {
    "duration": 9,
    "start_time": "2023-07-22T08:55:51.652Z"
   },
   {
    "duration": 60,
    "start_time": "2023-07-22T08:55:51.662Z"
   },
   {
    "duration": 10,
    "start_time": "2023-07-22T08:55:51.723Z"
   },
   {
    "duration": 20,
    "start_time": "2023-07-22T08:55:51.734Z"
   },
   {
    "duration": 4,
    "start_time": "2023-07-22T08:55:51.756Z"
   },
   {
    "duration": 22,
    "start_time": "2023-07-22T08:55:51.761Z"
   },
   {
    "duration": 44,
    "start_time": "2023-07-22T08:55:51.785Z"
   },
   {
    "duration": 24,
    "start_time": "2023-07-22T08:55:51.831Z"
   },
   {
    "duration": 48,
    "start_time": "2023-07-22T08:55:51.857Z"
   },
   {
    "duration": 32,
    "start_time": "2023-07-22T08:55:51.907Z"
   },
   {
    "duration": 29,
    "start_time": "2023-07-22T08:55:51.940Z"
   },
   {
    "duration": 77,
    "start_time": "2023-07-22T08:55:51.970Z"
   },
   {
    "duration": 9,
    "start_time": "2023-07-22T08:55:52.049Z"
   },
   {
    "duration": 24,
    "start_time": "2023-07-22T08:55:52.059Z"
   },
   {
    "duration": 10,
    "start_time": "2023-07-22T08:55:52.085Z"
   },
   {
    "duration": 35,
    "start_time": "2023-07-22T08:55:52.096Z"
   },
   {
    "duration": 12,
    "start_time": "2023-07-22T08:55:52.132Z"
   },
   {
    "duration": 16,
    "start_time": "2023-07-22T08:55:52.145Z"
   },
   {
    "duration": 12,
    "start_time": "2023-07-22T08:55:52.162Z"
   },
   {
    "duration": 4,
    "start_time": "2023-07-22T08:56:01.500Z"
   },
   {
    "duration": 2,
    "start_time": "2023-07-22T08:56:12.441Z"
   },
   {
    "duration": 157,
    "start_time": "2023-07-22T08:56:12.445Z"
   },
   {
    "duration": 10,
    "start_time": "2023-07-22T08:56:12.603Z"
   },
   {
    "duration": 27,
    "start_time": "2023-07-22T08:56:12.614Z"
   },
   {
    "duration": 1,
    "start_time": "2023-07-22T08:56:12.644Z"
   },
   {
    "duration": 11,
    "start_time": "2023-07-22T08:56:12.647Z"
   },
   {
    "duration": 11,
    "start_time": "2023-07-22T08:56:12.660Z"
   },
   {
    "duration": 6,
    "start_time": "2023-07-22T08:56:12.672Z"
   },
   {
    "duration": 22,
    "start_time": "2023-07-22T08:56:12.679Z"
   },
   {
    "duration": 28,
    "start_time": "2023-07-22T08:56:12.703Z"
   },
   {
    "duration": 18,
    "start_time": "2023-07-22T08:56:12.732Z"
   },
   {
    "duration": 70,
    "start_time": "2023-07-22T08:56:12.751Z"
   },
   {
    "duration": 57,
    "start_time": "2023-07-22T08:56:12.822Z"
   },
   {
    "duration": 61,
    "start_time": "2023-07-22T08:56:12.883Z"
   },
   {
    "duration": 42,
    "start_time": "2023-07-22T08:56:12.946Z"
   },
   {
    "duration": 10,
    "start_time": "2023-07-22T08:56:12.990Z"
   },
   {
    "duration": 57,
    "start_time": "2023-07-22T08:56:13.002Z"
   },
   {
    "duration": 10,
    "start_time": "2023-07-22T08:56:13.061Z"
   },
   {
    "duration": 22,
    "start_time": "2023-07-22T08:56:13.072Z"
   },
   {
    "duration": 42,
    "start_time": "2023-07-22T08:56:13.095Z"
   },
   {
    "duration": 25,
    "start_time": "2023-07-22T08:56:13.139Z"
   },
   {
    "duration": 41,
    "start_time": "2023-07-22T08:56:13.166Z"
   },
   {
    "duration": 30,
    "start_time": "2023-07-22T08:56:13.208Z"
   },
   {
    "duration": 14,
    "start_time": "2023-07-22T08:56:13.240Z"
   },
   {
    "duration": 31,
    "start_time": "2023-07-22T08:56:13.256Z"
   },
   {
    "duration": 45,
    "start_time": "2023-07-22T08:56:13.289Z"
   },
   {
    "duration": 70,
    "start_time": "2023-07-22T08:56:13.336Z"
   },
   {
    "duration": 13,
    "start_time": "2023-07-22T08:56:13.408Z"
   },
   {
    "duration": 10,
    "start_time": "2023-07-22T08:56:13.422Z"
   },
   {
    "duration": 13,
    "start_time": "2023-07-22T08:56:13.433Z"
   },
   {
    "duration": 55,
    "start_time": "2023-07-22T08:56:13.447Z"
   },
   {
    "duration": 35,
    "start_time": "2023-07-22T08:56:13.504Z"
   },
   {
    "duration": 46,
    "start_time": "2023-07-22T08:56:13.541Z"
   },
   {
    "duration": 22,
    "start_time": "2023-07-22T08:56:13.589Z"
   },
   {
    "duration": 26,
    "start_time": "2023-07-22T08:56:13.612Z"
   },
   {
    "duration": 5,
    "start_time": "2023-07-22T08:56:13.640Z"
   },
   {
    "duration": 7,
    "start_time": "2023-07-22T08:56:34.221Z"
   },
   {
    "duration": 2,
    "start_time": "2023-07-22T08:57:16.764Z"
   },
   {
    "duration": 149,
    "start_time": "2023-07-22T08:57:16.768Z"
   },
   {
    "duration": 9,
    "start_time": "2023-07-22T08:57:16.919Z"
   },
   {
    "duration": 26,
    "start_time": "2023-07-22T08:57:16.930Z"
   },
   {
    "duration": 16,
    "start_time": "2023-07-22T08:57:16.958Z"
   },
   {
    "duration": 6,
    "start_time": "2023-07-22T08:57:16.975Z"
   },
   {
    "duration": 12,
    "start_time": "2023-07-22T08:57:16.982Z"
   },
   {
    "duration": 7,
    "start_time": "2023-07-22T08:57:16.996Z"
   },
   {
    "duration": 24,
    "start_time": "2023-07-22T08:57:17.004Z"
   },
   {
    "duration": 20,
    "start_time": "2023-07-22T08:57:17.029Z"
   },
   {
    "duration": 21,
    "start_time": "2023-07-22T08:57:17.050Z"
   },
   {
    "duration": 58,
    "start_time": "2023-07-22T08:57:17.073Z"
   },
   {
    "duration": 58,
    "start_time": "2023-07-22T08:57:17.133Z"
   },
   {
    "duration": 61,
    "start_time": "2023-07-22T08:57:17.193Z"
   },
   {
    "duration": 44,
    "start_time": "2023-07-22T08:57:17.256Z"
   },
   {
    "duration": 8,
    "start_time": "2023-07-22T08:57:17.320Z"
   },
   {
    "duration": 46,
    "start_time": "2023-07-22T08:57:17.330Z"
   },
   {
    "duration": 11,
    "start_time": "2023-07-22T08:57:17.377Z"
   },
   {
    "duration": 11,
    "start_time": "2023-07-22T08:57:17.389Z"
   },
   {
    "duration": 5,
    "start_time": "2023-07-22T08:57:17.420Z"
   },
   {
    "duration": 31,
    "start_time": "2023-07-22T08:57:17.427Z"
   },
   {
    "duration": 17,
    "start_time": "2023-07-22T08:57:17.460Z"
   },
   {
    "duration": 13,
    "start_time": "2023-07-22T08:57:17.479Z"
   },
   {
    "duration": 18,
    "start_time": "2023-07-22T08:57:17.494Z"
   },
   {
    "duration": 18,
    "start_time": "2023-07-22T08:57:17.514Z"
   },
   {
    "duration": 12,
    "start_time": "2023-07-22T08:57:17.534Z"
   },
   {
    "duration": 77,
    "start_time": "2023-07-22T08:57:17.547Z"
   },
   {
    "duration": 9,
    "start_time": "2023-07-22T08:57:17.625Z"
   },
   {
    "duration": 8,
    "start_time": "2023-07-22T08:57:17.636Z"
   },
   {
    "duration": 6,
    "start_time": "2023-07-22T08:57:17.645Z"
   },
   {
    "duration": 22,
    "start_time": "2023-07-22T08:57:17.653Z"
   },
   {
    "duration": 10,
    "start_time": "2023-07-22T08:57:17.677Z"
   },
   {
    "duration": 36,
    "start_time": "2023-07-22T08:57:17.688Z"
   },
   {
    "duration": 9,
    "start_time": "2023-07-22T08:57:17.726Z"
   },
   {
    "duration": 20,
    "start_time": "2023-07-22T08:57:17.737Z"
   },
   {
    "duration": 3,
    "start_time": "2023-07-22T09:05:13.454Z"
   },
   {
    "duration": 150,
    "start_time": "2023-07-22T09:05:13.459Z"
   },
   {
    "duration": 10,
    "start_time": "2023-07-22T09:05:13.611Z"
   },
   {
    "duration": 33,
    "start_time": "2023-07-22T09:05:13.622Z"
   },
   {
    "duration": 3,
    "start_time": "2023-07-22T09:05:13.657Z"
   },
   {
    "duration": 7,
    "start_time": "2023-07-22T09:05:13.662Z"
   },
   {
    "duration": 19,
    "start_time": "2023-07-22T09:05:13.671Z"
   },
   {
    "duration": 19,
    "start_time": "2023-07-22T09:05:13.692Z"
   },
   {
    "duration": 21,
    "start_time": "2023-07-22T09:05:13.712Z"
   },
   {
    "duration": 15,
    "start_time": "2023-07-22T09:05:13.735Z"
   },
   {
    "duration": 23,
    "start_time": "2023-07-22T09:05:13.751Z"
   },
   {
    "duration": 70,
    "start_time": "2023-07-22T09:05:13.776Z"
   },
   {
    "duration": 57,
    "start_time": "2023-07-22T09:05:13.848Z"
   },
   {
    "duration": 51,
    "start_time": "2023-07-22T09:05:13.919Z"
   },
   {
    "duration": 64,
    "start_time": "2023-07-22T09:05:13.972Z"
   },
   {
    "duration": 11,
    "start_time": "2023-07-22T09:05:14.038Z"
   },
   {
    "duration": 67,
    "start_time": "2023-07-22T09:05:14.051Z"
   },
   {
    "duration": 10,
    "start_time": "2023-07-22T09:05:14.120Z"
   },
   {
    "duration": 12,
    "start_time": "2023-07-22T09:05:14.132Z"
   },
   {
    "duration": 4,
    "start_time": "2023-07-22T09:05:14.145Z"
   },
   {
    "duration": 27,
    "start_time": "2023-07-22T09:05:14.151Z"
   },
   {
    "duration": 40,
    "start_time": "2023-07-22T09:05:14.180Z"
   },
   {
    "duration": 36,
    "start_time": "2023-07-22T09:05:14.222Z"
   },
   {
    "duration": 32,
    "start_time": "2023-07-22T09:05:14.260Z"
   },
   {
    "duration": 18,
    "start_time": "2023-07-22T09:05:14.293Z"
   },
   {
    "duration": 40,
    "start_time": "2023-07-22T09:05:14.312Z"
   },
   {
    "duration": 72,
    "start_time": "2023-07-22T09:05:14.354Z"
   },
   {
    "duration": 12,
    "start_time": "2023-07-22T09:05:14.428Z"
   },
   {
    "duration": 20,
    "start_time": "2023-07-22T09:05:14.442Z"
   },
   {
    "duration": 6,
    "start_time": "2023-07-22T09:05:14.464Z"
   },
   {
    "duration": 23,
    "start_time": "2023-07-22T09:05:14.471Z"
   },
   {
    "duration": 12,
    "start_time": "2023-07-22T09:05:14.496Z"
   },
   {
    "duration": 30,
    "start_time": "2023-07-22T09:05:14.510Z"
   },
   {
    "duration": 26,
    "start_time": "2023-07-22T09:05:14.542Z"
   },
   {
    "duration": 12,
    "start_time": "2023-07-22T09:05:19.193Z"
   },
   {
    "duration": 4,
    "start_time": "2023-07-22T09:43:15.313Z"
   },
   {
    "duration": 5,
    "start_time": "2023-07-22T09:43:34.217Z"
   },
   {
    "duration": 8,
    "start_time": "2023-07-22T09:43:50.630Z"
   },
   {
    "duration": 2,
    "start_time": "2023-07-22T09:44:19.088Z"
   },
   {
    "duration": 175,
    "start_time": "2023-07-22T09:44:19.092Z"
   },
   {
    "duration": 9,
    "start_time": "2023-07-22T09:44:19.269Z"
   },
   {
    "duration": 27,
    "start_time": "2023-07-22T09:44:19.280Z"
   },
   {
    "duration": 11,
    "start_time": "2023-07-22T09:44:19.309Z"
   },
   {
    "duration": 4,
    "start_time": "2023-07-22T09:44:19.321Z"
   },
   {
    "duration": 14,
    "start_time": "2023-07-22T09:44:19.327Z"
   },
   {
    "duration": 11,
    "start_time": "2023-07-22T09:44:19.343Z"
   },
   {
    "duration": 23,
    "start_time": "2023-07-22T09:44:19.356Z"
   },
   {
    "duration": 28,
    "start_time": "2023-07-22T09:44:19.381Z"
   },
   {
    "duration": 24,
    "start_time": "2023-07-22T09:44:19.420Z"
   },
   {
    "duration": 63,
    "start_time": "2023-07-22T09:44:19.445Z"
   },
   {
    "duration": 64,
    "start_time": "2023-07-22T09:44:19.509Z"
   },
   {
    "duration": 67,
    "start_time": "2023-07-22T09:44:19.576Z"
   },
   {
    "duration": 44,
    "start_time": "2023-07-22T09:44:19.645Z"
   },
   {
    "duration": 29,
    "start_time": "2023-07-22T09:44:19.691Z"
   },
   {
    "duration": 45,
    "start_time": "2023-07-22T09:44:19.721Z"
   },
   {
    "duration": 10,
    "start_time": "2023-07-22T09:44:19.768Z"
   },
   {
    "duration": 15,
    "start_time": "2023-07-22T09:44:19.779Z"
   },
   {
    "duration": 24,
    "start_time": "2023-07-22T09:44:19.796Z"
   },
   {
    "duration": 16,
    "start_time": "2023-07-22T09:44:19.821Z"
   },
   {
    "duration": 17,
    "start_time": "2023-07-22T09:44:19.839Z"
   },
   {
    "duration": 34,
    "start_time": "2023-07-22T09:44:19.858Z"
   },
   {
    "duration": 28,
    "start_time": "2023-07-22T09:44:19.893Z"
   },
   {
    "duration": 19,
    "start_time": "2023-07-22T09:44:19.922Z"
   },
   {
    "duration": 24,
    "start_time": "2023-07-22T09:44:19.943Z"
   },
   {
    "duration": 66,
    "start_time": "2023-07-22T09:44:19.968Z"
   },
   {
    "duration": 9,
    "start_time": "2023-07-22T09:44:20.035Z"
   },
   {
    "duration": 70,
    "start_time": "2023-07-22T09:44:20.046Z"
   },
   {
    "duration": 29,
    "start_time": "2023-07-22T09:44:20.117Z"
   },
   {
    "duration": 22,
    "start_time": "2023-07-22T09:44:20.147Z"
   },
   {
    "duration": 41,
    "start_time": "2023-07-22T09:44:20.170Z"
   },
   {
    "duration": 68,
    "start_time": "2023-07-22T09:44:20.213Z"
   },
   {
    "duration": 38,
    "start_time": "2023-07-22T09:44:20.282Z"
   },
   {
    "duration": 10,
    "start_time": "2023-07-22T09:44:21.955Z"
   },
   {
    "duration": 8,
    "start_time": "2023-07-22T09:44:37.632Z"
   },
   {
    "duration": 2597,
    "start_time": "2023-07-22T09:44:55.000Z"
   },
   {
    "duration": 2058,
    "start_time": "2023-07-22T09:45:10.932Z"
   },
   {
    "duration": 3454,
    "start_time": "2023-07-22T09:45:16.420Z"
   },
   {
    "duration": 7,
    "start_time": "2023-07-22T09:45:22.691Z"
   },
   {
    "duration": 8,
    "start_time": "2023-07-22T09:46:41.232Z"
   },
   {
    "duration": 8,
    "start_time": "2023-07-22T09:47:26.416Z"
   },
   {
    "duration": 3,
    "start_time": "2023-07-22T09:47:31.781Z"
   },
   {
    "duration": 200,
    "start_time": "2023-07-22T09:47:31.786Z"
   },
   {
    "duration": 11,
    "start_time": "2023-07-22T09:47:31.988Z"
   },
   {
    "duration": 52,
    "start_time": "2023-07-22T09:47:32.000Z"
   },
   {
    "duration": 7,
    "start_time": "2023-07-22T09:47:32.055Z"
   },
   {
    "duration": 18,
    "start_time": "2023-07-22T09:47:32.064Z"
   },
   {
    "duration": 37,
    "start_time": "2023-07-22T09:47:32.084Z"
   },
   {
    "duration": 26,
    "start_time": "2023-07-22T09:47:32.123Z"
   },
   {
    "duration": 43,
    "start_time": "2023-07-22T09:47:32.151Z"
   },
   {
    "duration": 28,
    "start_time": "2023-07-22T09:47:32.195Z"
   },
   {
    "duration": 34,
    "start_time": "2023-07-22T09:47:32.224Z"
   },
   {
    "duration": 72,
    "start_time": "2023-07-22T09:47:32.259Z"
   },
   {
    "duration": 59,
    "start_time": "2023-07-22T09:47:32.332Z"
   },
   {
    "duration": 80,
    "start_time": "2023-07-22T09:47:32.394Z"
   },
   {
    "duration": 47,
    "start_time": "2023-07-22T09:47:32.475Z"
   },
   {
    "duration": 38,
    "start_time": "2023-07-22T09:47:32.523Z"
   },
   {
    "duration": 50,
    "start_time": "2023-07-22T09:47:32.562Z"
   },
   {
    "duration": 9,
    "start_time": "2023-07-22T09:47:32.614Z"
   },
   {
    "duration": 24,
    "start_time": "2023-07-22T09:47:32.625Z"
   },
   {
    "duration": 14,
    "start_time": "2023-07-22T09:47:32.651Z"
   },
   {
    "duration": 29,
    "start_time": "2023-07-22T09:47:32.667Z"
   },
   {
    "duration": 417,
    "start_time": "2023-07-22T09:47:32.698Z"
   },
   {
    "duration": 25,
    "start_time": "2023-07-22T09:47:33.117Z"
   },
   {
    "duration": 19,
    "start_time": "2023-07-22T09:47:33.144Z"
   },
   {
    "duration": 18,
    "start_time": "2023-07-22T09:47:33.165Z"
   },
   {
    "duration": 16,
    "start_time": "2023-07-22T09:47:33.184Z"
   },
   {
    "duration": 69,
    "start_time": "2023-07-22T09:47:33.202Z"
   },
   {
    "duration": 8,
    "start_time": "2023-07-22T09:47:33.273Z"
   },
   {
    "duration": 38,
    "start_time": "2023-07-22T09:47:33.283Z"
   },
   {
    "duration": 29,
    "start_time": "2023-07-22T09:47:33.322Z"
   },
   {
    "duration": 52,
    "start_time": "2023-07-22T09:47:33.353Z"
   },
   {
    "duration": 22,
    "start_time": "2023-07-22T09:47:33.406Z"
   },
   {
    "duration": 31,
    "start_time": "2023-07-22T09:47:33.430Z"
   },
   {
    "duration": 27,
    "start_time": "2023-07-22T09:47:33.462Z"
   },
   {
    "duration": 12,
    "start_time": "2023-07-22T09:47:34.306Z"
   },
   {
    "duration": 8,
    "start_time": "2023-07-22T09:49:02.843Z"
   }
  ],
  "colab": {
   "collapsed_sections": [
    "E0vqbgi9ay0H",
    "VUC88oWjTJw2"
   ],
   "provenance": []
  },
  "kernelspec": {
   "display_name": "Python 3 (ipykernel)",
   "language": "python",
   "name": "python3"
  },
  "language_info": {
   "codemirror_mode": {
    "name": "ipython",
    "version": 3
   },
   "file_extension": ".py",
   "mimetype": "text/x-python",
   "name": "python",
   "nbconvert_exporter": "python",
   "pygments_lexer": "ipython3",
   "version": "3.9.11"
  },
  "toc": {
   "base_numbering": 1,
   "nav_menu": {
    "height": "215px",
    "width": "403px"
   },
   "number_sections": true,
   "sideBar": true,
   "skip_h1_title": true,
   "title_cell": "Table of Contents",
   "title_sidebar": "Contents",
   "toc_cell": false,
   "toc_position": {
    "height": "calc(100% - 180px)",
    "left": "10px",
    "top": "150px",
    "width": "285.825px"
   },
   "toc_section_display": true,
   "toc_window_display": false
  }
 },
 "nbformat": 4,
 "nbformat_minor": 1
}
